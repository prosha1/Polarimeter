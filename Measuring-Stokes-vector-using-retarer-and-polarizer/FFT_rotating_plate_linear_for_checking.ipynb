{
 "cells": [
  {
   "cell_type": "markdown",
   "metadata": {},
   "source": [
    "### FFT with rotating plate\n",
    "\n",
    "The setup was conducted as follows:\n",
    "\n",
    "\n",
    "1.The laser with wavelength $\\lambda$ = 660 nm was calibrated to hit the polarimeter at the end of the setup centrally.\n",
    "\n",
    "\n",
    "2.A train consisting of linear polarizer LP2 (Pol.), $\\frac{\\lambda}{2}$-WP 600 - 2700 nm and\n",
    "$\\frac{\\lambda}{4}$-WP 690 - 1200 nm was assembled and placed into the laser beam.\n",
    "\n",
    "\n",
    "3.By rotating the WPs of the train horizontally polarized light was set.\n",
    "\n",
    "The angles of the optical elements in the train in the order set were $\\Theta_{1}=49^{\\circ}$\n",
    ", $\\Theta_{2}=227^{\\circ}$ and $\\Theta_{3}=???^{\\circ}$\n",
    "\n",
    ", because the last plate holder had no markings.\n",
    "\n",
    "The parameters of the horizontally polarized light were: S1=1.000 ; S2=-0.002 ; S3=-0.004 ; DOP=103.9 % and power=-19.61 dBm\n",
    "\n",
    "Annotation: The angle of LP2 (Pol.) in the train could have been set that maximum intensity is transmitted, but wasn't.\n",
    "\n",
    "\n",
    "4.In order to find the angle $\\alpha$\n",
    "of the x-axis following procedure was used. Another linear polarizer LP3, which is here also referred to as P1, was inserted after the train and rotated until maximum intensity was measured by the polarimeter.This was the case for $\\alpha_{1}=131^{\\circ}$\n",
    "\n",
    "The measured parameters were:\n",
    "\n",
    "S1=0.999 ; S2=0.001 ; S3=0.041 ; DOP=103.7 % and power=-21.3 dBm\n",
    "\n",
    "\n",
    "5.Another linear polarizer LP1, which is here also referred as P2, was inserted behind P1 just in front of the polarimeter and rotated until maximum intensity was measured by the polarimeter.This was the case for $\\alpha_{2}=336^{\\circ}$\n",
    "\n",
    "The measured parameters were:\n",
    "\n",
    "S1=1.000 ; S2=0.002 ; S3=0.002 ; DOP=103.7 % and power=-21.95 dBm\n",
    "\n",
    "Now the angle of P2 is set to transmit horizontally polarized light most effectively and therefore this angle is assigned to the x-axis. Accordingly, in relation to the x-axis P2 is now set at $\\alpha$=0.\n",
    "This position is not changed during the measurement\n",
    "\n",
    "\n",
    "6.All components are removed, except the train, and horizontally polarized light intended for measurement is set.\n",
    "\n",
    "S1=0.999 ; S2=0.003 ; S3=0.020 ; DOP=103.6 % and power=-19.42 dBm\n",
    "\n",
    "\n",
    "7.Behind the train we insert the $\\frac{\\lambda}{4}$\n",
    "-WP 600 - 2700 nm in the rotating wheel and behind the wheel we insert LP1 as P2 at angle $\\alpha$=0\n",
    "\n",
    "\n",
    "8.The wheel is rotated from 0 to 2 𝜋\n",
    "and 361 equally distanced data points are recorded"
   ]
  },
  {
   "cell_type": "markdown",
   "metadata": {},
   "source": [
    "### Read in data for setup like in paper"
   ]
  },
  {
   "cell_type": "code",
   "execution_count": 461,
   "metadata": {},
   "outputs": [
    {
     "name": "stdout",
     "output_type": "stream",
     "text": [
      "['20190521/103527_polarimeter_vs_wheel/103527_polarimeter_vs_wheel.dat']\n"
     ]
    }
   ],
   "source": [
    "import numpy as np\n",
    "import matplotlib.pyplot as plt\n",
    "\n",
    "from sympy import Symbol, cos, sin, pi, sqrt, symbols\n",
    "from sympy.matrices import *\n",
    "from sympy.utilities.lambdify import lambdify\n",
    "from sympy.interactive.printing import init_printing\n",
    "from sympy.interactive import printing\n",
    "printing.init_printing(use_latex=True)\n",
    "\n",
    "from scipy.optimize import curve_fit, minimize\n",
    "from scipy import fftpack\n",
    "import os\n",
    "from os.path import join, getsize\n",
    "\n",
    "directories=[]\n",
    "\n",
    "# Some names for the data files to know which polarization\n",
    "# 20190515[0]horizontal polarization\n",
    "# 20190515[1]vertical polarization\n",
    "# 20190516[0]diagonal polarization\n",
    "# 20190520[0]antidiagonal polarization\n",
    "# 20190521[0]left-circular polarization\n",
    "# 20190521[1]right-circular polarization\n",
    "\n",
    "for root, dirs, files in os.walk('20190521/'):\n",
    "    if files != []:\n",
    "        a=str(root)+str('/')+str(files[0])\n",
    "        directories.append(a)\n",
    "\n",
    "# Only horizontally polarized light\n",
    "directories=directories[2:3]\n",
    "print(directories)\n",
    "data=[]\n",
    "measurement_point_all=[]\n",
    "angle_all=[]\n",
    "s1_all=[]\n",
    "s2_all=[]\n",
    "s3_all=[]\n",
    "dop_all=[]\n",
    "power_all=[]\n",
    "\n",
    "for i in directories:\n",
    "    f=open(i)\n",
    "    lines=f.readlines()\n",
    "    for i in range(26):\n",
    "        lines.pop(0)\n",
    "    measurement_point=[]\n",
    "    angle=[]\n",
    "    s1=[]\n",
    "    s2=[]\n",
    "    s3=[]\n",
    "    dop=[]\n",
    "    power=[]\n",
    "    for line in lines:\n",
    "        measurement_point.append( line.strip().split('\\t')[0] )\n",
    "        angle.append( line.strip().split('\\t')[1] )\n",
    "        s1.append( line.strip().split('\\t')[2] )\n",
    "        s2.append( line.strip().split('\\t')[3] )\n",
    "        s3.append( line.strip().split('\\t')[4] )\n",
    "        dop.append( line.strip().split('\\t')[5] )\n",
    "        power.append( line.strip().split('\\t')[6] )\n",
    "    measurement_point_all.append(measurement_point)\n",
    "    angle_all.append(angle)\n",
    "    s1_all.append(s1)\n",
    "    s2_all.append(s2)\n",
    "    s3_all.append(s3)\n",
    "    dop_all.append(dop)\n",
    "    power_all.append(power)\n",
    "measurement_point=np.array(measurement_point_all).astype(np.float)  \n",
    "angle=np.array(angle_all).astype(np.float)\n",
    "s1=np.array(s1_all).astype(np.float) \n",
    "s2=np.array(s2_all).astype(np.float)\n",
    "s3=np.array(s3_all).astype(np.float) \n",
    "dop=np.array(dop_all).astype(np.float)\n",
    "power=np.array(power_all).astype(np.float)"
   ]
  },
  {
   "cell_type": "code",
   "execution_count": 462,
   "metadata": {},
   "outputs": [
    {
     "data": {
      "text/plain": [
       "Text(0.5, 1.0, 'Measurement for $\\\\frac{1}{2}$ WP #40')"
      ]
     },
     "execution_count": 462,
     "metadata": {},
     "output_type": "execute_result"
    },
    {
     "data": {
      "image/png": "[encoded data removed]",
      "text/plain": [
       "<Figure size 432x288 with 1 Axes>"
      ]
     },
     "metadata": {
      "needs_background": "light"
     },
     "output_type": "display_data"
    }
   ],
   "source": [
    "plt.figure()\n",
    "plt.plot(angle[0], power[0])\n",
    "plt.ylabel('Intensity')\n",
    "plt.xlabel('Degree °')\n",
    "plt.title(r'Measurement for $\\frac{1}{2}$ WP #40')"
   ]
  },
  {
   "cell_type": "markdown",
   "metadata": {},
   "source": [
    "### Calculate discrete Fourier series coefficients like in paper\n",
    "For an uneven number of data points like in our case with N = 2L = 361 we can calculate the discrete Fourier series coefficients according to\n",
    "$$C_{\\omega, k}=\\frac{2}{N} \\frac{1}{1+\\delta_{k0}} \\sum_{i=1}^N I_{T_{i}} cos \\omega_{k} \\beta_{i}$$\n",
    "$$S_{\\omega, k}=\\frac{2}{N} \\frac{1}{1+\\delta_{k0}} \\sum_{i=1}^N I_{T_{i}} sin \\omega_{k} \\beta_{i}$$\n",
    "with the discrete angular velocities\n",
    "$$\\omega_{k} = \\frac{2\\pi}{N} \\frac{k}{\\Delta \\beta}$$ the angular positions $$\\beta_{i}=(i-1)\\Delta \\beta$$ and $\\Delta \\beta$ being the difference in the angle for two neighboring data points.\n",
    "\n",
    "We need to consider that due to the dependance of the discrete angular velocities on the step size, it can happen that the 2 $\\omega$ and 4$\\omega$ signals, which correspond to circular and linear polarizations, are not exactly included in our calculations. Therefore, we look for the discrete angular frequencies, which are closest to the requirements."
   ]
  },
  {
   "cell_type": "markdown",
   "metadata": {},
   "source": [
    "### Starting Parameters\n",
    "S1=0.999\n",
    "S2=-0.021\n",
    "S3=-0.003\n",
    "DOP: 103.6%\n",
    "Power: -22.24 dBm"
   ]
  },
  {
   "cell_type": "code",
   "execution_count": 463,
   "metadata": {},
   "outputs": [
    {
     "name": "stdout",
     "output_type": "stream",
     "text": [
      "[ 0.          0.49861496  0.99722992  1.49584488  1.99445983  2.49307479\n",
      "  2.99168975  3.49030471  3.98891967  4.48753463  4.98614958  5.48476454\n",
      "  5.9833795   6.48199446  6.98060942  7.47922438  7.97783934  8.47645429\n",
      "  8.97506925  9.47368421  9.97229917 10.47091413 10.96952909 11.46814404\n",
      " 11.966759   12.46537396 12.96398892 13.46260388 13.96121884 14.4598338\n",
      " 14.95844875 15.45706371 15.95567867 16.45429363 16.95290859 17.45152355\n",
      " 17.9501385  18.44875346 18.94736842 19.44598338 19.94459834 20.4432133\n",
      " 20.94182825 21.44044321 21.93905817 22.43767313 22.93628809 23.43490305\n",
      " 23.93351801 24.43213296 24.93074792 25.42936288 25.92797784 26.4265928\n",
      " 26.92520776 27.42382271 27.92243767 28.42105263 28.91966759 29.41828255\n",
      " 29.91689751 30.41551247 30.91412742 31.41274238 31.91135734 32.4099723\n",
      " 32.90858726 33.40720222 33.90581717 34.40443213 34.90304709 35.40166205\n",
      " 35.90027701 36.39889197 36.89750693 37.39612188 37.89473684 38.3933518\n",
      " 38.89196676 39.39058172 39.88919668 40.38781163 40.88642659 41.38504155\n",
      " 41.88365651 42.38227147 42.88088643 43.37950139 43.87811634 44.3767313\n",
      " 44.87534626 45.37396122 45.87257618 46.37119114 46.86980609 47.36842105\n",
      " 47.86703601 48.36565097 48.86426593 49.36288089 49.86149584 50.3601108\n",
      " 50.85872576 51.35734072 51.85595568 52.35457064 52.8531856  53.35180055\n",
      " 53.85041551 54.34903047 54.84764543 55.34626039 55.84487535 56.3434903\n",
      " 56.84210526 57.34072022 57.83933518 58.33795014 58.8365651  59.33518006\n",
      " 59.83379501 60.33240997 60.83102493 61.32963989 61.82825485 62.32686981\n",
      " 62.82548476 63.32409972 63.82271468 64.32132964 64.8199446  65.31855956\n",
      " 65.81717452 66.31578947 66.81440443 67.31301939 67.81163435 68.31024931\n",
      " 68.80886427 69.30747922 69.80609418 70.30470914 70.8033241  71.30193906\n",
      " 71.80055402 72.29916898 72.79778393 73.29639889 73.79501385 74.29362881\n",
      " 74.79224377 75.29085873 75.78947368 76.28808864 76.7867036  77.28531856\n",
      " 77.78393352 78.28254848 78.78116343 79.27977839 79.77839335 80.27700831\n",
      " 80.77562327 81.27423823 81.77285319 82.27146814 82.7700831  83.26869806\n",
      " 83.76731302 84.26592798 84.76454294 85.26315789 85.76177285 86.26038781\n",
      " 86.75900277 87.25761773 87.75623269 88.25484765 88.7534626  89.25207756]\n"
     ]
    }
   ],
   "source": [
    "# Calculate discrete Fourier coefficients for an uneven number of data points N=2L+1\n",
    "names=['H-light', 'L-light', 'E-light']\n",
    "#%%\n",
    "intensity=power[0]\n",
    "\n",
    "L=180\n",
    "N=2*L+1\n",
    "index=np.linspace(0,2,361)\n",
    "\n",
    "\n",
    "omega_k=[]\n",
    "# Define step size\n",
    "delta_beta=(index[1]-index[0])*2*np.pi\n",
    "for i in np.arange(L):\n",
    "    omega_k.append(2*np.pi*i/(N*delta_beta))\n",
    "omega_k=np.array(omega_k)\n",
    "# Calculate Fourier series coefficients\n",
    "C_omega_k=[]\n",
    "S_omega_k=[]\n",
    "#print(len(index))\n",
    "#print(omega_k)\n",
    "# Sum in definition of C_omega_k with cos terms\n",
    "\n",
    "def sum_cos(x):\n",
    "    ''' Calculate formula from above with variable x=omega_{k}'''\n",
    "    sum_cos=0\n",
    "    j=0\n",
    "    for i in index:\n",
    "        sum_cos=sum_cos+ intensity[j]*np.cos(x*i*np.pi)\n",
    "        j+=1\n",
    "    return sum_cos\n",
    "a=sum_cos(omega_k)\n",
    "\n",
    "# Sum in definition of S_omega_k with sin terms\n",
    "def sum_sin(x):\n",
    "    '''Same with sin'''\n",
    "    sum_sin=0\n",
    "    j=0\n",
    "    for i in index:\n",
    "        sum_sin+= intensity[j]*np.sin(x*i*np.pi)\n",
    "        j+=1\n",
    "    return sum_sin\n",
    "\n",
    "#print(sum_sin(omega_k))\n",
    "def fourier_coefficients(x):\n",
    "    '''Calculate complete Fourier coefficients'''\n",
    "    C_omega_k=(2/N)* sum_cos(x)\n",
    "    S_omega_k=(2/N)* sum_sin(x)\n",
    "    return C_omega_k, S_omega_k\n",
    "\n",
    "\n",
    "# Loop to get all Fourier coefficients\n",
    "Cs=[]\n",
    "indices=[]\n",
    "Ss=[]\n",
    "# Calculate only first 11 Fourier coefficients\n",
    "\n",
    "# Find indices, where omega_k is closest to desired integer values\n",
    "\n",
    "for i in np.arange(11):\n",
    "    indices.append(np.where(  np.absolute(omega_k-i)==np.amin(np.absolute(omega_k-i)) )[0][0] )\n",
    "\n",
    "for i in np.arange(11):\n",
    "    Cs.append(fourier_coefficients(omega_k)[0][indices[i]])\n",
    "    Ss.append(fourier_coefficients(omega_k)[1][indices[i]])\n",
    "Cs[0]=Cs[0]*0.5\n",
    "#Calculating Fourier coefficients, which correspond to omega_k=2, 4\n",
    "# Same method as above, did it just to check if the method is right\n",
    "# Find index of entry of omega_k, which is closest to omega_k = 0,2 or 4\n",
    "index_0,=np.where( omega_k==np.amin(omega_k) )\n",
    "index_2,=np.where(  np.absolute(omega_k-2)==np.amin(np.absolute(omega_k-2)) )\n",
    "index_4,=np.where(  np.absolute(omega_k-4)==np.amin(np.absolute(omega_k-4)) )\n",
    "\n",
    "\n",
    "#print('Cs=', Cs)\n",
    "print(omega_k)\n",
    "# Calculate Fourier coefficients for omega_k = 2,4\n",
    "# Factor 0.5 for omega_k=0 to account for special case of fourier series coefficient formula\n",
    "C0=fourier_coefficients(omega_k)[0][index_0[0]]*0.5\n",
    "C2=fourier_coefficients(omega_k)[0][index_2[0]]\n",
    "C4=fourier_coefficients(omega_k)[0][index_4[0]]\n",
    "S2=fourier_coefficients(omega_k)[1][index_2[0]]\n",
    "S4=fourier_coefficients(omega_k)[1][index_4[0]]\n"
   ]
  },
  {
   "cell_type": "markdown",
   "metadata": {},
   "source": [
    "We need to regard only the 0 $\\omega$, 2$\\omega$ and 4$\\omega$ signals, as these are the only ones contributing to the resulting intensity. As expected for horizontally polarized light the coefficients C2 and S2, which correspond to circular polarized light, are suppressed"
   ]
  },
  {
   "cell_type": "code",
   "execution_count": 464,
   "metadata": {},
   "outputs": [
    {
     "name": "stdout",
     "output_type": "stream",
     "text": [
      "C0= 6.1784930294177704e-06\n",
      "C2= 6.52469447960489e-07\n",
      "C4= 6.583554175787486e-07\n",
      "S2= -2.081753292968016e-06\n",
      "S4= 1.9076431337136424e-06\n",
      "[  0.  60. 120. 180. 240. 300. 360.]\n"
     ]
    }
   ],
   "source": [
    "print(\"C0=\", Cs[0])\n",
    "print(\"C2=\", Cs[2]) \n",
    "print(\"C4=\", Cs[4])\n",
    "print(\"S2=\", Ss[2])\n",
    "print(\"S4=\", Ss[4])\n",
    "print(np.linspace(0,360,7))"
   ]
  },
  {
   "cell_type": "markdown",
   "metadata": {},
   "source": [
    "### Calculate the other Stokes parameters\n",
    "\\begin{align}\n",
    "M=\\frac{2}{1-cos\\delta}\\left[C_{4}cos(2\\alpha + 4\\beta_{0}) + S_{4}sin(2\\alpha + 4\\beta_{0})\\right]\\\\\n",
    "|M|=\\frac{2}{1-cos\\delta} \\left( C_{4}^2 + S_{4}^2  \\right)^{\\frac{1}{2}}\\\\\n",
    "C=\\frac{2}{1-cos\\delta}\\left[S_{4}cos(2\\alpha + 4\\beta_{0}) - C_{4}sin(2\\alpha + 4\\beta_{0})\\right]\\\\\n",
    "S=\\frac{C_{2}}{sin\\delta sin(2\\alpha + 4\\beta_{0})}=\\frac{-S_{2}}{sin \\delta cos(2\\alpha + 4\\beta_{0})}\\\\\n",
    "|S|= \\frac{  \\left( C_{2}^2 + S_{2}^2\\right)^{\\frac{1}{2}}}{  sin^2 \\delta}\\\\\n",
    "I=C_{0} - \\frac{1+cos \\delta}{1-cos \\delta} \\left[  C_{4} cos(4 \\alpha+ 4\\beta_{0}) + S_{4} sin(4\\alpha +4\\beta_{0})     \\right]\n",
    "\\end{align} \n",
    "In order to obtain the values of the parameters we need to measure the angles $\\alpha$ and $\\beta_{0}$, where $\\alpha$ can be obtained while setting the system up and $\\beta_{0}$ can be obtained by measuring either strongly circularly polarized light or strongly linearly polarized light and using the relations above.\n",
    "\n",
    "For strongly linearly polarized light with C=S=0 we get\n",
    "\\begin{align}\n",
    "tan(4\\beta_{0} + 2\\alpha)=\\frac{S_{4}}{C_{4}}\n",
    "\\end{align}\n",
    "\n",
    "\n",
    "\n",
    "We also need the retardance of the half-wave-plate. Here the theoretical retardance was used. There is also an estimate of the true retardance from another measurement, which is around $\\delta$=$86-88^\\circ$, but the error on that is yet unknown, so it is not used for now."
   ]
  },
  {
   "cell_type": "code",
   "execution_count": 465,
   "metadata": {},
   "outputs": [
    {
     "name": "stdout",
     "output_type": "stream",
     "text": [
      "AAa\n"
     ]
    }
   ],
   "source": [
    "# Define retardance and angles\n",
    "delta=np.pi/2\n",
    "alpha=0\n",
    "# Formula for linearly polarized light\n",
    "#beta_0=(np.arctan(Ss[4]/Cs[4])-2*alpha)/4\n",
    "\n",
    "\n",
    "if Ss[4]>0:\n",
    "    print('AAa')\n",
    "    beta_0=(np.arctan2(Ss[4],Cs[4])-2*alpha)/4\n",
    "else:\n",
    "    print('bbb')\n",
    "    beta_0=(np.arctan2(Ss[4],Cs[4])+2*np.pi-2*alpha)/4\n",
    "\n",
    "\n",
    "#beta_0=0.12812142407193355\n",
    "#beta_0=((np.arctan(Ss[4]/Cs[4])-2*alpha)/4)\n",
    "#beta_0=0.5209602662591997 #from 20190522[0] horizontal polarization\n",
    "beta_0=0.5209602662591997"
   ]
  },
  {
   "cell_type": "markdown",
   "metadata": {},
   "source": [
    "For $\\beta_{0}$ from the formula for horizontally polarized light we get"
   ]
  },
  {
   "cell_type": "code",
   "execution_count": 466,
   "metadata": {},
   "outputs": [
    {
     "data": {
      "text/plain": [
       "'beta_{0}'"
      ]
     },
     "metadata": {},
     "output_type": "display_data"
    },
    {
     "data": {
      "image/png": "[encoded data removed]",
      "text/latex": [
       "$$0.5209602662591997$$"
      ],
      "text/plain": [
       "0.5209602662591997"
      ]
     },
     "metadata": {},
     "output_type": "display_data"
    },
    {
     "name": "stdout",
     "output_type": "stream",
     "text": [
      "29.848824550663764\n",
      "Ss4/Cs4 2.897588571123836\n"
     ]
    }
   ],
   "source": [
    "display('beta_{0}', beta_0)\n",
    "print(beta_0*180/np.pi)\n",
    "print('Ss4/Cs4', Ss[4]/Cs[4])"
   ]
  },
  {
   "cell_type": "code",
   "execution_count": 467,
   "metadata": {},
   "outputs": [
    {
     "name": "stdout",
     "output_type": "stream",
     "text": [
      "|S|= 2.18160792841084e-6\n",
      "|M|= 4.03610415200604e-6\n"
     ]
    }
   ],
   "source": [
    "modulus_S=sqrt( Cs[2]**2 + Ss[2]**2  )/(np.sin(delta)**2)\n",
    "modulus_M=sqrt( Cs[4]**2 + Ss[4]**2  )*2/(1-cos(delta))\n",
    "\n",
    "print('|S|=', modulus_S)\n",
    "print('|M|=', modulus_M)\n",
    "\n",
    "# Calculate Stokes parameters from angles\n",
    "\n",
    "\n",
    "\n",
    "\n",
    "# Calculate Stokes parameters from angles and Fourier coefficients\n",
    "M=(2/(1-np.cos(delta)))*( Cs[4]*np.cos(2*alpha+4*beta_0) + Ss[4]*np.sin(2*alpha+4*beta_0)  )\n",
    "C=(2/(1-np.cos(delta)))*( Ss[4]*np.cos(2*alpha+4*beta_0) - Cs[4]*np.sin(2*alpha+4*beta_0)  )\n",
    "# Calculate S from Cs[2] and Ss[2] each to check on plausibility (see Formula)\n",
    "S_first=Cs[2]/(np.sin(delta)*np.sin(2*alpha+4*beta_0))\n",
    "S_second=-Ss[2]/(np.sin(delta)*np.cos(2*alpha+4*beta_0))\n",
    "I=Cs[0]-((1+np.cos(delta))/(1-np.cos(delta)))*(Cs[4]*np.cos(4*alpha + 4*beta_0)+Ss[4]*np.sin(4*alpha + 4*beta_0))\n",
    "L=np.sqrt(Cs[4]**2 +Ss[4]**2)/sin(delta/2)**2\n",
    "L_other=sqrt(M**2 + C**2)\n",
    "# Modulation ratio\n",
    "# Corresponds to expectations for vertically polarized light\n",
    "eta=M*(1-np.cos(delta))/(2*I + M*np.cos(2*alpha*(1+np.cos(delta))))"
   ]
  },
  {
   "cell_type": "markdown",
   "metadata": {},
   "source": [
    "### Comparison computed Stokes parameters and measured Stokes parameters\n",
    "\n",
    "$$\\vec{S}_{Meas.}=\\left(\\begin{array}{c} 1 \\\\ 0.999 \\\\ 0.003 \\\\ 0.020 \\end{array}\\right)$$"
   ]
  },
  {
   "cell_type": "markdown",
   "metadata": {},
   "source": [
    "We see that the S values have different signs, which could be due to weak 2 $\\omega$ signals. The other values correspond to the measured values."
   ]
  },
  {
   "cell_type": "markdown",
   "metadata": {},
   "source": [
    "The magnitude of S can always be computed without knowing the angles $\\alpha$ and $\\beta$"
   ]
  },
  {
   "cell_type": "code",
   "execution_count": 468,
   "metadata": {},
   "outputs": [
    {
     "name": "stdout",
     "output_type": "stream",
     "text": [
      "C0= 6.1784930294177704e-06\n",
      "C2= 6.52469447960489e-07\n",
      "C4= 6.583554175787486e-07\n",
      "S2= -2.081753292968016e-06\n",
      "S4= 1.9076431337136424e-06\n",
      "I= 4.839593218385003e-06\n",
      "M/I= 0.5533108881740129\n",
      "C/I= -0.6239894849338647\n",
      "S from C_{2}/I= 0.15474138864135603\n",
      "S from -S_{2}/I= -0.8763695979046351\n",
      "L/I 0.833975908692778\n",
      "L_other/I 0.833975908692778\n",
      "|S|= 2.18160792841084e-6\n",
      "|S|/I with sign from S_{2}= -0.450783326194274\n",
      "|S|/I with sign from C_{2}= 0.450783326194274\n",
      "(L/I)**2 + (|S|/I)**2= 0.898721423454718\n",
      "|M| 4.03610415200604e-6\n",
      "|M|/I 0.833975908692778\n"
     ]
    }
   ],
   "source": [
    "print(\"C0=\", Cs[0])\n",
    "print(\"C2=\", Cs[2]) \n",
    "print(\"C4=\", Cs[4])\n",
    "print(\"S2=\", Ss[2])\n",
    "print(\"S4=\", Ss[4])\n",
    "print('I=', I)\n",
    "print('M/I=', (M/I) )\n",
    "print('C/I=', (C/I)   )\n",
    "print('S from C_{2}/I=', S_first/I)\n",
    "print('S from -S_{2}/I=', S_second/I)\n",
    "print('L/I',L/I)\n",
    "print('L_other/I', L_other/I)\n",
    "\n",
    "print('|S|=', modulus_S)\n",
    "print('|S|/I with sign from S_{2}=', (modulus_S/I)*np.sign(S_second) )\n",
    "print('|S|/I with sign from C_{2}=', (modulus_S/I)*np.sign(S_first) )\n",
    "\n",
    "print('(L/I)**2 + (|S|/I)**2=',(L/I)**2 + (modulus_S/I)**2)\n",
    "\n",
    "print('|M|', modulus_M)\n",
    "print('|M|/I', modulus_M/I)"
   ]
  },
  {
   "cell_type": "markdown",
   "metadata": {},
   "source": [
    "For horizontally polarized light we can also calculate vertical polarization without knowing the angles $\\alpha$ and $\\beta$\n",
    "$$|M|=\\frac{2}{1-cos\\delta} \\left( C_{4}^2 + S_{4}^2  \\right)^{\\frac{1}{2}}$$"
   ]
  },
  {
   "cell_type": "markdown",
   "metadata": {},
   "source": [
    "These values are also in agreement with the measurement"
   ]
  },
  {
   "cell_type": "markdown",
   "metadata": {},
   "source": [
    "Absolute values for completeness"
   ]
  },
  {
   "cell_type": "code",
   "execution_count": 469,
   "metadata": {},
   "outputs": [
    {
     "name": "stdout",
     "output_type": "stream",
     "text": [
      "M= 2.677799622065535e-06\n",
      "C= -3.019855279629483e-06\n",
      "S_first= 7.488853750721847e-07\n",
      "S_second= -4.2412723628180634e-06\n",
      "I= 4.839593218385003e-06\n",
      "Modulation ratio eta= 0.2167032971726017\n"
     ]
    }
   ],
   "source": [
    "print('M=', M)\n",
    "print('C=', C)\n",
    "print('S_first=', S_first)\n",
    "print('S_second=', S_second)\n",
    "print('I=', I)\n",
    "print('Modulation ratio eta=', eta)"
   ]
  },
  {
   "cell_type": "code",
   "execution_count": 470,
   "metadata": {},
   "outputs": [
    {
     "data": {
      "image/png": "[encoded data removed]",
      "text/plain": [
       "<Figure size 432x288 with 1 Axes>"
      ]
     },
     "metadata": {
      "needs_background": "light"
     },
     "output_type": "display_data"
    }
   ],
   "source": [
    "z=0\n",
    "plt.plot(angle[z], power[z], label='measurement')\n",
    "\n",
    "def I_T(x):\n",
    "    return Cs[0]+Cs[2]*np.cos(2*x*np.pi/180)+Cs[4]*np.cos(4*x*np.pi/180)+Ss[2]*np.sin(2*x*np.pi/180)+Ss[4]*np.sin(4*x*np.pi/180)\n",
    "    \n",
    "plt.plot(angle[z], I_T(np.array(angle[z])), '--', label='from discrete F. coeff.' )\n",
    "plt.xlabel('angle [°]')\n",
    "plt.ylabel('Intensity [W]')\n",
    "plt.legend()\n",
    "plt.title('Intensity_0521_103527_E-light')\n",
    "plt.savefig('Intensity_0521_10327_E-light.png', fmt='png')"
   ]
  },
  {
   "cell_type": "markdown",
   "metadata": {},
   "source": [
    "### Modulation ratio\n",
    "\n",
    "As an additional test we can look at the modulation ratio, which depends on some of the calculated parameters, to check on the plausibility of the result.\n",
    "\n",
    "\\begin{align} \\eta = \\frac{I_{max} - I_{min}}{I_{max} + I_{min}} = \\frac{M(1-cos\\delta)}{2I + Mcos2\\alpha(1+ cos\\delta)} \\end{align}\n"
   ]
  },
  {
   "cell_type": "code",
   "execution_count": 471,
   "metadata": {},
   "outputs": [
    {
     "name": "stdout",
     "output_type": "stream",
     "text": [
      "eta from intensity 0.6539118409209199\n",
      "eta from parameters 0.2167032971726017\n"
     ]
    }
   ],
   "source": [
    "eta_intensity=(np.amax(intensity)-np.amin(intensity))/(np.amax(intensity)+np.amin(intensity))\n",
    "\n",
    "print('eta from intensity', eta_intensity)\n",
    "print('eta from parameters', eta)"
   ]
  },
  {
   "cell_type": "markdown",
   "metadata": {},
   "source": [
    "Modulation ratios from intensity and from parameters seem to agree with each other"
   ]
  },
  {
   "cell_type": "markdown",
   "metadata": {},
   "source": [
    "### Plotting the coefficients\n",
    "\n",
    "We expect strong 0 and 4 $\\omega $ signals for horizontally polarized light, which is fulfilled in this case."
   ]
  },
  {
   "cell_type": "code",
   "execution_count": 472,
   "metadata": {},
   "outputs": [
    {
     "data": {
      "text/plain": [
       "Text(0.5, 0.98, 'Fourier series coefficients')"
      ]
     },
     "execution_count": 472,
     "metadata": {},
     "output_type": "execute_result"
    },
    {
     "data": {
      "image/png": "[encoded data removed]",
      "text/plain": [
       "<Figure size 432x288 with 2 Axes>"
      ]
     },
     "metadata": {
      "needs_background": "light"
     },
     "output_type": "display_data"
    }
   ],
   "source": [
    "# Produce plots like in paper\n",
    "#%%\n",
    "t = np.arange(11)\n",
    "\n",
    "\n",
    "fig, axs = plt.subplots(1, 2, sharey=True)\n",
    "# Remove horizontal space between axes\n",
    "\n",
    "fig.subplots_adjust(wspace=0.2)\n",
    "\n",
    "# Plot each graph, and manually set the y tick values\n",
    "axs[0].stem(t, Ss)\n",
    "axs[0].set_yscale('log')\n",
    "axs[0].text(0.8,-0.1, 'Angular Frequency', fontsize=12, transform=axs[0].transAxes)\n",
    "axs[0].text(0.6,0.7, '(Sine coeff.)', fontsize=10, transform=axs[0].transAxes)\n",
    "\n",
    "axs[0].set_ylabel('Amplitude', fontsize=12)\n",
    "axs[0].set_xticks(ticks=np.arange(0,11,2))\n",
    "axs[0].set_xticks(ticks=np.arange(0,11,2))\n",
    "axs[0].spines['right'].set_visible(False)\n",
    "\n",
    "axs[1].stem(t, Cs)\n",
    "axs[1].text(0.4,0.7, '(Cosine coeff.)', fontsize=10, transform=axs[1].transAxes)\n",
    "#axs[1].set_yticks([])\n",
    "axs[1].set_xticks(ticks=np.arange(0,11,2))\n",
    "axs[1].spines['left'].set_visible(False)\n",
    "plt.suptitle('Fourier series coefficients')"
   ]
  },
  {
   "cell_type": "markdown",
   "metadata": {},
   "source": [
    "### Calculate Stokes Parameter using FFT on intensity\n",
    "\n",
    "Do a FFT on the intensity to see if the sought-after frequencies are present"
   ]
  },
  {
   "cell_type": "code",
   "execution_count": 473,
   "metadata": {},
   "outputs": [
    {
     "data": {
      "text/plain": [
       "<matplotlib.lines.Line2D at 0x15f7bf4aa58>"
      ]
     },
     "execution_count": 473,
     "metadata": {},
     "output_type": "execute_result"
    },
    {
     "data": {
      "image/png": "[encoded data removed]",
      "text/plain": [
       "<Figure size 864x432 with 1 Axes>"
      ]
     },
     "metadata": {
      "needs_background": "light"
     },
     "output_type": "display_data"
    }
   ],
   "source": [
    "\n",
    "\n",
    "\n",
    "# Number of sample points N from above\n",
    "# Sample spacing i times omega\n",
    "\n",
    "A=fftpack.rfft(intensity)\n",
    "\n",
    "\n",
    "\n",
    "\n",
    "plt.figure(figsize = (12,6))\n",
    "plt.title('FFT from intensity')\n",
    "# Plot first 10 omegas\n",
    "plt.plot(omega_k[0:10], np.abs(A)[0:10], 'o')\n",
    "plt.xlabel(r'Angular Frequency [$\\omega$]')\n",
    "plt.ylabel('Amplitude')\n",
    "plt.axvline(x=2  )\n",
    "plt.axvline(x= 4  )\n",
    "\n",
    "# Use the same formulas again"
   ]
  },
  {
   "cell_type": "code",
   "execution_count": 474,
   "metadata": {},
   "outputs": [
    {
     "name": "stdout",
     "output_type": "stream",
     "text": [
      "-45.0\n"
     ]
    }
   ],
   "source": [
    "print(np.arctan2(-1,1)*180/np.pi )"
   ]
  },
  {
   "cell_type": "code",
   "execution_count": null,
   "metadata": {},
   "outputs": [],
   "source": []
  },
  {
   "cell_type": "code",
   "execution_count": 475,
   "metadata": {},
   "outputs": [
    {
     "name": "stdout",
     "output_type": "stream",
     "text": [
      "[  0.           2.00558659   4.01117318   6.01675978   8.02234637\n",
      "  10.02793296  12.03351955  14.03910615  16.04469274  18.05027933\n",
      "  20.05586592  22.06145251  24.06703911  26.0726257   28.07821229\n",
      "  30.08379888  32.08938547  34.09497207  36.10055866  38.10614525\n",
      "  40.11173184  42.11731844  44.12290503  46.12849162  48.13407821\n",
      "  50.1396648   52.1452514   54.15083799  56.15642458  58.16201117\n",
      "  60.16759777  62.17318436  64.17877095  66.18435754  68.18994413\n",
      "  70.19553073  72.20111732  74.20670391  76.2122905   78.21787709\n",
      "  80.22346369  82.22905028  84.23463687  86.24022346  88.24581006\n",
      "  90.25139665  92.25698324  94.26256983  96.26815642  98.27374302\n",
      " 100.27932961 102.2849162  104.29050279 106.29608939 108.30167598\n",
      " 110.30726257 112.31284916 114.31843575 116.32402235 118.32960894\n",
      " 120.33519553 122.34078212 124.34636872 126.35195531 128.3575419\n",
      " 130.36312849 132.36871508 134.37430168 136.37988827 138.38547486\n",
      " 140.39106145 142.39664804 144.40223464 146.40782123 148.41340782\n",
      " 150.41899441 152.42458101 154.4301676  156.43575419 158.44134078\n",
      " 160.44692737 162.45251397 164.45810056 166.46368715 168.46927374\n",
      " 170.47486034 172.48044693 174.48603352 176.49162011 178.4972067\n",
      " 180.5027933  182.50837989 184.51396648 186.51955307 188.52513966\n",
      " 190.53072626 192.53631285 194.54189944 196.54748603 198.55307263\n",
      " 200.55865922 202.56424581 204.5698324  206.57541899 208.58100559\n",
      " 210.58659218 212.59217877 214.59776536 216.60335196 218.60893855\n",
      " 220.61452514 222.62011173 224.62569832 226.63128492 228.63687151\n",
      " 230.6424581  232.64804469 234.65363128 236.65921788 238.66480447\n",
      " 240.67039106 242.67597765 244.68156425 246.68715084 248.69273743\n",
      " 250.69832402 252.70391061 254.70949721 256.7150838  258.72067039\n",
      " 260.72625698 262.73184358 264.73743017 266.74301676 268.74860335\n",
      " 270.75418994 272.75977654 274.76536313 276.77094972 278.77653631\n",
      " 280.78212291 282.7877095  284.79329609 286.79888268 288.80446927\n",
      " 290.81005587 292.81564246 294.82122905 296.82681564 298.83240223\n",
      " 300.83798883 302.84357542 304.84916201 306.8547486  308.8603352\n",
      " 310.86592179 312.87150838 314.87709497 316.88268156 318.88826816\n",
      " 320.89385475 322.89944134 324.90502793 326.91061453 328.91620112\n",
      " 330.92178771 332.9273743  334.93296089 336.93854749 338.94413408\n",
      " 340.94972067 342.95530726 344.96089385 346.96648045 348.97206704\n",
      " 350.97765363 352.98324022 354.98882682 356.99441341 359.        ]\n"
     ]
    }
   ],
   "source": [
    "print(np.linspace(0,359,180))"
   ]
  },
  {
   "cell_type": "code",
   "execution_count": null,
   "metadata": {},
   "outputs": [],
   "source": []
  }
 ],
 "metadata": {
  "kernelspec": {
   "display_name": "Python 3",
   "language": "python",
   "name": "python3"
  },
  "language_info": {
   "codemirror_mode": {
    "name": "ipython",
    "version": 3
   },
   "file_extension": ".py",
   "mimetype": "text/x-python",
   "name": "python",
   "nbconvert_exporter": "python",
   "pygments_lexer": "ipython3",
   "version": "3.7.1"
  }
 },
 "nbformat": 4,
 "nbformat_minor": 2
}
