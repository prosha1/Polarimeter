{
 "cells": [
  {
   "cell_type": "code",
   "execution_count": 469,
   "metadata": {},
   "outputs": [
    {
     "name": "stdout",
     "output_type": "stream",
     "text": [
      "Using matplotlib backend: Qt5Agg\n"
     ]
    }
   ],
   "source": [
    "%matplotlib\n",
    "import matplotlib.pyplot as plt\n",
    "plt.ion()"
   ]
  },
  {
   "cell_type": "markdown",
   "metadata": {},
   "source": [
    "### FFT with rotating plate\n",
    "\n",
    "The setup was conducted as follows:\n",
    "\n",
    "\n",
    "1.The laser with wavelength $\\lambda$ = 660 nm was calibrated to hit the polarimeter at the end of the setup centrally.\n",
    "\n",
    "\n",
    "2.A train consisting of linear polarizer LP2 (Pol.), $\\frac{\\lambda}{2}$-WP 600 - 2700 nm and\n",
    "$\\frac{\\lambda}{4}$-WP 690 - 1200 nm was assembled and placed into the laser beam.\n",
    "\n",
    "\n",
    "3.By rotating the WPs of the train horizontally polarized light was set.\n",
    "\n",
    "The angles of the optical elements in the train in the order set were $\\Theta_{1}=49^{\\circ}$\n",
    ", $\\Theta_{2}=227^{\\circ}$ and $\\Theta_{3}=???^{\\circ}$\n",
    "\n",
    ", because the last plate holder had no markings.\n",
    "\n",
    "The parameters of the horizontally polarized light were: S1=1.000 ; S2=-0.002 ; S3=-0.004 ; DOP=103.9 % and power=-19.61 dBm\n",
    "\n",
    "Annotation: The angle of LP2 (Pol.) in the train could have been set that maximum intensity is transmitted, but wasn't.\n",
    "\n",
    "\n",
    "4.In order to find the angle $\\alpha$\n",
    "of the x-axis following procedure was used. Another linear polarizer LP3, which is here also referred to as P1, was inserted after the train and rotated until maximum intensity was measured by the polarimeter.This was the case for $\\alpha_{1}=131^{\\circ}$\n",
    "\n",
    "The measured parameters were:\n",
    "\n",
    "S1=0.999 ; S2=0.001 ; S3=0.041 ; DOP=103.7 % and power=-21.3 dBm\n",
    "\n",
    "\n",
    "5.Another linear polarizer LP1, which is here also referred as P2, was inserted behind P1 just in front of the polarimeter and rotated until maximum intensity was measured by the polarimeter.This was the case for $\\alpha_{2}=336^{\\circ}$\n",
    "\n",
    "The measured parameters were:\n",
    "\n",
    "S1=1.000 ; S2=0.002 ; S3=0.002 ; DOP=103.7 % and power=-21.95 dBm\n",
    "\n",
    "Now the angle of P2 is set to transmit horizontally polarized light most effectively and therefore this angle is assigned to the x-axis. Accordingly, in relation to the x-axis P2 is now set at $\\alpha$=0.\n",
    "This position is not changed during the measurement\n",
    "\n",
    "\n",
    "6.All components are removed, except the train, and horizontally polarized light intended for measurement is set.\n",
    "\n",
    "S1=0.999 ; S2=0.003 ; S3=0.020 ; DOP=103.6 % and power=-19.42 dBm\n",
    "\n",
    "\n",
    "7.Behind the train we insert the $\\frac{\\lambda}{4}$\n",
    "-WP 600 - 2700 nm in the rotating wheel and behind the wheel we insert LP1 as P2 at angle $\\alpha$=0\n",
    "\n",
    "\n",
    "8.The wheel is rotated from 0 to 2 𝜋\n",
    "and 361 equally distanced data points are recorded"
   ]
  },
  {
   "cell_type": "markdown",
   "metadata": {},
   "source": [
    "### Self-calibrating polarimetric method\n",
    "\n",
    "In order to obtain a precise calibration of the parameters alpha_0, beta_0 and delta following the procedure described in the paper by Andreev (2017), we need to do two measurements with horizontally polarized light where in the first one the the angle of P2 is 0° and in the second one 45°. "
   ]
  },
  {
   "cell_type": "markdown",
   "metadata": {},
   "source": [
    "### Read in data for setup like in paper"
   ]
  },
  {
   "cell_type": "code",
   "execution_count": 470,
   "metadata": {},
   "outputs": [
    {
     "name": "stdout",
     "output_type": "stream",
     "text": [
      "['20190527/174655_polarimeter_vs_wheel/174655_polarimeter_vs_wheel.dat', '20190527/175544_polarimeter_vs_wheel/175544_polarimeter_vs_wheel.dat', '20190528/142032_polarimeter_vs_wheel/142032_polarimeter_vs_wheel.dat', '20190528/143851_polarimeter_vs_wheel/143851_polarimeter_vs_wheel.dat', '20190528/145841_polarimeter_vs_wheel/145841_polarimeter_vs_wheel.dat', '20190528/151432_polarimeter_vs_wheel/151432_polarimeter_vs_wheel.dat']\n"
     ]
    }
   ],
   "source": [
    "\n",
    "import numpy as np\n",
    "import matplotlib.pyplot as plt\n",
    "\n",
    "from sympy import Symbol, cos, sin, pi, sqrt, symbols\n",
    "from sympy.matrices import *\n",
    "from sympy.utilities.lambdify import lambdify\n",
    "from sympy.interactive.printing import init_printing\n",
    "from sympy.interactive import printing\n",
    "printing.init_printing(use_latex=True)\n",
    "\n",
    "from scipy.optimize import curve_fit, minimize\n",
    "from scipy import fftpack\n",
    "import os\n",
    "from os.path import join, getsize\n",
    "\n",
    "import matplotlib as mpl\n",
    "mpl.use('pdf')\n",
    "# Define some formatting parameters\n",
    "#Direct input \n",
    "plt.rcParams['text.latex.preamble']=[r\"\\usepackage{lmodern}\"]\n",
    "#Options\n",
    "params = {'text.usetex' : True,\n",
    "          'font.size' : 8,\n",
    "          'font.family' : 'lmodern',\n",
    "          'text.latex.unicode': True,\n",
    "          }\n",
    "plt.rcParams.update(params) \n",
    "\n",
    "plt.rc('text', usetex=True)\n",
    "plt.rc('xtick', labelsize=8.7)\n",
    "plt.rc('ytick', labelsize=8.7)\n",
    "plt.rc('axes', labelsize=8.7)\n",
    "\n",
    "# width as measured in inkscape\n",
    "width = 2.809\n",
    "height = width / 1.618\n",
    "\n",
    "\n",
    "directories=[]\n",
    "\n",
    "# Some names for the data files to know which polarization\n",
    "# 20190515[0]horizontal polarization\n",
    "# 20190515[1]vertical polarization\n",
    "# 20190516[0]diagonal polarization\n",
    "# 20190520[0]antidiagonal polarization\n",
    "# 20190521[0]left-circular polarization\n",
    "# 20190521[1]right-circular polarization\n",
    "# 20190527[0]horizontal polarization at alpha=0\n",
    "# 20190527[1]horizontal polarization at alpha=45\n",
    "# 20190528 different other polarizations (names will be added)\n",
    "\n",
    "\n",
    "for root, dirs, files in os.walk('20190527/'):\n",
    "    if files != []:\n",
    "        a=str(root)+str('/')+str(files[0])\n",
    "        directories.append(a)\n",
    "\n",
    "for root, dirs, files in os.walk('20190528/'):\n",
    "    if files != []:\n",
    "        a=str(root)+str('/')+str(files[0])\n",
    "        directories.append(a)\n",
    "# Only horizontally polarized light\n",
    "directories=directories[:]\n",
    "print(directories)\n",
    "data=[]\n",
    "measurement_point_all=[]\n",
    "angle_all=[]\n",
    "s1_all=[]\n",
    "s2_all=[]\n",
    "s3_all=[]\n",
    "dop_all=[]\n",
    "power_all=[]\n",
    "\n",
    "for i in directories:\n",
    "    f=open(i)\n",
    "    lines=f.readlines()\n",
    "    for i in range(26):\n",
    "        lines.pop(0)\n",
    "    measurement_point=[]\n",
    "    angle=[]\n",
    "    s1=[]\n",
    "    s2=[]\n",
    "    s3=[]\n",
    "    dop=[]\n",
    "    power=[]\n",
    "    for line in lines:\n",
    "        measurement_point.append( line.strip().split('\\t')[0] )\n",
    "        angle.append( line.strip().split('\\t')[1] )\n",
    "        s1.append( line.strip().split('\\t')[2] )\n",
    "        s2.append( line.strip().split('\\t')[3] )\n",
    "        s3.append( line.strip().split('\\t')[4] )\n",
    "        dop.append( line.strip().split('\\t')[5] )\n",
    "        power.append( line.strip().split('\\t')[6] )\n",
    "    measurement_point_all.append(measurement_point)\n",
    "    angle_all.append(angle)\n",
    "    s1_all.append(s1)\n",
    "    s2_all.append(s2)\n",
    "    s3_all.append(s3)\n",
    "    dop_all.append(dop)\n",
    "    power_all.append(power)\n",
    "measurement_point=np.array(measurement_point_all).astype(np.float)  \n",
    "angle=np.array(angle_all).astype(np.float)\n",
    "s1=np.array(s1_all).astype(np.float) \n",
    "s2=np.array(s2_all).astype(np.float)\n",
    "s3=np.array(s3_all).astype(np.float) \n",
    "dop=np.array(dop_all).astype(np.float)\n",
    "power=np.array(power_all).astype(np.float)"
   ]
  },
  {
   "cell_type": "code",
   "execution_count": 471,
   "metadata": {},
   "outputs": [
    {
     "data": {
      "text/plain": [
       "Text(0.5, 1.0, 'Measurement for $\\\\frac{1}{2}$ WP40')"
      ]
     },
     "execution_count": 471,
     "metadata": {},
     "output_type": "execute_result"
    }
   ],
   "source": [
    "plt.figure()\n",
    "plt.plot(angle[0], power[0])\n",
    "plt.ylabel('Intensity')\n",
    "plt.xlabel('Degree °')\n",
    "plt.title(r'Measurement for $\\frac{1}{2}$ WP40')"
   ]
  },
  {
   "cell_type": "markdown",
   "metadata": {},
   "source": [
    "### Calculate discrete Fourier series coefficients like in paper\n",
    "For an uneven number of data points like in our case with N = 2L = 361 we can calculate the discrete Fourier series coefficients according to\n",
    "$$C_{\\omega, k}=\\frac{2}{N} \\frac{1}{1+\\delta_{k0}} \\sum_{i=1}^N I_{T_{i}} cos \\omega_{k} \\beta_{i}$$\n",
    "$$S_{\\omega, k}=\\frac{2}{N} \\frac{1}{1+\\delta_{k0}} \\sum_{i=1}^N I_{T_{i}} sin \\omega_{k} \\beta_{i}$$\n",
    "with the discrete angular velocities\n",
    "$$\\omega_{k} = \\frac{2\\pi}{N} \\frac{k}{\\Delta \\beta}$$ the angular positions $$\\beta_{i}=(i-1)\\Delta \\beta$$ and $\\Delta \\beta$ being the difference in the angle for two neighboring data points.\n",
    "\n",
    "We need to consider that due to the dependance of the discrete angular velocities on the step size, it can happen that the 2 $\\omega$ and 4$\\omega$ signals, which correspond to circular and linear polarizations, are not exactly included in our calculations. Therefore, we look for the discrete angular frequencies, which are closest to the requirements."
   ]
  },
  {
   "cell_type": "markdown",
   "metadata": {},
   "source": [
    "### Starting Parameters\n",
    "Calculate the coefficients for $\\alpha$=0\n",
    "\n"
   ]
  },
  {
   "cell_type": "code",
   "execution_count": 472,
   "metadata": {},
   "outputs": [
    {
     "name": "stdout",
     "output_type": "stream",
     "text": [
      "[  0.   1.   2.   3.   4.   5.   6.   7.   8.   9.  10.  11.  12.  13.\n",
      "  14.  15.  16.  17.  18.  19.  20.  21.  22.  23.  24.  25.  26.  27.\n",
      "  28.  29.  30.  31.  32.  33.  34.  35.  36.  37.  38.  39.  40.  41.\n",
      "  42.  43.  44.  45.  46.  47.  48.  49.  50.  51.  52.  53.  54.  55.\n",
      "  56.  57.  58.  59.  60.  61.  62.  63.  64.  65.  66.  67.  68.  69.\n",
      "  70.  71.  72.  73.  74.  75.  76.  77.  78.  79.  80.  81.  82.  83.\n",
      "  84.  85.  86.  87.  88.  89.  90.  91.  92.  93.  94.  95.  96.  97.\n",
      "  98.  99. 100. 101. 102. 103. 104. 105. 106. 107. 108. 109. 110. 111.\n",
      " 112. 113. 114. 115. 116. 117. 118. 119. 120. 121. 122. 123. 124. 125.\n",
      " 126. 127. 128. 129. 130. 131. 132. 133. 134. 135. 136. 137. 138. 139.\n",
      " 140. 141. 142. 143. 144. 145. 146. 147. 148. 149. 150. 151. 152. 153.\n",
      " 154. 155. 156. 157. 158. 159. 160. 161. 162. 163. 164. 165. 166. 167.\n",
      " 168. 169. 170. 171. 172. 173. 174. 175. 176. 177. 178. 179.]\n"
     ]
    }
   ],
   "source": [
    "# Calculate discrete Fourier coefficients for an uneven number of data points N=2L+1\n",
    "names=['H-light', 'L-light', 'E-light']\n",
    "# With the intensity variable the measurement for the calculations is chosen\n",
    "intensity=power[0]\n",
    "\n",
    "L=180\n",
    "N=2*L\n",
    "index=np.linspace(0,359,360)*(np.pi/180)\n",
    "\n",
    "\n",
    "omega_k=[]\n",
    "# Define step size\n",
    "delta_beta=(index[1]-index[0])\n",
    "#print(index)\n",
    "for i in np.arange(L):\n",
    "    omega_k.append(2*np.pi*i/(N*delta_beta))\n",
    "omega_k=np.array(omega_k)\n",
    "# Calculate Fourier series coefficients\n",
    "C_omega_k=[]\n",
    "S_omega_k=[]\n",
    "\n",
    "# Sum in definition of C_omega_k with cos terms\n",
    "\n",
    "def sum_cos(x):\n",
    "    ''' Calculate formula from above with variable x=omega_{k}'''\n",
    "    sum_cos=0\n",
    "    j=0\n",
    "    for i in index:\n",
    "        sum_cos=sum_cos+ intensity[j]*np.cos(x*i)\n",
    "        j+=1\n",
    "    return sum_cos\n",
    "a=sum_cos(omega_k)\n",
    "\n",
    "# Sum in definition of S_omega_k with sin terms\n",
    "def sum_sin(x):\n",
    "    '''Same with sin'''\n",
    "    sum_sin=0\n",
    "    j=0\n",
    "    for i in index:\n",
    "        sum_sin+= intensity[j]*np.sin(x*i)\n",
    "        j+=1\n",
    "    return sum_sin\n",
    "\n",
    "#print(sum_sin(omega_k))\n",
    "def fourier_coefficients(x):\n",
    "    '''Calculate complete Fourier coefficients'''\n",
    "    C_omega_k=(2/N)* sum_cos(x)\n",
    "    S_omega_k=(2/N)* sum_sin(x)\n",
    "    return C_omega_k, S_omega_k\n",
    "\n",
    "sigma_I=0.134*10**(-6)\n",
    "\n",
    "def sum_cos_inten_err(x):\n",
    "    ''' Calculate error on the cosine sum'''\n",
    "    sum_cos_error=0\n",
    "    for i in index:\n",
    "        sum_cos_error=sum_cos_error+ (np.cos(x*i))**2\n",
    "        \n",
    "    return sum_cos_error\n",
    "\n",
    "def sum_sin_inten_err(x):\n",
    "    ''' Same with sin'''\n",
    "    sum_sin_error=0\n",
    "    for i in index:\n",
    "        sum_sin_error=sum_sin_error+ (np.sin(x*i))**2\n",
    "        \n",
    "    return sum_sin_error\n",
    "\n",
    "def intensity_error(x):\n",
    "    ''' Calculate error on intensity with errors from the cosine and sine sums'''\n",
    "    C_omega_k_inten_error=np.sqrt(sum_cos_inten_err(x)*(2*sigma_I/N)**2 )\n",
    "    S_omega_k_inten_error=np.sqrt(sum_sin_inten_err(x)*(2*sigma_I/N)**2 )\n",
    "    return C_omega_k_inten_error, S_omega_k_inten_error\n",
    "\n",
    "# Defined error on the angle beta\n",
    "sigma_beta=0.3*np.pi/180\n",
    "\n",
    "def sum_cos_beta_err(x):\n",
    "    ''' Calculate error on the cosine sum from beta error'''\n",
    "    sum_cos=0\n",
    "    j=0\n",
    "    for i in index:\n",
    "        sum_cos=sum_cos+ (intensity[j]*(np.sin(x*i)))**2\n",
    "        j+=1\n",
    "    return sum_cos\n",
    "\n",
    "def sum_sin_beta_err(x):\n",
    "    ''' Calculate error on the sine sum from beta error'''\n",
    "    sum_sin=0\n",
    "    j=0\n",
    "    for i in index:\n",
    "        sum_sin=sum_sin+ (intensity[j]*(x*np.cos(x*i)))**2\n",
    "        j+=1\n",
    "    return sum_sin\n",
    "\n",
    "def beta_error(x):\n",
    "    ''' Calculate error on the fourier coefficients from beta error '''\n",
    "    C_omega_k_beta_error=np.sqrt(sum_cos_beta_err(x)*(2*sigma_beta/N)**2)\n",
    "    S_omega_k_beta_error=np.sqrt(sum_sin_beta_err(x)*(2*sigma_beta/N)**2)\n",
    "    return C_omega_k_beta_error, S_omega_k_beta_error\n",
    "\n",
    "\n",
    "\n",
    "# Loop to get all Fourier coefficients\n",
    "Cs=[]\n",
    "indices=[]\n",
    "Ss=[]\n",
    "\n",
    "Cs_inten_err=[]\n",
    "Ss_inten_err=[]\n",
    "\n",
    "Cs_beta_err=[]\n",
    "Ss_beta_err=[]\n",
    "\n",
    "\n",
    "# Calculate only first 11 Fourier coefficients\n",
    "\n",
    "# Find indices, where omega_k is closest to desired integer values\n",
    "\n",
    "for i in np.arange(11):\n",
    "    indices.append(np.where(  np.absolute(omega_k-i)==np.amin(np.absolute(omega_k-i)) )[0][0] )\n",
    "\n",
    "for i in np.arange(11):\n",
    "    Cs.append(fourier_coefficients(omega_k)[0][indices[i]])\n",
    "    Ss.append(fourier_coefficients(omega_k)[1][indices[i]])\n",
    "    Cs_inten_err.append(intensity_error(omega_k)[0][indices[i]])\n",
    "    Ss_inten_err.append(intensity_error(omega_k)[1][indices[i]])\n",
    "    Cs_beta_err.append(beta_error(omega_k)[0][indices[i]])\n",
    "    Ss_beta_err.append(beta_error(omega_k)[1][indices[i]])\n",
    "    \n",
    "Cs[0]=Cs[0]*0.5\n",
    "#Calculating Fourier coefficients, which correspond to omega_k=2, 4\n",
    "# Same method as above, did it just to check if the method is right\n",
    "# Find index of entry of omega_k, which is closest to omega_k = 0,2 or 4\n",
    "index_0,=np.where( omega_k==np.amin(omega_k) )\n",
    "index_2,=np.where(  np.absolute(omega_k-2)==np.amin(np.absolute(omega_k-2)) )\n",
    "index_4,=np.where(  np.absolute(omega_k-4)==np.amin(np.absolute(omega_k-4)) )\n",
    "\n",
    "\n",
    "#print('Cs=', Cs)\n",
    "#print(omega_k)\n",
    "# Calculate Fourier coefficients for omega_k = 2,4\n",
    "# Factor 0.5 for omega_k=0 to account for special case of fourier series coefficient formula\n",
    "C0=fourier_coefficients(omega_k)[0][index_0[0]]*0.5\n",
    "C2=fourier_coefficients(omega_k)[0][index_2[0]]\n",
    "C4=fourier_coefficients(omega_k)[0][index_4[0]]\n",
    "S2=fourier_coefficients(omega_k)[1][index_2[0]]\n",
    "S4=fourier_coefficients(omega_k)[1][index_4[0]]\n",
    "\n",
    "C0_inten_err=intensity_error(omega_k)[0][index_0[0]]*0.5\n",
    "C2_inten_err=intensity_error(omega_k)[0][index_2[0]]\n",
    "C4_inten_err=intensity_error(omega_k)[0][index_4[0]]\n",
    "S2_inten_err=intensity_error(omega_k)[1][index_2[0]]\n",
    "S4_inten_err=intensity_error(omega_k)[1][index_4[0]]\n",
    "\n",
    "C0_beta_err=beta_error(omega_k)[0][index_0[0]]*0.5\n",
    "C2_beta_err=beta_error(omega_k)[0][index_2[0]]\n",
    "C4_beta_err=beta_error(omega_k)[0][index_4[0]]\n",
    "S2_beta_err=beta_error(omega_k)[1][index_2[0]]\n",
    "S4_beta_err=beta_error(omega_k)[1][index_4[0]]\n",
    "\n",
    "# Total error on Fourier coefficients\n",
    "sigma_C0=np.sqrt(C0_inten_err**2 + C0_beta_err**2  )\n",
    "sigma_C2=np.sqrt(C2_inten_err**2 + C2_beta_err**2  )\n",
    "sigma_C4=np.sqrt(C4_inten_err**2 + C4_beta_err**2  )\n",
    "sigma_S2=np.sqrt(S2_inten_err**2 + S2_beta_err**2  )\n",
    "sigma_S4=np.sqrt(S4_inten_err**2 + S4_beta_err**2  )\n"
   ]
  },
  {
   "cell_type": "markdown",
   "metadata": {},
   "source": [
    "We need to regard only the 0 $\\omega$, 2$\\omega$ and 4$\\omega$ signals, as these are the only ones contributing to the resulting intensity. As expected for horizontally polarized light the coefficients C2 and S2, which correspond to circular polarized light, are suppressed"
   ]
  },
  {
   "cell_type": "code",
   "execution_count": 473,
   "metadata": {},
   "outputs": [
    {
     "name": "stdout",
     "output_type": "stream",
     "text": [
      "C0= 1.0684267687742498e-05\n",
      "C2= -5.445373460213112e-07\n",
      "C4= -1.294584376906714e-06\n",
      "S2= -5.034491116498676e-07\n",
      "S4= -3.044785338841824e-06\n",
      "C0_inten_err= 1.4124840215418762e-08\n",
      "C2_inten_err= 9.987770299499064e-09\n",
      "C4_inten_err= 9.987770299499062e-09\n",
      "S2_inten_err= 9.98777029949906e-09\n",
      "S4_inten_err= 9.987770299499062e-09\n",
      "C0_beta_err= 0.0\n",
      "C2_beta_err= 4.534551324006189e-09\n",
      "C4_beta_err= 4.342865510328021e-09\n",
      "S2_beta_err= 8.083180998419888e-09\n",
      "S4_beta_err= 1.6987585411731115e-08\n",
      "sigma_C0= 7.062420107709381e-09\n",
      "sigma_C2= 1.0968943033200688e-08\n",
      "sigma_C4= 1.0891098952647169e-08\n",
      "sigma_S2= 1.2848866510660459e-08\n",
      "sigma_S4= 1.9706182118219028e-08\n"
     ]
    }
   ],
   "source": [
    "print(\"C0=\", Cs[0])\n",
    "print(\"C2=\", Cs[2]) \n",
    "print(\"C4=\", Cs[4])\n",
    "print(\"S2=\", Ss[2])\n",
    "print(\"S4=\", Ss[4])\n",
    "\n",
    "print(\"C0_inten_err=\", Cs_inten_err[0])\n",
    "print(\"C2_inten_err=\", Cs_inten_err[2]) \n",
    "print(\"C4_inten_err=\", Cs_inten_err[4])\n",
    "print(\"S2_inten_err=\", Ss_inten_err[2])\n",
    "print(\"S4_inten_err=\", Ss_inten_err[4])\n",
    "\n",
    "print(\"C0_beta_err=\", Cs_beta_err[0])\n",
    "print(\"C2_beta_err=\", Cs_beta_err[2]) \n",
    "print(\"C4_beta_err=\", Cs_beta_err[4])\n",
    "print(\"S2_beta_err=\", Ss_beta_err[2])\n",
    "print(\"S4_beta_err=\", Ss_beta_err[4])\n",
    "\n",
    "\n",
    "print(\"sigma_C0=\", sigma_C0)\n",
    "print(\"sigma_C2=\", sigma_C2)\n",
    "print(\"sigma_C4=\", sigma_C4)\n",
    "print(\"sigma_S2=\", sigma_S2)\n",
    "print(\"sigma_S4=\", sigma_S4)"
   ]
  },
  {
   "cell_type": "markdown",
   "metadata": {},
   "source": [
    "### Calculate coefficients for $\\alpha$=45°"
   ]
  },
  {
   "cell_type": "code",
   "execution_count": 474,
   "metadata": {},
   "outputs": [
    {
     "name": "stdout",
     "output_type": "stream",
     "text": [
      "[  0.   1.   2.   3.   4.   5.   6.   7.   8.   9.  10.  11.  12.  13.\n",
      "  14.  15.  16.  17.  18.  19.  20.  21.  22.  23.  24.  25.  26.  27.\n",
      "  28.  29.  30.  31.  32.  33.  34.  35.  36.  37.  38.  39.  40.  41.\n",
      "  42.  43.  44.  45.  46.  47.  48.  49.  50.  51.  52.  53.  54.  55.\n",
      "  56.  57.  58.  59.  60.  61.  62.  63.  64.  65.  66.  67.  68.  69.\n",
      "  70.  71.  72.  73.  74.  75.  76.  77.  78.  79.  80.  81.  82.  83.\n",
      "  84.  85.  86.  87.  88.  89.  90.  91.  92.  93.  94.  95.  96.  97.\n",
      "  98.  99. 100. 101. 102. 103. 104. 105. 106. 107. 108. 109. 110. 111.\n",
      " 112. 113. 114. 115. 116. 117. 118. 119. 120. 121. 122. 123. 124. 125.\n",
      " 126. 127. 128. 129. 130. 131. 132. 133. 134. 135. 136. 137. 138. 139.\n",
      " 140. 141. 142. 143. 144. 145. 146. 147. 148. 149. 150. 151. 152. 153.\n",
      " 154. 155. 156. 157. 158. 159. 160. 161. 162. 163. 164. 165. 166. 167.\n",
      " 168. 169. 170. 171. 172. 173. 174. 175. 176. 177. 178. 179.]\n"
     ]
    }
   ],
   "source": [
    "# Calculate discrete Fourier coefficients for an uneven number of data points N=2L+1\n",
    "names=['H-light', 'L-light', 'E-light']\n",
    "#%%\n",
    "intensity=power[1]\n",
    "\n",
    "L=180\n",
    "N=2*L\n",
    "index=np.linspace(0,359,360)*(np.pi/180)\n",
    "\n",
    "\n",
    "omega_k=[]\n",
    "# Define step size\n",
    "delta_beta=(index[1]-index[0])\n",
    "\n",
    "for i in np.arange(L):\n",
    "    omega_k.append(2*np.pi*i/(N*delta_beta))\n",
    "omega_k=np.array(omega_k)\n",
    "# Calculate Fourier series coefficients\n",
    "C_omega_k=[]\n",
    "S_omega_k=[]\n",
    "\n",
    "# Sum in definition of C_omega_k with cos terms\n",
    "\n",
    "def sum_cos(x):\n",
    "    ''' Calculate formula from above with variable x=omega_{k}'''\n",
    "    sum_cos=0\n",
    "    j=0\n",
    "    for i in index:\n",
    "        sum_cos=sum_cos+ intensity[j]*np.cos(x*i)\n",
    "        j+=1\n",
    "    return sum_cos\n",
    "a=sum_cos(omega_k)\n",
    "\n",
    "# Sum in definition of S_omega_k with sin terms\n",
    "def sum_sin(x):\n",
    "    '''Same with sin'''\n",
    "    sum_sin=0\n",
    "    j=0\n",
    "    for i in index:\n",
    "        sum_sin+= intensity[j]*np.sin(x*i)\n",
    "        j+=1\n",
    "    return sum_sin\n",
    "\n",
    "#print(sum_sin(omega_k))\n",
    "def fourier_coefficients(x):\n",
    "    '''Calculate complete Fourier coefficients'''\n",
    "    C_omega_k=(2/N)* sum_cos(x)\n",
    "    S_omega_k=(2/N)* sum_sin(x)\n",
    "    return C_omega_k, S_omega_k\n",
    "\n",
    "sigma_I=0.134*10**(-6)\n",
    "\n",
    "def sum_cos_inten_err(x):\n",
    "    ''' Calculate error on the cosine sum'''\n",
    "    sum_cos_error=0\n",
    "    for i in index:\n",
    "        sum_cos_error=sum_cos_error+ (np.cos(x*i))**2\n",
    "        \n",
    "    return sum_cos_error\n",
    "\n",
    "def sum_sin_inten_err(x):\n",
    "    ''' Calculate error on the sin sum'''\n",
    "    sum_sin_error=0\n",
    "    for i in index:\n",
    "        sum_sin_error=sum_sin_error+ (np.sin(x*i))**2\n",
    "        \n",
    "    return sum_sin_error\n",
    "\n",
    "def intensity_error(x):\n",
    "    ''' Calculate error on intensity with errors from the cosine and sine sums'''\n",
    "    C_omega_k_inten_error=np.sqrt(sum_cos_inten_err(x)*(2*sigma_I/N)**2 )\n",
    "    S_omega_k_inten_error=np.sqrt(sum_sin_inten_err(x)*(2*sigma_I/N)**2 )\n",
    "    return C_omega_k_inten_error, S_omega_k_inten_error\n",
    "\n",
    "sigma_beta=0.3*np.pi/180\n",
    "\n",
    "def sum_cos_beta_err(x):\n",
    "    ''' Calculate error on the cosine sum from beta error'''\n",
    "    sum_cos=0\n",
    "    j=0\n",
    "    for i in index:\n",
    "        sum_cos=sum_cos+ (intensity[j]*(np.sin(x*i)))**2\n",
    "        j+=1\n",
    "    return sum_cos\n",
    "\n",
    "def sum_sin_beta_err(x):\n",
    "    ''' Calculate error on the sine sum from beta error'''\n",
    "    sum_sin=0\n",
    "    j=0\n",
    "    for i in index:\n",
    "        sum_sin=sum_sin+ (intensity[j]*(x*np.cos(x*i)))**2\n",
    "        j+=1\n",
    "    return sum_sin\n",
    "\n",
    "def beta_error(x):\n",
    "    ''' Calculate error on the fourier coefficients from beta error '''\n",
    "    C_omega_k_beta_error=np.sqrt(sum_cos_beta_err(x)*(2*sigma_beta/N)**2)\n",
    "    S_omega_k_beta_error=np.sqrt(sum_sin_beta_err(x)*(2*sigma_beta/N)**2)\n",
    "    return C_omega_k_beta_error, S_omega_k_beta_error\n",
    "\n",
    "# Loop to get all Fourier coefficients\n",
    "Cs_prime=[]\n",
    "indices_prime=[]\n",
    "Ss_prime=[]\n",
    "\n",
    "Cs_inten_err_prime=[]\n",
    "Ss_inten_err_prime=[]\n",
    "\n",
    "Cs_beta_err_prime=[]\n",
    "Ss_beta_err_prime=[]\n",
    "# Calculate only first 11 Fourier coefficients\n",
    "\n",
    "# Find indices, where omega_k is closest to desired integer values\n",
    "\n",
    "for i in np.arange(11):\n",
    "    indices_prime.append(np.where(  np.absolute(omega_k-i)==np.amin(np.absolute(omega_k-i)) )[0][0] )\n",
    "\n",
    "for i in np.arange(11):\n",
    "    Cs_prime.append(fourier_coefficients(omega_k)[0][indices_prime[i]])\n",
    "    Ss_prime.append(fourier_coefficients(omega_k)[1][indices_prime[i]])\n",
    "    Cs_inten_err_prime.append(intensity_error(omega_k)[0][indices[i]])\n",
    "    Ss_inten_err_prime.append(intensity_error(omega_k)[1][indices[i]])\n",
    "    Cs_beta_err_prime.append(beta_error(omega_k)[0][indices[i]])\n",
    "    Ss_beta_err_prime.append(beta_error(omega_k)[1][indices[i]])\n",
    "Cs_prime[0]=Cs_prime[0]*0.5\n",
    "#Calculating Fourier coefficients, which correspond to omega_k=2, 4\n",
    "# Same method as above, did it just to check if the method is right\n",
    "# Find index of entry of omega_k, which is closest to omega_k = 0,2 or 4\n",
    "index_0,=np.where( omega_k==np.amin(omega_k) )\n",
    "index_2,=np.where(  np.absolute(omega_k-2)==np.amin(np.absolute(omega_k-2)) )\n",
    "index_4,=np.where(  np.absolute(omega_k-4)==np.amin(np.absolute(omega_k-4)) )\n",
    "\n",
    "\n",
    "# Calculate Fourier coefficients for omega_k = 2,4\n",
    "# Factor 0.5 for omega_k=0 to account for special case of fourier series coefficient formula\n",
    "C0_prime=fourier_coefficients(omega_k)[0][index_0[0]]*0.5\n",
    "C2_prime=fourier_coefficients(omega_k)[0][index_2[0]]\n",
    "C4_prime=fourier_coefficients(omega_k)[0][index_4[0]]\n",
    "S2_prime=fourier_coefficients(omega_k)[1][index_2[0]]\n",
    "S4_prime=fourier_coefficients(omega_k)[1][index_4[0]]\n",
    "\n",
    "C0_inten_err_prime=intensity_error(omega_k)[0][index_0[0]]*0.5\n",
    "C2_inten_err_prime=intensity_error(omega_k)[0][index_2[0]]\n",
    "C4_inten_err_prime=intensity_error(omega_k)[0][index_4[0]]\n",
    "S2_inten_err_prime=intensity_error(omega_k)[1][index_2[0]]\n",
    "S4_inten_err_prime=intensity_error(omega_k)[1][index_4[0]]\n",
    "\n",
    "C0_beta_err_prime=beta_error(omega_k)[0][index_0[0]]*0.5\n",
    "C2_beta_err_prime=beta_error(omega_k)[0][index_2[0]]\n",
    "C4_beta_err_prime=beta_error(omega_k)[0][index_4[0]]\n",
    "S2_beta_err_prime=beta_error(omega_k)[1][index_2[0]]\n",
    "S4_beta_err_prime=beta_error(omega_k)[1][index_4[0]]\n",
    "\n",
    "sigma_C0_prime=np.sqrt(C0_inten_err_prime**2 + C0_beta_err_prime**2  )\n",
    "sigma_C2_prime=np.sqrt(C2_inten_err_prime**2 + C2_beta_err_prime**2  )\n",
    "sigma_C4_prime=np.sqrt(C4_inten_err_prime**2 + C4_beta_err_prime**2  )\n",
    "sigma_S2_prime=np.sqrt(S2_inten_err_prime**2 + S2_beta_err_prime**2  )\n",
    "sigma_S4_prime=np.sqrt(S4_inten_err_prime**2 + S4_beta_err_prime**2  )\n",
    "\n"
   ]
  },
  {
   "cell_type": "code",
   "execution_count": 475,
   "metadata": {},
   "outputs": [
    {
     "name": "stdout",
     "output_type": "stream",
     "text": [
      "C0_prime= 7.491388270055915e-06\n",
      "C2_prime= -7.674339670164691e-08\n",
      "C4_prime= 1.981485896574493e-06\n",
      "S2_prime= -4.2385269657581047e-07\n",
      "S4_prime= -3.056060238946258e-06\n",
      "C0_inten_err_prime= 1.4124840215418762e-08\n",
      "C2_inten_err_prime= 9.987770299499064e-09\n",
      "C4_inten_err_prime= 9.987770299499062e-09\n",
      "S2_inten_err_prime= 9.98777029949906e-09\n",
      "S4_inten_err_prime= 9.987770299499062e-09\n",
      "C0_beta_err_prime= 0.0\n",
      "C2_beta_err_prime= 2.725605818705859e-09\n",
      "C4_beta_err_prime= 3.165261720313335e-09\n",
      "S2_beta_err_prime= 6.9228970640078186e-09\n",
      "S4_beta_err_prime= 1.2258333498869621e-08\n",
      "sigma_C0_prime= 7.062420107709381e-09\n",
      "sigma_C2_prime= 1.0352993897154527e-08\n",
      "sigma_C4_prime= 1.047732968430585e-08\n",
      "sigma_S2_prime= 1.2152450753424333e-08\n",
      "sigma_S4_prime= 1.581209333785583e-08\n"
     ]
    }
   ],
   "source": [
    "print(\"C0_prime=\", Cs_prime[0])\n",
    "print(\"C2_prime=\", Cs_prime[2]) \n",
    "print(\"C4_prime=\", Cs_prime[4])\n",
    "print(\"S2_prime=\", Ss_prime[2])\n",
    "print(\"S4_prime=\", Ss_prime[4])\n",
    "\n",
    "print(\"C0_inten_err_prime=\", Cs_inten_err_prime[0])\n",
    "print(\"C2_inten_err_prime=\", Cs_inten_err_prime[2]) \n",
    "print(\"C4_inten_err_prime=\", Cs_inten_err_prime[4])\n",
    "print(\"S2_inten_err_prime=\", Ss_inten_err_prime[2])\n",
    "print(\"S4_inten_err_prime=\", Ss_inten_err_prime[4])\n",
    "\n",
    "print(\"C0_beta_err_prime=\", Cs_beta_err_prime[0])\n",
    "print(\"C2_beta_err_prime=\", Cs_beta_err_prime[2]) \n",
    "print(\"C4_beta_err_prime=\", Cs_beta_err_prime[4])\n",
    "print(\"S2_beta_err_prime=\", Ss_beta_err_prime[2])\n",
    "print(\"S4_beta_err_prime=\", Ss_beta_err_prime[4])\n",
    "\n",
    "print(\"sigma_C0_prime=\", sigma_C0_prime)\n",
    "print(\"sigma_C2_prime=\", sigma_C2_prime)\n",
    "print(\"sigma_C4_prime=\", sigma_C4_prime)\n",
    "print(\"sigma_S2_prime=\", sigma_S2_prime)\n",
    "print(\"sigma_S4_prime=\", sigma_S4_prime)"
   ]
  },
  {
   "cell_type": "markdown",
   "metadata": {},
   "source": [
    "### Calculate calibration parameters according to formulas in paper\n",
    "$\\beta=\\frac{\\pi}{2}+1+2 \\frac{\\sqrt{C_{4}^2 + S_{4}^2}-C_{0}}{\\sqrt{C_{4}^2 + S_{4}^2}+C_{0}}$\n",
    "\n",
    "$\\alpha_{0}=\\frac{cot \\tilde{\\alpha}}{2}- \\frac{1}{sin(2 \\tilde{\\alpha})}\\frac{\\sqrt{C_{4}^2 + S_{4}^2} - \\tilde{C_{0}}}{ \\sqrt{C_{4}^2 + S_{4}^2 }- C_{0} }$\n",
    "\n",
    "$\\beta_{0}= \\frac{1}{4}\\left(arctan\\frac{S_{4}}{C_{4}} - 2\\alpha_{0} \\right)$\n",
    "\n",
    "With the variables with tilde being from the measurements for $\\alpha$=45°"
   ]
  },
  {
   "cell_type": "code",
   "execution_count": 476,
   "metadata": {},
   "outputs": [
    {
     "name": "stdout",
     "output_type": "stream",
     "text": [
      "1.0684267687742498e-05\n",
      "delta 86.89403003447751 1.5165869244284742\n",
      "alpha_0 -3.84499799527587 -0.0671078747501453\n",
      "beta_0 18.6639321393462 0.325747067200380\n",
      "0.997749111496985\n"
     ]
    }
   ],
   "source": [
    "delta=np.pi/2+1+2*(( np.sqrt(Cs[4]**2 + Ss[4]**2 ) -Cs[0]) /( np.sqrt( Cs[4]**2 + Ss[4]**2 )+Cs[0] ))\n",
    "alpha_0=(1/np.tan(np.pi/4))/2 -(1/sin(2*np.pi/4))*(( np.sqrt(Cs[4]**2 + Ss[4]**2 ) -Cs_prime[0]) /( np.sqrt( Cs[4]**2 + Ss[4]**2 )-Cs[0] ))\n",
    "beta_0=( np.arctan(Ss[4]/Cs[4]) -2*alpha_0 )/4 \n",
    "print('delta',delta*180/np.pi, delta)\n",
    "print('alpha_0',alpha_0*180/np.pi, alpha_0)\n",
    "print('beta_0',beta_0*180/np.pi, beta_0)\n",
    "print(cos(alpha_0))\n",
    "beta_0=0.325747067200380\n",
    "alpha_0=-0.0671078747501453\n",
    "delta=1.5165869244284742"
   ]
  },
  {
   "cell_type": "markdown",
   "metadata": {},
   "source": [
    "### Calculate errors on parameters\n",
    "\n"
   ]
  },
  {
   "cell_type": "code",
   "execution_count": 477,
   "metadata": {},
   "outputs": [
    {
     "name": "stdout",
     "output_type": "stream",
     "text": [
      "sigma_delta= 0.23457261141042854\n",
      "-0.0009301521417275405\n",
      "-0.003958321786374016\n",
      "-0.0004773562336277164\n",
      "sigma_alpha_0= 1.00198696039207\n",
      "-0.01745329251994329\n",
      "-7.85051078416677e-9\n",
      "-1.84476397161156e-9\n",
      "-0.0009575263108585474\n",
      "0.000543020711168338\n",
      "sigma_beta_0= 0.503975884984942\n",
      "-0.00874398576044583\n",
      "0.0007573323465674836\n",
      "-0.0005826274960510324\n"
     ]
    }
   ],
   "source": [
    "# Error on retardance beta\n",
    "\n",
    "dbdC4=4*C4*C0/( ((C4**2 + S4**2)**(1/2))*((C4**2 + S4**2)**(1/2) + C0)**2 )\n",
    "dbdS4=4*S4*C0/( ((C4**2 + S4**2)**(1/2))*((C4**2 + S4**2)**(1/2) + C0)**2 )\n",
    "dbdC0=-4*((C4**2 + S4**2)**(1/2))/((C4**2 + S4**2)**(1/2) + C0)**2\n",
    "\n",
    "sigma_delta=np.sqrt( (dbdC4*sigma_C4)**2 +(dbdS4*sigma_S4)**2 + (dbdC0*sigma_C0)**2 )\n",
    "\n",
    "print(\"sigma_delta=\",sigma_delta*180/np.pi)\n",
    "print(dbdC4*sigma_C4)\n",
    "print(dbdS4*sigma_S4)\n",
    "print(dbdC0*sigma_C0)\n",
    "# Error on alpha_0\n",
    "alpha_tilde=45*np.pi/180\n",
    "sigma_alpha_tilde=1*np.pi/180\n",
    "\n",
    "dalpha_0dalpha_tilde=-1/(2*np.sin(alpha_tilde)**2) + ( (((C4**2 + S4**2)**(1/2)) -C0_prime)/(((C4**2 + S4**2)**(1/2)) -C0) )*(2*np.cos(2*alpha_tilde))/(np.sin(2*alpha_tilde)**2)\n",
    "dalpha_0dS4=-S4*(C0_prime-C0)/(  (sin(2*alpha_tilde))* (((C4**2 + S4**2)**(1/2)))* (C0- ((C4**2 + S4**2)**(1/2))) )\n",
    "dalpha_0dC4=-C4*(C0_prime-C0)/(  (sin(2*alpha_tilde))* (((C4**2 + S4**2)**(1/2)))* (C0- ((C4**2 + S4**2)**(1/2))) )\n",
    "dalpha_0dC0_prime=1/(np.sin(2*alpha_tilde)*(((C4**2 + S4**2)**(1/2))-C0))\n",
    "dalpha_0dC0=-(((C4**2 + S4**2)**(1/2))- C0_prime)/( (sin(2*alpha_tilde))*(((C4**2 + S4**2)**(1/2))-C0)**2 )\n",
    "\n",
    "sigma_alpha_0= ((dalpha_0dalpha_tilde*sigma_alpha_tilde)**2 + (dalpha_0dS4*sigma_S4)**2 + (dalpha_0dC4*sigma_C4)**2 +(dalpha_0dC0_prime*sigma_C0_prime)**2 +(dalpha_0dC0*sigma_C0)**2)**(0.5)\n",
    "\n",
    "print(\"sigma_alpha_0=\",sigma_alpha_0*180/np.pi)\n",
    "print(dalpha_0dalpha_tilde*sigma_alpha_tilde)\n",
    "print(dalpha_0dS4*sigma_S4)\n",
    "print(dalpha_0dC4*sigma_C4)\n",
    "print(dalpha_0dC0_prime*sigma_C0_prime)\n",
    "print(dalpha_0dC0*sigma_C0)\n",
    "# Error on beta_0\n",
    "\n",
    "dbeta_0dS4=C4/(4*(S4**2 +C4**2))\n",
    "dbeta_0dC4=-S4/(4*(S4**2 +C4**2))\n",
    "dbeta_0dalpha_0=-0.5\n",
    "\n",
    "sigma_beta_0=( (dbeta_0dS4*sigma_S4)**2 + (dbeta_0dC4*sigma_C4)**2 + (dbeta_0dalpha_0*sigma_alpha_0)**2)**(0.5)\n",
    "\n",
    "print(\"sigma_beta_0=\", sigma_beta_0*180/np.pi)\n",
    "print(dbeta_0dalpha_0*sigma_alpha_0)\n",
    "print(dbeta_0dC4*sigma_C4)\n",
    "print(dbeta_0dS4*sigma_S4)"
   ]
  },
  {
   "cell_type": "markdown",
   "metadata": {},
   "source": [
    "### Calculate the other Stokes parameters\n",
    "\\begin{align}\n",
    "M=\\frac{2}{1-cos\\delta}\\left[C_{4}cos(2\\alpha + 4\\beta_{0}) + S_{4}sin(2\\alpha + 4\\beta_{0})\\right]\\\\\n",
    "|M|=\\frac{2}{1-cos\\delta} \\left( C_{4}^2 + S_{4}^2  \\right)^{\\frac{1}{2}}\\\\\n",
    "C=\\frac{2}{1-cos\\delta}\\left[S_{4}cos(2\\alpha + 4\\beta_{0}) - C_{4}sin(2\\alpha + 4\\beta_{0})\\right]\\\\\n",
    "S=\\frac{C_{2}}{sin\\delta sin(2\\alpha + 4\\beta_{0})}=\\frac{-S_{2}}{sin \\delta cos(2\\alpha + 4\\beta_{0})}\\\\\n",
    "|S|= \\frac{  \\left( C_{2}^2 + S_{2}^2\\right)^{\\frac{1}{2}}}{  sin^2 \\delta}\\\\\n",
    "I=C_{0} - \\frac{1+cos \\delta}{1-cos \\delta} \\left[  C_{4} cos(4 \\alpha+ 4\\beta_{0}) + S_{4} sin(4\\alpha +4\\beta_{0})     \\right]\n",
    "\\end{align} \n",
    "In order to obtain the values of the parameters we need to measure the angles $\\alpha$ and $\\beta_{0}$, where $\\alpha$ can be obtained while setting the system up and $\\beta_{0}$ can be obtained by measuring either strongly circularly polarized light or strongly linearly polarized light and using the relations above.\n",
    "\n",
    "For strongly linearly polarized light with C=S=0 we get\n",
    "\\begin{align}\n",
    "tan(4\\beta_{0} + 2\\alpha)=\\frac{S_{4}}{C_{4}}\n",
    "\\end{align}\n",
    "\n",
    "\n",
    "\n",
    "The retardance from the previous calculations was used"
   ]
  },
  {
   "cell_type": "markdown",
   "metadata": {},
   "source": [
    "For $\\beta_{0}$ from the formula for horizontally polarized light we get"
   ]
  },
  {
   "cell_type": "code",
   "execution_count": 478,
   "metadata": {},
   "outputs": [
    {
     "data": {
      "text/plain": [
       "'beta_{0}'"
      ]
     },
     "metadata": {},
     "output_type": "display_data"
    },
    {
     "data": {
      "image/png": "[encoded data removed]",
      "text/latex": [
       "$$0.32574706720038$$"
      ],
      "text/plain": [
       "0.32574706720038"
      ]
     },
     "metadata": {},
     "output_type": "display_data"
    },
    {
     "name": "stdout",
     "output_type": "stream",
     "text": [
      "18.663932139346183\n",
      "Ss4/Cs4 2.3519404321231256\n"
     ]
    }
   ],
   "source": [
    "display('beta_{0}', beta_0)\n",
    "print(beta_0*180/np.pi)\n",
    "print('Ss4/Cs4', Ss[4]/Cs[4])"
   ]
  },
  {
   "cell_type": "code",
   "execution_count": 479,
   "metadata": {},
   "outputs": [
    {
     "name": "stdout",
     "output_type": "stream",
     "text": [
      "|S|= 7.43791274231166e-7\n",
      "|M|= 6.99622481696474e-6\n"
     ]
    }
   ],
   "source": [
    "modulus_S=sqrt( Cs[2]**2 + Ss[2]**2  )/(np.sin(delta)**2)\n",
    "modulus_M=sqrt( Cs[4]**2 + Ss[4]**2  )*2/(1-np.cos(delta))\n",
    "\n",
    "print('|S|=', modulus_S)\n",
    "print('|M|=', modulus_M)\n",
    "\n",
    "# Calculate Stokes parameters from angles\n",
    "\n",
    "\n",
    "\n",
    "\n",
    "# Calculate Stokes parameters from angles and Fourier coefficients\n",
    "M=(2/(1-np.cos(delta)))*( Cs[4]*cos(2*alpha_0-4*beta_0 ) + Ss[4]*sin(2*alpha_0-4*beta_0)  )\n",
    "C=(2/(1-np.cos(delta)))*( Ss[4]*cos(2*alpha_0-4*beta_0 ) - Cs[4]*sin(2*alpha_0-4*beta_0)  )\n",
    "# Calculate S from Cs[2] and Ss[2] each to check on plausibility (see Formula)\n",
    "S_first=Cs[2]/(sin(delta)*sin(2*alpha_0-2*beta_0))\n",
    "S_second=-Ss[2]/(sin(delta)*cos(2*alpha_0-2*beta_0))\n",
    "I=Cs[0]-((1+np.cos(delta))/(1-np.cos(delta)))*(Cs[4]*cos(4*alpha_0 - 4*beta_0)+Ss[4]*sin(4*alpha_0 - 4*beta_0))\n",
    "L=np.sqrt(Cs[4]**2 +Ss[4]**2)/sin(delta/2)**2\n",
    "L_other=sqrt(M**2 + C**2)\n",
    "# Modulation ratio\n",
    "# Corresponds to expectations for vertically polarized light\n",
    "#eta=M*(1-np.cos(delta))/(2*I + M*np.cos(2*alpha*(1+np.cos(delta))))"
   ]
  },
  {
   "cell_type": "markdown",
   "metadata": {},
   "source": [
    "### Comparison computed Stokes parameters and measured Stokes parameters\n",
    "\n",
    "$$\\vec{S}_{Meas.}=\\left(\\begin{array}{c} 1 \\\\ 0.999 \\\\ 0.003 \\\\ 0.020 \\end{array}\\right)$$"
   ]
  },
  {
   "cell_type": "code",
   "execution_count": 480,
   "metadata": {},
   "outputs": [
    {
     "name": "stdout",
     "output_type": "stream",
     "text": [
      "I= 7.28973130480259e-6\n",
      "M/I= 0.825329998732581\n",
      "C/I= -0.489821899060812\n",
      "S from C_{2}/I= 0.105763117972208\n",
      "S from -S_{2}/I= 0.0978437098696281\n",
      "L/I 0.959736995018667\n",
      "L_other/I 0.959736995018667\n"
     ]
    }
   ],
   "source": [
    "print('I=', I)\n",
    "print('M/I=', (M/I) )\n",
    "print('C/I=', (C/I)   )\n",
    "print('S from C_{2}/I=', S_first/I)\n",
    "print('S from -S_{2}/I=', S_second/I)\n",
    "print('L/I',L/I)\n",
    "print('L_other/I', L_other/I)"
   ]
  },
  {
   "cell_type": "markdown",
   "metadata": {},
   "source": [
    "We see that the S values have different signs, which could be due to weak 2 $\\omega$ signals. The other values correspond to the measured values."
   ]
  },
  {
   "cell_type": "markdown",
   "metadata": {},
   "source": [
    "The magnitude of S can always be computed without knowing the angles $\\alpha$ and $\\beta$"
   ]
  },
  {
   "cell_type": "code",
   "execution_count": 481,
   "metadata": {},
   "outputs": [
    {
     "name": "stdout",
     "output_type": "stream",
     "text": [
      "|S|= 7.43791274231166e-7\n",
      "Normalized |S| with sign from S_{2}= 0.102032742104108\n",
      "Normalized |S| with sign from C_{2}= 0.102032742104108\n"
     ]
    }
   ],
   "source": [
    "print('|S|=', modulus_S)\n",
    "print('Normalized |S| with sign from S_{2}=', (modulus_S/I)*np.sign(S_second) )\n",
    "print('Normalized |S| with sign from C_{2}=', (modulus_S/I)*np.sign(S_first) )"
   ]
  },
  {
   "cell_type": "markdown",
   "metadata": {},
   "source": [
    "For horizontally polarized light we can also calculate vertical polarization without knowing the angles $\\alpha$ and $\\beta$\n",
    "$$|M|=\\frac{2}{1-cos\\delta} \\left( C_{4}^2 + S_{4}^2  \\right)^{\\frac{1}{2}}$$"
   ]
  },
  {
   "cell_type": "code",
   "execution_count": 482,
   "metadata": {},
   "outputs": [
    {
     "data": {
      "text/plain": [
       "'|M|'"
      ]
     },
     "metadata": {},
     "output_type": "display_data"
    },
    {
     "data": {
      "image/png": "[encoded data removed]",
      "text/latex": [
       "$$6.99622481696474 \\cdot 10^{-6}$$"
      ],
      "text/plain": [
       "6.99622481696474e-6"
      ]
     },
     "metadata": {},
     "output_type": "display_data"
    },
    {
     "data": {
      "text/plain": [
       "'|M|/I'"
      ]
     },
     "metadata": {},
     "output_type": "display_data"
    },
    {
     "data": {
      "image/png": "[encoded data removed]",
      "text/latex": [
       "$$0.959736995018667$$"
      ],
      "text/plain": [
       "0.959736995018667"
      ]
     },
     "metadata": {},
     "output_type": "display_data"
    }
   ],
   "source": [
    "display('|M|', modulus_M)\n",
    "display('|M|/I', modulus_M/I)"
   ]
  },
  {
   "cell_type": "markdown",
   "metadata": {},
   "source": [
    "These values are also in agreement with the measurement"
   ]
  },
  {
   "cell_type": "markdown",
   "metadata": {},
   "source": [
    "Absolute values for completeness"
   ]
  },
  {
   "cell_type": "code",
   "execution_count": 483,
   "metadata": {},
   "outputs": [
    {
     "name": "stdout",
     "output_type": "stream",
     "text": [
      "M= 6.01643392855357e-6\n",
      "C= -3.57067003136145e-6\n",
      "S_first= 7.70984711975535e-7\n",
      "S_second= 7.13254354814649e-7\n",
      "I= 7.28973130480259e-6\n"
     ]
    }
   ],
   "source": [
    "print('M=', M)\n",
    "print('C=', C)\n",
    "print('S_first=', S_first)\n",
    "print('S_second=', S_second)\n",
    "print('I=', I)\n",
    "#print('Modulation ratio eta=', eta)"
   ]
  },
  {
   "cell_type": "markdown",
   "metadata": {},
   "source": [
    "### Evaluate Measurement\n",
    "\n",
    "Now where we have obtained the parameters from the calibration for $\\alpha_{0}$, $\\beta_{0}$ and $\\delta$ we can plug them into our calculations and evalutate any measurement"
   ]
  },
  {
   "cell_type": "code",
   "execution_count": 484,
   "metadata": {},
   "outputs": [
    {
     "name": "stdout",
     "output_type": "stream",
     "text": [
      "[  0.   1.   2.   3.   4.   5.   6.   7.   8.   9.  10.  11.  12.  13.\n",
      "  14.  15.  16.  17.  18.  19.  20.  21.  22.  23.  24.  25.  26.  27.\n",
      "  28.  29.  30.  31.  32.  33.  34.  35.  36.  37.  38.  39.  40.  41.\n",
      "  42.  43.  44.  45.  46.  47.  48.  49.  50.  51.  52.  53.  54.  55.\n",
      "  56.  57.  58.  59.  60.  61.  62.  63.  64.  65.  66.  67.  68.  69.\n",
      "  70.  71.  72.  73.  74.  75.  76.  77.  78.  79.  80.  81.  82.  83.\n",
      "  84.  85.  86.  87.  88.  89.  90.  91.  92.  93.  94.  95.  96.  97.\n",
      "  98.  99. 100. 101. 102. 103. 104. 105. 106. 107. 108. 109. 110. 111.\n",
      " 112. 113. 114. 115. 116. 117. 118. 119. 120. 121. 122. 123. 124. 125.\n",
      " 126. 127. 128. 129. 130. 131. 132. 133. 134. 135. 136. 137. 138. 139.\n",
      " 140. 141. 142. 143. 144. 145. 146. 147. 148. 149. 150. 151. 152. 153.\n",
      " 154. 155. 156. 157. 158. 159. 160. 161. 162. 163. 164. 165. 166. 167.\n",
      " 168. 169. 170. 171. 172. 173. 174. 175. 176. 177. 178. 179.]\n"
     ]
    }
   ],
   "source": [
    "# Calculate discrete Fourier coefficients for an uneven number of data points N=2L+1\n",
    "names=['H-light', 'L-light', 'E-light']\n",
    "\n",
    "# Choose the measurement\n",
    "z=2\n",
    "intensity=power[z]\n",
    "\n",
    "L=180\n",
    "N=2*L\n",
    "index=np.linspace(0,359,360)*(np.pi/180)\n",
    "\n",
    "\n",
    "omega_k=[]\n",
    "# Define step size\n",
    "delta_beta=(index[1]-index[0])\n",
    "#print(index)\n",
    "for i in np.arange(L):\n",
    "    omega_k.append(2*np.pi*i/(N*delta_beta))\n",
    "omega_k=np.array(omega_k)\n",
    "# Calculate Fourier series coefficients\n",
    "C_omega_k=[]\n",
    "S_omega_k=[]\n",
    "#print(len(index))\n",
    "print(omega_k)\n",
    "# Sum in definition of C_omega_k with cos terms\n",
    "\n",
    "def sum_cos(x):\n",
    "    ''' Calculate formula from above with variable x=omega_{k}'''\n",
    "    sum_cos=0\n",
    "    j=0\n",
    "    for i in index:\n",
    "        sum_cos=sum_cos+ intensity[j]*np.cos(x*i)\n",
    "        j+=1\n",
    "    return sum_cos\n",
    "a=sum_cos(omega_k)\n",
    "\n",
    "# Sum in definition of S_omega_k with sin terms\n",
    "def sum_sin(x):\n",
    "    '''Same with sin'''\n",
    "    sum_sin=0\n",
    "    j=0\n",
    "    for i in index:\n",
    "        sum_sin+= intensity[j]*np.sin(x*i)\n",
    "        j+=1\n",
    "    return sum_sin\n",
    "\n",
    "#print(sum_sin(omega_k))\n",
    "def fourier_coefficients(x):\n",
    "    '''Calculate complete Fourier coefficients'''\n",
    "    C_omega_k=(2/N)* sum_cos(x)\n",
    "    S_omega_k=(2/N)* sum_sin(x)\n",
    "    return C_omega_k, S_omega_k\n",
    "\n",
    "sigma_I=0.134*10**(-6)\n",
    "\n",
    "def sum_cos_inten_err(x):\n",
    "    ''' Calculate formula from above with variable x=omega_{k}'''\n",
    "    sum_cos_error=0\n",
    "    for i in index:\n",
    "        sum_cos_error=sum_cos_error+ (np.cos(x*i))**2\n",
    "        \n",
    "    return sum_cos_error\n",
    "\n",
    "def sum_sin_inten_err(x):\n",
    "    ''' Same with sin'''\n",
    "    sum_sin_error=0\n",
    "    for i in index:\n",
    "        sum_sin_error=sum_sin_error+ (np.sin(x*i))**2\n",
    "        \n",
    "    return sum_sin_error\n",
    "\n",
    "def intensity_error(x):\n",
    "    C_omega_k_inten_error=np.sqrt(sum_cos_inten_err(x)*(2*sigma_I/N)**2 )\n",
    "    S_omega_k_inten_error=np.sqrt(sum_sin_inten_err(x)*(2*sigma_I/N)**2 )\n",
    "    return C_omega_k_inten_error, S_omega_k_inten_error\n",
    "\n",
    "# Define error on sigma_beta\n",
    "sigma_beta=0.3*np.pi/180\n",
    "\n",
    "def sum_cos_beta_err(x):\n",
    "    \n",
    "    sum_cos=0\n",
    "    j=0\n",
    "    for i in index:\n",
    "        sum_cos=sum_cos+ (intensity[j]*(np.sin(x*i)))**2\n",
    "        j+=1\n",
    "    return sum_cos\n",
    "\n",
    "def sum_sin_beta_err(x):\n",
    "    \n",
    "    sum_sin=0\n",
    "    j=0\n",
    "    for i in index:\n",
    "        sum_sin=sum_sin+ (intensity[j]*(x*np.cos(x*i)))**2\n",
    "        j+=1\n",
    "    return sum_sin\n",
    "\n",
    "def beta_error(x):\n",
    "    C_omega_k_beta_error=np.sqrt(sum_cos_beta_err(x)*(2*sigma_beta/N)**2)\n",
    "    S_omega_k_beta_error=np.sqrt(sum_sin_beta_err(x)*(2*sigma_beta/N)**2)\n",
    "    return C_omega_k_beta_error, S_omega_k_beta_error\n",
    "\n",
    "# Loop to get all Fourier coefficients\n",
    "Cs=[]\n",
    "indices=[]\n",
    "Ss=[]\n",
    "\n",
    "Cs_inten_err=[]\n",
    "Ss_inten_err=[]\n",
    "\n",
    "Cs_beta_err=[]\n",
    "Ss_beta_err=[]\n",
    "\n",
    "#Cs_omega_err=[]\n",
    "#Ss_omega_err=[]\n",
    "\n",
    "# Calculate only first 11 Fourier coefficients\n",
    "\n",
    "# Find indices, where omega_k is closest to desired integer values\n",
    "\n",
    "for i in np.arange(11):\n",
    "    indices.append(np.where(  np.absolute(omega_k-i)==np.amin(np.absolute(omega_k-i)) )[0][0] )\n",
    "\n",
    "for i in np.arange(11):\n",
    "    Cs.append(fourier_coefficients(omega_k)[0][indices[i]])\n",
    "    Ss.append(fourier_coefficients(omega_k)[1][indices[i]])\n",
    "    Cs_inten_err.append(intensity_error(omega_k)[0][indices[i]])\n",
    "    Ss_inten_err.append(intensity_error(omega_k)[1][indices[i]])\n",
    "    Cs_beta_err.append(beta_error(omega_k)[0][indices[i]])\n",
    "    Ss_beta_err.append(beta_error(omega_k)[1][indices[i]])\n",
    "    #Cs_omega_err.append(omega_error(omega_k)[0][indices[i]])\n",
    "    #Ss_omega_err.append(omega_error(omega_k)[1][indices[i]])\n",
    "Cs[0]=Cs[0]*0.5\n",
    "#Calculating Fourier coefficients, which correspond to omega_k=2, 4\n",
    "# Same method as above, did it just to check if the method is right\n",
    "# Find index of entry of omega_k, which is closest to omega_k = 0,2 or 4\n",
    "index_0,=np.where( omega_k==np.amin(omega_k) )\n",
    "index_2,=np.where(  np.absolute(omega_k-2)==np.amin(np.absolute(omega_k-2)) )\n",
    "index_4,=np.where(  np.absolute(omega_k-4)==np.amin(np.absolute(omega_k-4)) )\n",
    "\n",
    "\n",
    "#print('Cs=', Cs)\n",
    "#print(omega_k)\n",
    "# Calculate Fourier coefficients for omega_k = 2,4\n",
    "# Factor 0.5 for omega_k=0 to account for special case of fourier series coefficient formula\n",
    "C0=fourier_coefficients(omega_k)[0][index_0[0]]*0.5\n",
    "C2=fourier_coefficients(omega_k)[0][index_2[0]]\n",
    "C4=fourier_coefficients(omega_k)[0][index_4[0]]\n",
    "S2=fourier_coefficients(omega_k)[1][index_2[0]]\n",
    "S4=fourier_coefficients(omega_k)[1][index_4[0]]\n",
    "\n",
    "C0_inten_err=intensity_error(omega_k)[0][index_0[0]]*0.5\n",
    "C2_inten_err=intensity_error(omega_k)[0][index_2[0]]\n",
    "C4_inten_err=intensity_error(omega_k)[0][index_4[0]]\n",
    "S2_inten_err=intensity_error(omega_k)[1][index_2[0]]\n",
    "S4_inten_err=intensity_error(omega_k)[1][index_4[0]]\n",
    "\n",
    "C0_beta_err=beta_error(omega_k)[0][index_0[0]]*0.5\n",
    "C2_beta_err=beta_error(omega_k)[0][index_2[0]]\n",
    "C4_beta_err=beta_error(omega_k)[0][index_4[0]]\n",
    "S2_beta_err=beta_error(omega_k)[1][index_2[0]]\n",
    "S4_beta_err=beta_error(omega_k)[1][index_4[0]]\n",
    "\n",
    "\n",
    "sigma_C0=np.sqrt(C0_inten_err**2 + C0_beta_err**2  )\n",
    "sigma_C2=np.sqrt(C2_inten_err**2 + C2_beta_err**2  )\n",
    "sigma_C4=np.sqrt(C4_inten_err**2 + C4_beta_err**2  )\n",
    "sigma_S2=np.sqrt(S2_inten_err**2 + S2_beta_err**2  )\n",
    "sigma_S4=np.sqrt(S4_inten_err**2 + S4_beta_err**2  )"
   ]
  },
  {
   "cell_type": "code",
   "execution_count": 485,
   "metadata": {},
   "outputs": [
    {
     "name": "stdout",
     "output_type": "stream",
     "text": [
      "C0= 8.053885018297375e-06\n",
      "C2= -1.5427208153585117e-07\n",
      "C4= -7.019852955492545e-08\n",
      "S2= -4.045991192126805e-07\n",
      "S4= -2.6091879703371646e-06\n",
      "C0_inten_err= 1.4124840215418762e-08\n",
      "C2_inten_err= 9.987770299499064e-09\n",
      "C4_inten_err= 9.987770299499062e-09\n",
      "S2_inten_err= 9.98777029949906e-09\n",
      "S4_inten_err= 9.987770299499062e-09\n",
      "C0_beta_err= 0.0\n",
      "C2_beta_err= 3.2459985523074978e-09\n",
      "C4_beta_err= 3.28511602615496e-09\n",
      "S2_beta_err= 6.439733374457562e-09\n",
      "S4_beta_err= 1.271978665217802e-08\n",
      "sigma_C0= 7.062420107709381e-09\n",
      "sigma_C2= 1.0502002768859756e-08\n",
      "sigma_C4= 1.0514159160905628e-08\n",
      "sigma_S2= 1.1883842875503619e-08\n",
      "sigma_S4= 1.6172462027547992e-08\n"
     ]
    }
   ],
   "source": [
    "print(\"C0=\", Cs[0])\n",
    "print(\"C2=\", Cs[2]) \n",
    "print(\"C4=\", Cs[4])\n",
    "print(\"S2=\", Ss[2])\n",
    "print(\"S4=\", Ss[4])\n",
    "\n",
    "print(\"C0_inten_err=\", Cs_inten_err[0])\n",
    "print(\"C2_inten_err=\", Cs_inten_err[2]) \n",
    "print(\"C4_inten_err=\", Cs_inten_err[4])\n",
    "print(\"S2_inten_err=\", Ss_inten_err[2])\n",
    "print(\"S4_inten_err=\", Ss_inten_err[4])\n",
    "\n",
    "print(\"C0_beta_err=\", Cs_beta_err[0])\n",
    "print(\"C2_beta_err=\", Cs_beta_err[2]) \n",
    "print(\"C4_beta_err=\", Cs_beta_err[4])\n",
    "print(\"S2_beta_err=\", Ss_beta_err[2])\n",
    "print(\"S4_beta_err=\", Ss_beta_err[4])\n",
    "\n",
    "\n",
    "print(\"sigma_C0=\", sigma_C0)\n",
    "print(\"sigma_C2=\", sigma_C2)\n",
    "print(\"sigma_C4=\", sigma_C4)\n",
    "print(\"sigma_S2=\", sigma_S2)\n",
    "print(\"sigma_S4=\", sigma_S4)\n"
   ]
  },
  {
   "cell_type": "code",
   "execution_count": 486,
   "metadata": {},
   "outputs": [
    {
     "name": "stdout",
     "output_type": "stream",
     "text": [
      "|S|= 4.34288049154608e-7\n",
      "|M|= 5.51931657966108e-6\n"
     ]
    }
   ],
   "source": [
    "modulus_S=sqrt( Cs[2]**2 + Ss[2]**2  )/(np.sin(delta)**2)\n",
    "modulus_M=sqrt( Cs[4]**2 + Ss[4]**2  )*2/(1-np.cos(delta))\n",
    "\n",
    "print('|S|=', modulus_S)\n",
    "print('|M|=', modulus_M)\n",
    "\n",
    "# Calculate Stokes parameters from angles\n",
    "\n",
    "\n",
    "\n",
    "\n",
    "# Calculate Stokes parameters from angles and Fourier coefficients\n",
    "M=(2/(1-np.cos(delta)))*( Cs[4]*cos(2*alpha_0-4*beta_0 ) + Ss[4]*sin(2*alpha_0-4*beta_0)  )\n",
    "C=(2/(1-np.cos(delta)))*( Ss[4]*cos(2*alpha_0-4*beta_0 ) - Cs[4]*sin(2*alpha_0-4*beta_0)  )\n",
    "# Calculate S from Cs[2] and Ss[2] each to check on plausibility (see Formula)\n",
    "S_first=Cs[2]/(sin(delta)*sin(2*alpha_0-2*beta_0))\n",
    "S_second=-Ss[2]/(sin(delta)*cos(2*alpha_0-2*beta_0))\n",
    "I=Cs[0]-((1+np.cos(delta))/(1-np.cos(delta)))*(Cs[4]*cos(4*alpha_0 - 4*beta_0)+Ss[4]*sin(4*alpha_0 - 4*beta_0))\n",
    "L=np.sqrt(Cs[4]**2 +Ss[4]**2)/sin(delta/2)**2\n",
    "L_other=sqrt(M**2 + C**2)\n",
    "# Modulation ratio\n",
    "# Corresponds to expectations for vertically polarized light\n",
    "#eta=M*(1-np.cos(delta))/(2*I + M*np.cos(2*alpha*(1+np.cos(delta))))"
   ]
  },
  {
   "cell_type": "code",
   "execution_count": null,
   "metadata": {},
   "outputs": [],
   "source": [
    "### Print all calculated values"
   ]
  },
  {
   "cell_type": "code",
   "execution_count": 487,
   "metadata": {},
   "outputs": [
    {
     "name": "stdout",
     "output_type": "stream",
     "text": [
      "C0= 8.053885018297375e-06\n",
      "C2= -1.5427208153585117e-07\n",
      "C4= -7.019852955492545e-08\n",
      "S2= -4.045991192126805e-07\n",
      "S4= -2.6091879703371646e-06\n",
      "I= 5.14570467498417e-6\n",
      "M/I= 1.05882256657292\n",
      "C/I= -0.171404786026824\n",
      "S from C_{2}/I= 0.0424483269849296\n",
      "S from -S_{2}/I= 0.111395828723233\n",
      "L/I 1.07260655794982\n",
      "L_other/I 1.07260655794982\n",
      "|S|= 4.34288049154608e-7\n",
      "|S|/I with sign from S_{2}= 0.0843981682947912\n",
      "|S|/I with sign from C_{2}= 0.0843981682947912\n",
      "(L/I)**2 + (|S|/I)**2= 1.15760787896848\n",
      "|M| 5.51931657966108e-6\n",
      "|M|/I 1.07260655794982\n"
     ]
    }
   ],
   "source": [
    "print(\"C0=\", Cs[0])\n",
    "print(\"C2=\", Cs[2]) \n",
    "print(\"C4=\", Cs[4])\n",
    "print(\"S2=\", Ss[2])\n",
    "print(\"S4=\", Ss[4])\n",
    "print('I=', I)\n",
    "print('M/I=', (M/I) )\n",
    "print('C/I=', (C/I)   )\n",
    "print('S from C_{2}/I=', S_first/I)\n",
    "print('S from -S_{2}/I=', S_second/I)\n",
    "print('L/I',L/I)\n",
    "print('L_other/I', L_other/I)\n",
    "\n",
    "print('|S|=', modulus_S)\n",
    "print('|S|/I with sign from S_{2}=', (modulus_S/I)*np.sign(S_second) )\n",
    "print('|S|/I with sign from C_{2}=', (modulus_S/I)*np.sign(S_first) )\n",
    "\n",
    "print('(L/I)**2 + (|S|/I)**2=',(L/I)**2 + (modulus_S/I)**2)\n",
    "\n",
    "print('|M|', modulus_M)\n",
    "print('|M|/I', modulus_M/I)"
   ]
  },
  {
   "cell_type": "code",
   "execution_count": 488,
   "metadata": {},
   "outputs": [
    {
     "name": "stdout",
     "output_type": "stream",
     "text": [
      "M= 5.44838823079301e-6\n",
      "C= -8.81998408772888e-7\n",
      "S_first= 2.18426554611609e-7\n",
      "S_second= 5.73210036634875e-7\n",
      "I= 5.14570467498417e-6\n"
     ]
    }
   ],
   "source": [
    "print('M=', M)\n",
    "print('C=', C)\n",
    "print('S_first=', S_first)\n",
    "print('S_second=', S_second)\n",
    "print('I=', I)\n",
    "#print('Modulation ratio eta=', eta)"
   ]
  },
  {
   "cell_type": "markdown",
   "metadata": {},
   "source": [
    "### Calculate Errors on Stokes parameters\n",
    "\n"
   ]
  },
  {
   "cell_type": "code",
   "execution_count": 499,
   "metadata": {},
   "outputs": [
    {
     "name": "stdout",
     "output_type": "stream",
     "text": [
      "sigma_I 3.17456137803609e-8\n",
      "sigma_M 3.31289593491499e-7\n",
      "3.812210344181858e-09\n",
      "2.2034863882899688e-08\n",
      "4.5549942912064596e-09\n",
      "-1.90562516429739e-7\n",
      "-1.9018462710849333e-07\n",
      "1.91696931515068e-7\n",
      "sigma_M_over_I 0.0647123088702804\n",
      "sigma_C 6.76358456353249e-8\n",
      "2.3549251071150313e-08\n",
      "-2.961326165007075e-09\n",
      "3.389315245991476e-08\n",
      "3.08487261081840e-8\n",
      "3.078755246087545e-08\n",
      "-3.10323679959801e-8\n",
      "sigma_C_over_I 0.0131866045704951\n",
      "sigma_S_C2 1.87873666484037e-8\n",
      "4.85546903232797e-11\n",
      "1.4878562769963123e-08\n",
      "7.64920644777346e-9\n",
      "7.634037916801207e-09\n",
      "-3.84737101512849e-9\n",
      "sigma_S_C2_over_I 0.00366045724733728\n",
      "sigma_S_S2 3.44758922533465e-8\n",
      "sigma_S_S2_over_I 0.00673509023840142\n",
      "sigma_modM 4.1690593087358967e-08\n",
      "sigma_modM_over_I 0.0104609299377668\n",
      "sigma_modS= 1.1753560923626409e-08\n",
      "-3.752626382017123e-09\n",
      "-1.1136730077481625e-08\n",
      "-1.9295803611894237e-10\n",
      "sigma_modS_over_I 0.00234274406723982\n",
      "0.00228414992037268\n",
      "2.71108905848852e-7\n",
      "sigma_L= 4.1690593087358967e-08\n",
      "-5.979472656890817e-10\n",
      "-3.4185491620318066e-08\n",
      "-2.385582054175378e-08\n",
      "sigma_L_over_I= 0.0104609299377668\n",
      "0.00810201823086305\n",
      "-0.00661727706459604\n"
     ]
    }
   ],
   "source": [
    "# Error on intensity\n",
    "\n",
    "\n",
    "\n",
    "dIdC0=1\n",
    "dIddelta=(2*np.sin(delta))*(C4*np.cos(4*alpha_0 + 4*alpha_tilde - 4*beta_0) + S4*np.sin(4*alpha_0 + 4*alpha_tilde - 4*beta_0))/((1-np.cos(delta))**2)\n",
    "dIdC4=(np.cos(delta)+1)*(np.cos(4*alpha_0 + 4*alpha_tilde - 4*beta_0))/(np.cos(delta)-1)\n",
    "dIdS4=(np.cos(delta)+1)*(np.sin(4*alpha_0 + 4*alpha_tilde - 4*beta_0))/(np.cos(delta)-1)\n",
    "dIdalpha_0=4*(np.cos(delta)+1)*((S4*np.cos(4*alpha_0 + 4*alpha_tilde - 4*beta_0) - C4*np.sin(4*alpha_0 + 4*alpha_tilde - 4*beta_0)))/(np.cos(delta)-1)\n",
    "dIdalpha_tilde=4*(np.cos(delta)+1)*((S4*np.cos(4*alpha_0 + 4*alpha_tilde - 4*beta_0) - C4*np.sin(4*alpha_0 + 4*alpha_tilde - 4*beta_0)))/(np.cos(delta)-1)\n",
    "dIdbeta_0=-4*(np.cos(delta)+1)*((S4*np.cos(4*alpha_0 + 4*alpha_tilde - 4*beta_0) - C4*np.sin(4*alpha_0 + 4*alpha_tilde - 4*beta_0)))/(np.cos(delta)-1)\n",
    "\n",
    "sigma_I= ((dIdC0*sigma_C0)**2 + (dIddelta*sigma_delta)**2 + (dIdC4*sigma_C4)**2 + (dIdS4*sigma_S4)**2 + (dIdalpha_0*sigma_alpha_0)**2 + (dIdalpha_tilde*sigma_alpha_tilde)**2+ (dIdbeta_0*sigma_beta_0)**2)**(1/2)\n",
    "\n",
    "print(\"sigma_I\",sigma_I)\n",
    "\n",
    "# Error on M\n",
    "\n",
    "dMddelta=-(2*np.sin(delta))*(C4*np.cos(2*alpha_0 +2*alpha_tilde-4*beta_0) + S4*np.sin(2*alpha_0 +2*alpha_tilde -4*beta_0))/(1-np.cos(delta))**2\n",
    "dMdC4=-2*np.cos(2*alpha_0 +2*alpha_tilde-4*beta_0)/(np.cos(delta)-1)\n",
    "dMdS4=-2*np.sin(2*alpha_0 +2*alpha_tilde-4*beta_0)/(np.cos(delta)-1)\n",
    "dMdalpha_0=4*((C4*np.sin(2*alpha_0 +2*alpha_tilde-4*beta_0) - S4*np.cos(2*alpha_0 +2*alpha_tilde -4*beta_0)))/(np.cos(delta)-1)\n",
    "dMdalpha_tilde=4*((C4*np.sin(2*alpha_0 +2*alpha_tilde-4*beta_0) - S4*np.cos(2*alpha_0 +2*alpha_tilde -4*beta_0)))/(np.cos(delta)-1)\n",
    "dMdbeta_0=8*((S4*np.cos(2*alpha_0 +2*alpha_tilde-4*beta_0) - C4*np.sin(2*alpha_0 +2*alpha_tilde -4*beta_0)))/(np.cos(delta)-1)\n",
    "\n",
    "sigma_M=( (dMddelta*sigma_delta)**2 + (dMdC4*sigma_C4)**2 +(dMdS4*sigma_S4)**2 + (dMdalpha_0*sigma_alpha_0)**2 + (dMdalpha_tilde*sigma_alpha_tilde)**2 + (dMdbeta_0*sigma_beta_0)**2)**(0.5)\n",
    "\n",
    "print(\"sigma_M\",sigma_M)\n",
    "print(dMddelta*sigma_delta)\n",
    "print(dMdC4*sigma_C4)\n",
    "print(dMdS4*sigma_S4)\n",
    "print(dMdalpha_0*sigma_alpha_0)\n",
    "print(dMdalpha_tilde*sigma_alpha_tilde)\n",
    "print(dMdbeta_0*sigma_beta_0)\n",
    "sigma_M_over_I=((sigma_M/I)**2 + (-M*sigma_I/I**2)**2)**(0.5)\n",
    "\n",
    "print(\"sigma_M_over_I\",sigma_M_over_I)\n",
    "\n",
    "# Error on C\n",
    "\n",
    "dCddelta=-(2*np.sin(delta))*(S4*np.cos(2*alpha_0 +2*alpha_tilde-4*beta_0) - C4*np.sin(2*alpha_0 +2*alpha_tilde -4*beta_0))/(1-np.cos(delta))**2\n",
    "dCdC4=2*np.sin(2*alpha_0 +2*alpha_tilde-4*beta_0)/(np.cos(delta)-1)\n",
    "dCdS4=-2*np.cos(2*alpha_0 +2*alpha_tilde-4*beta_0)/(np.cos(delta)-1)\n",
    "dCdalpha_0=4*((C4*np.cos(2*alpha_0 +2*alpha_tilde-4*beta_0) +S4*np.sin(2*alpha_0 +2*alpha_tilde -4*beta_0)))/(np.cos(delta)-1)\n",
    "dCdalpha_tilde=4*((C4*np.cos(2*alpha_0 +2*alpha_tilde-4*beta_0) +S4*np.sin(2*alpha_0 +2*alpha_tilde -4*beta_0)))/(np.cos(delta)-1)\n",
    "dCdbeta_0=-8*((C4*np.cos(2*alpha_0 +2*alpha_tilde-4*beta_0) + S4*np.sin(2*alpha_0 +2*alpha_tilde -4*beta_0)))/(np.cos(delta)-1)\n",
    "\n",
    "sigma_C=( (dCddelta*sigma_delta)**2 + (dCdC4*sigma_C4)**2 +(dCdS4*sigma_S4)**2 + (dCdalpha_0*sigma_alpha_0)**2 + (dCdalpha_tilde*sigma_alpha_tilde)**2 + (dCdbeta_0*sigma_beta_0)**2)**(0.5)\n",
    "\n",
    "print(\"sigma_C\",sigma_C)\n",
    "print(dCddelta*sigma_delta)\n",
    "print(dCdC4*sigma_C4)\n",
    "print(dCdS4*sigma_S4)\n",
    "print(dCdalpha_0*sigma_alpha_0)\n",
    "print(dCdalpha_tilde*sigma_alpha_tilde)\n",
    "print(dCdbeta_0*sigma_beta_0)\n",
    "\n",
    "sigma_C_over_I=((sigma_C/I)**2 + (-C*sigma_I/I**2)**2)**(0.5)\n",
    "\n",
    "print(\"sigma_C_over_I\",sigma_C_over_I)\n",
    "\n",
    "# Error on S from C2\n",
    "\n",
    "dS_C2dC2=1/((np.sin(delta))*(np.sin(2*alpha_0 + 2*alpha_tilde - 2*beta_0)))\n",
    "dS_C2ddelta=-C2*np.cos(delta)/(np.sin(2*alpha_0 + 2*alpha_tilde - 2*beta_0)*sin(delta)**2)\n",
    "dS_C2dalpha_0=-2*C2*np.cos(2*alpha_0 + 2*alpha_tilde - 2*beta_0)/(np.sin(delta)*np.sin(2*alpha_0 + 2*alpha_tilde - 2*beta_0)**2)\n",
    "dS_C2dalpha_tilde=-2*C2*np.cos(2*alpha_0 + 2*alpha_tilde - 2*beta_0)/(np.sin(delta)*np.sin(2*alpha_0 + 2*alpha_tilde - 2*beta_0)**2)\n",
    "dS_C2dbeta_0=2*C2*np.cos(2*alpha_0 + 2*alpha_tilde - 2*beta_0)/(np.sin(delta)*np.sin(2*alpha_0 + 2*alpha_tilde - 2*beta_0)**2)\n",
    "\n",
    "sigma_S_C2=( (dS_C2ddelta*sigma_delta)**2 + (dS_C2dC2*sigma_C2)**2  + (dS_C2dalpha_0*sigma_alpha_0)**2 + (dS_C2dalpha_tilde*sigma_alpha_tilde)**2 + (dS_C2dbeta_0*sigma_beta_0)**2)**(0.5)\n",
    "\n",
    "print(\"sigma_S_C2\",sigma_S_C2)\n",
    "print(dS_C2ddelta*sigma_delta)\n",
    "print(dS_C2dC2*sigma_C2)\n",
    "print(dS_C2dalpha_0*sigma_alpha_0)\n",
    "print(dS_C2dalpha_tilde*sigma_alpha_tilde)\n",
    "print(dS_C2dbeta_0*sigma_beta_0)\n",
    "sigma_S_C2_over_I=((sigma_S_C2/I)**2 + (-S_first*sigma_I/I**2)**2)**(0.5)\n",
    "\n",
    "print(\"sigma_S_C2_over_I\",sigma_S_C2_over_I)\n",
    "\n",
    "\n",
    "# Error on S from S2\n",
    "\n",
    "dS_S2dS2=-1/((np.sin(delta))*(np.sin(2*alpha_0 + 2*alpha_tilde - 2*beta_0)))\n",
    "dS_S2ddelta=S2*np.cos(delta)/(np.sin(2*alpha_0 + 2*alpha_tilde - 2*beta_0)*sin(delta)**2)\n",
    "dS_S2dalpha_0=2*S2*np.cos(2*alpha_0 + 2*alpha_tilde - 2*beta_0)/(np.sin(delta)*np.sin(2*alpha_0 + 2*alpha_tilde - 2*beta_0)**2)\n",
    "dS_S2dalpha_tilde=2*S2*np.cos(2*alpha_0 + 2*alpha_tilde - 2*beta_0)/(np.sin(delta)*np.sin(2*alpha_0 + 2*alpha_tilde - 2*beta_0)**2)\n",
    "dS_S2dbeta_0=-2*S2*np.cos(2*alpha_0 + 2*alpha_tilde - 2*beta_0)/(np.sin(delta)*np.sin(2*alpha_0 + 2*alpha_tilde - 2*beta_0)**2)\n",
    "\n",
    "sigma_S_S2=( (dS_S2ddelta*sigma_delta)**2 + (dS_S2dS2*sigma_S2)**2  + (dS_S2dalpha_0*sigma_alpha_0)**2 + (dS_S2dalpha_tilde*sigma_alpha_tilde)**2 + (dS_S2dbeta_0*sigma_beta_0)**2)**(0.5)\n",
    "\n",
    "print(\"sigma_S_S2\",sigma_S_S2)\n",
    "\n",
    "sigma_S_S2_over_I=((sigma_S_S2/I)**2 + (-S_second*sigma_I/I**2)**2)**(0.5)\n",
    "\n",
    "print(\"sigma_S_S2_over_I\",sigma_S_S2_over_I)\n",
    "\n",
    "# Error on |M|\n",
    "\n",
    "dmodMdC4=-2*C4/(((C4**2 + S4**2)**(0.5))*(np.cos(delta)-1))\n",
    "dmodMdS4=-2*S4/(((C4**2 + S4**2)**(0.5))*(np.cos(delta)-1))\n",
    "dmodMddelta=(-2*np.sin(delta)*(C4**2 + S4**2)**(0.5))/(1-np.cos(delta))**2\n",
    "\n",
    "sigma_modM=((dmodMdC4*sigma_C4)**2 + (dmodMdS4*sigma_S4)**2 + (dmodMddelta*sigma_delta)**2)**(0.5)\n",
    "\n",
    "print(\"sigma_modM\",sigma_modM)\n",
    "\n",
    "sigma_modM_over_I=((sigma_modM/I)**2 + (-modulus_M*sigma_I/I**2)**2)**(0.5)\n",
    "\n",
    "print(\"sigma_modM_over_I\",sigma_modM_over_I)\n",
    "\n",
    "# Error on |S|\n",
    "\n",
    "dmodSdC2=C2/((np.sin(delta)**2)*(C2**2 + S2**2)**(0.5))\n",
    "dmodSdS2=S2/((np.sin(delta)**2)*(C2**2 + S2**2)**(0.5))\n",
    "dmodSddelta=(-2*np.cos(delta)*(C2**2 + S2**2)**(0.5))/(np.sin(delta)**3)\n",
    "\n",
    "sigma_modS=((dmodSdC2*sigma_C2)**2 + (dmodSdS2*sigma_S2)**2 + (dmodSddelta*sigma_delta)**2)**(0.5)\n",
    "\n",
    "\n",
    "print(\"sigma_modS=\",sigma_modS)\n",
    "print(dmodSdC2*sigma_C2)\n",
    "print(dmodSdS2*sigma_S2)\n",
    "print(dmodSddelta*sigma_delta)\n",
    "sigma_modS_over_I=((sigma_modS/I)**2 + (-modulus_S*sigma_I/I**2)**2)**(0.5)\n",
    "\n",
    "print(\"sigma_modS_over_I\",sigma_modS_over_I)\n",
    "print(sigma_modS/I)\n",
    "print((-modulus_S*sigma_I/I**2)**2)\n",
    "# Error on |L|\n",
    "\n",
    "dLdC4=C4/((np.sin(delta/2)**2)*(C4**2 + S4**2)**(0.5))\n",
    "dLdS4=S4/((np.sin(delta/2)**2)*(C4**2 + S4**2)**(0.5))\n",
    "dLddelta=(-(C4**2 + S4**2)**(0.5))*np.cos(delta/2)/(np.sin(delta/2)**3)\n",
    "\n",
    "sigma_L=np.sqrt((dLdC4*sigma_C4)**2 + (dLdS4*sigma_S4)**2 + (dLddelta*sigma_delta)**2)\n",
    "\n",
    "print('sigma_L=', sigma_L)\n",
    "print(dLdC4*sigma_C4)\n",
    "print(dLdS4*sigma_S4)\n",
    "print(dLddelta*sigma_delta)\n",
    "\n",
    "sigma_L_over_I=((sigma_L/I)**2 + (-L*sigma_I/(I)**2)**2)**(0.5)\n",
    "\n",
    "print(\"sigma_L_over_I=\", sigma_L_over_I)\n",
    "print(sigma_L/I)\n",
    "print(-L*sigma_I/(I)**2)"
   ]
  },
  {
   "cell_type": "code",
   "execution_count": 490,
   "metadata": {},
   "outputs": [],
   "source": [
    "plt.plot(angle[z], power[z], label='measurement')\n",
    "\n",
    "def I_T(x):\n",
    "    return Cs[0]+Cs[2]*np.cos(2*x*np.pi/180)+Cs[4]*np.cos(4*x*np.pi/180)+Ss[2]*np.sin(2*x*np.pi/180)+Ss[4]*np.sin(4*x*np.pi/180)\n",
    "    \n",
    "plt.plot(angle[z], I_T(np.array(angle[z])), '--', label='from discrete F. coeff.' )\n",
    "#plt.xlabel('angle [°]')\n",
    "#plt.ylabel('Intensity [W]')\n",
    "plt.legend()\n",
    "#plt.savefig('Test.png', fmt='png')\n",
    "plt.show()"
   ]
  },
  {
   "cell_type": "code",
   "execution_count": 1,
   "metadata": {},
   "outputs": [
    {
     "ename": "NameError",
     "evalue": "name 'plt' is not defined",
     "output_type": "error",
     "traceback": [
      "\u001b[1;31m---------------------------------------------------------------------------\u001b[0m",
      "\u001b[1;31mNameError\u001b[0m                                 Traceback (most recent call last)",
      "\u001b[1;32m<ipython-input-1-7844652adea8>\u001b[0m in \u001b[0;36m<module>\u001b[1;34m\u001b[0m\n\u001b[0;32m      1\u001b[0m \u001b[1;33m\u001b[0m\u001b[0m\n\u001b[1;32m----> 2\u001b[1;33m \u001b[0mfig\u001b[0m\u001b[1;33m,\u001b[0m \u001b[0max\u001b[0m\u001b[1;33m=\u001b[0m\u001b[0mplt\u001b[0m\u001b[1;33m.\u001b[0m\u001b[0msubplots\u001b[0m\u001b[1;33m(\u001b[0m\u001b[1;33m)\u001b[0m\u001b[1;33m\u001b[0m\u001b[1;33m\u001b[0m\u001b[0m\n\u001b[0m\u001b[0;32m      3\u001b[0m \u001b[0mplt\u001b[0m\u001b[1;33m.\u001b[0m\u001b[0mplot\u001b[0m\u001b[1;33m(\u001b[0m\u001b[0mangle\u001b[0m\u001b[1;33m[\u001b[0m\u001b[0mz\u001b[0m\u001b[1;33m]\u001b[0m\u001b[1;33m,\u001b[0m \u001b[1;33m(\u001b[0m\u001b[1;33m(\u001b[0m\u001b[0mpower\u001b[0m\u001b[1;33m[\u001b[0m\u001b[0mz\u001b[0m\u001b[1;33m]\u001b[0m\u001b[1;33m+\u001b[0m\u001b[0mnp\u001b[0m\u001b[1;33m.\u001b[0m\u001b[0mroll\u001b[0m\u001b[1;33m(\u001b[0m\u001b[0mpower\u001b[0m\u001b[1;33m[\u001b[0m\u001b[0mz\u001b[0m\u001b[1;33m]\u001b[0m\u001b[1;33m,\u001b[0m \u001b[1;36m180\u001b[0m\u001b[1;33m)\u001b[0m\u001b[1;33m)\u001b[0m\u001b[1;33m/\u001b[0m\u001b[1;36m2\u001b[0m\u001b[1;33m)\u001b[0m\u001b[1;33m*\u001b[0m\u001b[1;36m10\u001b[0m\u001b[1;33m**\u001b[0m\u001b[1;36m6\u001b[0m\u001b[1;33m,\u001b[0m \u001b[0mlabel\u001b[0m\u001b[1;33m=\u001b[0m\u001b[1;34m'Measurement'\u001b[0m\u001b[1;33m)\u001b[0m\u001b[1;33m\u001b[0m\u001b[1;33m\u001b[0m\u001b[0m\n\u001b[0;32m      4\u001b[0m \u001b[1;33m\u001b[0m\u001b[0m\n\u001b[0;32m      5\u001b[0m \u001b[1;32mdef\u001b[0m \u001b[0mI_T\u001b[0m\u001b[1;33m(\u001b[0m\u001b[0mx\u001b[0m\u001b[1;33m)\u001b[0m\u001b[1;33m:\u001b[0m\u001b[1;33m\u001b[0m\u001b[1;33m\u001b[0m\u001b[0m\n",
      "\u001b[1;31mNameError\u001b[0m: name 'plt' is not defined"
     ]
    }
   ],
   "source": [
    "\n",
    "fig, ax=plt.subplots()\n",
    "plt.plot(angle[z], power[z]*10**6, label='Measurement')\n",
    "\n",
    "def I_T(x):\n",
    "    return Cs[0]+Cs[2]*np.cos(2*x*np.pi/180)+Cs[4]*np.cos(4*x*np.pi/180)+Ss[2]*np.sin(2*x*np.pi/180)+Ss[4]*np.sin(4*x*np.pi/180)\n",
    "    \n",
    "plt.plot(angle[z], I_T(np.array(angle[z]))*10**(6), '--', label='From discrete FFT' )\n",
    "ax.set_xlabel(r'$\\Theta$ (deg)')\n",
    "ax.set_ylabel(r'Intensity ($\\mu W$)')\n",
    "ax.legend(loc='lower left')\n",
    "fig.subplots_adjust(left=.19, bottom=.22, right=.99, top=.97)\n",
    "\n",
    "fig.set_size_inches(width, height)\n",
    "plt.show()\n",
    "#plt.savefig('Test.pdf', fmt='pdf')"
   ]
  },
  {
   "cell_type": "markdown",
   "metadata": {},
   "source": [
    "### Modulation ratio\n",
    "\n",
    "As an additional test we can look at the modulation ratio, which depends on some of the calculated parameters, to check on the plausibility of the result.\n",
    "\n",
    "\\begin{align} \\eta = \\frac{I_{max} - I_{min}}{I_{max} + I_{min}} = \\frac{M(1-cos\\delta)}{2I + Mcos2\\alpha(1+ cos\\delta)} \\end{align}\n"
   ]
  },
  {
   "cell_type": "code",
   "execution_count": 492,
   "metadata": {},
   "outputs": [],
   "source": [
    "eta_intensity=(np.amax(intensity)-np.amin(intensity))/(np.amax(intensity)+np.amin(intensity))\n",
    "\n",
    "#print('eta from intensity', eta_intensity)\n",
    "#print('eta from parameters', eta)"
   ]
  },
  {
   "cell_type": "markdown",
   "metadata": {},
   "source": [
    "Modulation ratios from intensity and from parameters seem to agree with each other"
   ]
  },
  {
   "cell_type": "markdown",
   "metadata": {},
   "source": [
    "### Plotting the coefficients\n",
    "\n",
    "We expect strong 0 and 4 $\\omega $ signals for horizontally polarized light, which is fulfilled in this case."
   ]
  },
  {
   "cell_type": "code",
   "execution_count": 493,
   "metadata": {},
   "outputs": [
    {
     "data": {
      "text/plain": [
       "Text(0.5, 0.98, 'Fourier series coefficients')"
      ]
     },
     "execution_count": 493,
     "metadata": {},
     "output_type": "execute_result"
    }
   ],
   "source": [
    "# Produce plots like in paper\n",
    "#%%\n",
    "t = np.arange(11)\n",
    "\n",
    "\n",
    "fig, axs = plt.subplots(1, 2, sharey=True)\n",
    "# Remove horizontal space between axes\n",
    "\n",
    "fig.subplots_adjust(wspace=0.2)\n",
    "\n",
    "# Plot each graph, and manually set the y tick values\n",
    "axs[0].stem(t, Ss)\n",
    "axs[0].set_yscale('log')\n",
    "axs[0].text(0.8,-0.1, 'Angular Frequency', fontsize=12, transform=axs[0].transAxes)\n",
    "axs[0].text(0.6,0.7, '(Sine coeff.)', fontsize=10, transform=axs[0].transAxes)\n",
    "\n",
    "axs[0].set_ylabel('Amplitude', fontsize=12)\n",
    "axs[0].set_xticks(ticks=np.arange(0,11,2))\n",
    "axs[0].set_xticks(ticks=np.arange(0,11,2))\n",
    "axs[0].spines['right'].set_visible(False)\n",
    "\n",
    "axs[1].stem(t, Cs)\n",
    "axs[1].text(0.4,0.7, '(Cosine coeff.)', fontsize=10, transform=axs[1].transAxes)\n",
    "#axs[1].set_yticks([])\n",
    "axs[1].set_xticks(ticks=np.arange(0,11,2))\n",
    "axs[1].spines['left'].set_visible(False)\n",
    "plt.suptitle('Fourier series coefficients')"
   ]
  },
  {
   "cell_type": "markdown",
   "metadata": {},
   "source": [
    "### Calculate Stokes Parameter using FFT on intensity\n",
    "\n",
    "Do a FFT on the intensity to see if the sought-after frequencies are present"
   ]
  },
  {
   "cell_type": "code",
   "execution_count": 494,
   "metadata": {},
   "outputs": [
    {
     "data": {
      "text/plain": [
       "<matplotlib.lines.Line2D at 0x211dcfa9240>"
      ]
     },
     "execution_count": 494,
     "metadata": {},
     "output_type": "execute_result"
    }
   ],
   "source": [
    "\n",
    "\n",
    "\n",
    "# Number of sample points N from above\n",
    "# Sample spacing i times omega\n",
    "\n",
    "A=fftpack.rfft(intensity)\n",
    "\n",
    "\n",
    "\n",
    "\n",
    "plt.figure(figsize = (12,6))\n",
    "plt.title('FFT from intensity')\n",
    "# Plot first 10 omegas\n",
    "plt.plot(omega_k[0:10], np.abs(A)[0:10], 'o')\n",
    "plt.xlabel(r'Angular Frequency [$\\omega$]')\n",
    "plt.ylabel('Amplitude')\n",
    "plt.axvline(x=2  )\n",
    "plt.axvline(x= 4  )\n",
    "\n",
    "# Use the same formulas again"
   ]
  },
  {
   "cell_type": "code",
   "execution_count": 495,
   "metadata": {},
   "outputs": [
    {
     "name": "stdout",
     "output_type": "stream",
     "text": [
      "-45.0\n"
     ]
    }
   ],
   "source": [
    "print(np.arctan2(-1,1)*180/np.pi )"
   ]
  },
  {
   "cell_type": "code",
   "execution_count": null,
   "metadata": {},
   "outputs": [],
   "source": []
  },
  {
   "cell_type": "code",
   "execution_count": 496,
   "metadata": {},
   "outputs": [
    {
     "name": "stdout",
     "output_type": "stream",
     "text": [
      "[  0.           2.00558659   4.01117318   6.01675978   8.02234637\n",
      "  10.02793296  12.03351955  14.03910615  16.04469274  18.05027933\n",
      "  20.05586592  22.06145251  24.06703911  26.0726257   28.07821229\n",
      "  30.08379888  32.08938547  34.09497207  36.10055866  38.10614525\n",
      "  40.11173184  42.11731844  44.12290503  46.12849162  48.13407821\n",
      "  50.1396648   52.1452514   54.15083799  56.15642458  58.16201117\n",
      "  60.16759777  62.17318436  64.17877095  66.18435754  68.18994413\n",
      "  70.19553073  72.20111732  74.20670391  76.2122905   78.21787709\n",
      "  80.22346369  82.22905028  84.23463687  86.24022346  88.24581006\n",
      "  90.25139665  92.25698324  94.26256983  96.26815642  98.27374302\n",
      " 100.27932961 102.2849162  104.29050279 106.29608939 108.30167598\n",
      " 110.30726257 112.31284916 114.31843575 116.32402235 118.32960894\n",
      " 120.33519553 122.34078212 124.34636872 126.35195531 128.3575419\n",
      " 130.36312849 132.36871508 134.37430168 136.37988827 138.38547486\n",
      " 140.39106145 142.39664804 144.40223464 146.40782123 148.41340782\n",
      " 150.41899441 152.42458101 154.4301676  156.43575419 158.44134078\n",
      " 160.44692737 162.45251397 164.45810056 166.46368715 168.46927374\n",
      " 170.47486034 172.48044693 174.48603352 176.49162011 178.4972067\n",
      " 180.5027933  182.50837989 184.51396648 186.51955307 188.52513966\n",
      " 190.53072626 192.53631285 194.54189944 196.54748603 198.55307263\n",
      " 200.55865922 202.56424581 204.5698324  206.57541899 208.58100559\n",
      " 210.58659218 212.59217877 214.59776536 216.60335196 218.60893855\n",
      " 220.61452514 222.62011173 224.62569832 226.63128492 228.63687151\n",
      " 230.6424581  232.64804469 234.65363128 236.65921788 238.66480447\n",
      " 240.67039106 242.67597765 244.68156425 246.68715084 248.69273743\n",
      " 250.69832402 252.70391061 254.70949721 256.7150838  258.72067039\n",
      " 260.72625698 262.73184358 264.73743017 266.74301676 268.74860335\n",
      " 270.75418994 272.75977654 274.76536313 276.77094972 278.77653631\n",
      " 280.78212291 282.7877095  284.79329609 286.79888268 288.80446927\n",
      " 290.81005587 292.81564246 294.82122905 296.82681564 298.83240223\n",
      " 300.83798883 302.84357542 304.84916201 306.8547486  308.8603352\n",
      " 310.86592179 312.87150838 314.87709497 316.88268156 318.88826816\n",
      " 320.89385475 322.89944134 324.90502793 326.91061453 328.91620112\n",
      " 330.92178771 332.9273743  334.93296089 336.93854749 338.94413408\n",
      " 340.94972067 342.95530726 344.96089385 346.96648045 348.97206704\n",
      " 350.97765363 352.98324022 354.98882682 356.99441341 359.        ]\n"
     ]
    }
   ],
   "source": [
    "print(np.linspace(0,359,180))"
   ]
  },
  {
   "cell_type": "code",
   "execution_count": null,
   "metadata": {},
   "outputs": [],
   "source": []
  },
  {
   "cell_type": "code",
   "execution_count": null,
   "metadata": {},
   "outputs": [],
   "source": []
  }
 ],
 "metadata": {
  "kernelspec": {
   "display_name": "Python 3",
   "language": "python",
   "name": "python3"
  },
  "language_info": {
   "codemirror_mode": {
    "name": "ipython",
    "version": 3
   },
   "file_extension": ".py",
   "mimetype": "text/x-python",
   "name": "python",
   "nbconvert_exporter": "python",
   "pygments_lexer": "ipython3",
   "version": "3.7.1"
  }
 },
 "nbformat": 4,
 "nbformat_minor": 2
}
