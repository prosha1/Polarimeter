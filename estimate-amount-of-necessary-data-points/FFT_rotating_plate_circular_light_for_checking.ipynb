{
 "cells": [
  {
   "cell_type": "markdown",
   "metadata": {},
   "source": [
    "### FFT with rotating plate\n",
    "\n",
    "The setup was conducted as follows:\n",
    "\n",
    "\n",
    "1.The laser with wavelength $\\lambda$\n",
    "\n",
    "= 660 nm was calibrated to hit the polarimeter at the end of the setup centrally.\n",
    "\n",
    "\n",
    "2.A train consisting of linear polarizer LP2 (Pol.), $\\frac{\\lambda}{2}$\n",
    "-WP 600 - 2700 nm and $\\frac{\\lambda}{4}$\n",
    "\n",
    "-WP 690 - 1200 nm was assembled and placed into the laser beam.\n",
    "\n",
    "\n",
    "3.By rotating the WPs of the train horizontally polarized light was set.\n",
    "\n",
    "The angles of the optical elements in the train in the order set were $\\Theta_{1}=49^{\\circ}$\n",
    ", $\\Theta_{2}=227^{\\circ}$ and $\\Theta_{3}=???^{\\circ}$\n",
    "\n",
    ", because the last plate holder had no markings.\n",
    "\n",
    "The parameters of the horizontally polarized light were: S1=1.000 ; S2=-0.002 ; S3=-0.004 ; DOP=103.9 % and power=-19.61 dBm\n",
    "\n",
    "Annotation: The angle of LP2 (Pol.) in the train could have been set that maximum intensity is transmitted, but wasn't.\n",
    "\n",
    "\n",
    "4.In order to find the angle $\\alpha$\n",
    "of the x-axis following procedure was used. Another linear polarizer LP3, which is here also referred to as P1, was inserted after the train and rotated until maximum intensity was measured by the polarimeter.This was the case for $\\alpha_{1}=131^{\\circ}$\n",
    "\n",
    "The measured parameters were:\n",
    "\n",
    "S1=0.999 ; S2=0.001 ; S3=0.041 ; DOP=103.7 % and power=-21.3 dBm\n",
    "\n",
    "\n",
    "5.Another linear polarizer LP1, which is here also referred as P2, was inserted behind P1 just in front of the polarimeter and rotated until maximum intensity was measured by the polarimeter.This was the case for $\\alpha_{2}=336^{\\circ}$\n",
    "\n",
    "The measured parameters were:\n",
    "\n",
    "S1=1.000 ; S2=0.002 ; S3=0.002 ; DOP=103.7 % and power=-21.95 dBm\n",
    "\n",
    "Now the angle of P2 is set to transmit horizontally polarized light most effectively and therefore this angle is assigned to the x-axis. Accordingly, in relation to the x-axis P2 is now set at $\\alpha$=0.\n",
    "This position is not changed during the measurement\n",
    "\n",
    "\n",
    "6.All components are removed, except the train, and left-circularly polarized light intended for measurement is set.\n",
    "\n",
    "S1=-0.003 ; S2=-0.067 ; S3=-0.997 ; DOP=98.3 % and power=-19.87 dBm\n",
    "\n",
    "\n",
    "7.Behind the train we insert the $\\frac{\\lambda}{4}$\n",
    "-WP 600 - 2700 nm in the rotating wheel and behind the wheel we insert LP1 as P2 at angle $\\alpha$=0\n",
    "\n",
    "\n",
    "8.The wheel is rotated from 0 to 2 𝜋\n",
    "and 361 equally distanced data points are recorded"
   ]
  },
  {
   "cell_type": "markdown",
   "metadata": {},
   "source": [
    "### Read in data for setup like in paper\n",
    "Do experiment for left-handed polarized light"
   ]
  },
  {
   "cell_type": "code",
   "execution_count": 184,
   "metadata": {},
   "outputs": [
    {
     "name": "stdout",
     "output_type": "stream",
     "text": [
      "['20190522/171029_polarimeter_vs_wheel/171029_polarimeter_vs_wheel.dat']\n"
     ]
    }
   ],
   "source": [
    "import numpy as np\n",
    "import matplotlib.pyplot as plt\n",
    "\n",
    "from sympy import Symbol, cos, sin, pi, sqrt, symbols\n",
    "from sympy.matrices import *\n",
    "from sympy.utilities.lambdify import lambdify\n",
    "from sympy.interactive.printing import init_printing\n",
    "from sympy.interactive import printing\n",
    "printing.init_printing(use_latex=True)\n",
    "\n",
    "from scipy.optimize import curve_fit, minimize\n",
    "from scipy import fftpack\n",
    "import os\n",
    "from os.path import join, getsize\n",
    "\n",
    "import matplotlib as mpl\n",
    "mpl.use('pdf')\n",
    "\n",
    "#Direct input \n",
    "plt.rcParams['text.latex.preamble']=[r\"\\usepackage{lmodern}\"]\n",
    "#Options\n",
    "params = {'text.usetex' : True,\n",
    "          'font.size' : 8,\n",
    "          'font.family' : 'lmodern',\n",
    "          'text.latex.unicode': True,\n",
    "          }\n",
    "plt.rcParams.update(params) \n",
    "\n",
    "plt.rc('text', usetex=True)\n",
    "plt.rc('xtick', labelsize=8.7)\n",
    "plt.rc('ytick', labelsize=8.7)\n",
    "plt.rc('axes', labelsize=8.7)\n",
    "\n",
    "# width as measured in inkscape\n",
    "width = 2.809\n",
    "height = width / 1.618\n",
    "\n",
    "directories=[]\n",
    "\n",
    "\n",
    "for root, dirs, files in os.walk('20190522/'):\n",
    "    if files != []:\n",
    "        a=str(root)+str('/')+str(files[0])\n",
    "        directories.append(a)\n",
    "\n",
    "# Only circular polarization\n",
    "# Right circular regular[1] 360\n",
    "# RL[2] 180\n",
    "# RL[3] 90\n",
    "# RL[4] 45\n",
    "# RL[5] 25\n",
    "# RL[6] 12\n",
    "# RL[7] 6\n",
    "\n",
    "directories=directories[7:8]\n",
    "print(directories)\n",
    "data=[]\n",
    "measurement_point_all=[]\n",
    "angle_all=[]\n",
    "s1_all=[]\n",
    "s2_all=[]\n",
    "s3_all=[]\n",
    "dop_all=[]\n",
    "power_all=[]\n",
    "\n",
    "for i in directories:\n",
    "    f=open(i)\n",
    "    lines=f.readlines()\n",
    "    for i in range(26):\n",
    "        lines.pop(0)\n",
    "    measurement_point=[]\n",
    "    angle=[]\n",
    "    s1=[]\n",
    "    s2=[]\n",
    "    s3=[]\n",
    "    dop=[]\n",
    "    power=[]\n",
    "    for line in lines:\n",
    "        measurement_point.append( line.strip().split('\\t')[0] )\n",
    "        angle.append( line.strip().split('\\t')[1] )\n",
    "        s1.append( line.strip().split('\\t')[2] )\n",
    "        s2.append( line.strip().split('\\t')[3] )\n",
    "        s3.append( line.strip().split('\\t')[4] )\n",
    "        dop.append( line.strip().split('\\t')[5] )\n",
    "        power.append( line.strip().split('\\t')[6] )\n",
    "    measurement_point_all.append(measurement_point)\n",
    "    angle_all.append(angle)\n",
    "    s1_all.append(s1)\n",
    "    s2_all.append(s2)\n",
    "    s3_all.append(s3)\n",
    "    dop_all.append(dop)\n",
    "    power_all.append(power)\n",
    "measurement_point=np.array(measurement_point_all).astype(np.float) \n",
    "angle=np.array(angle_all).astype(np.float)\n",
    "s1=np.array(s1_all).astype(np.float) \n",
    "s2=np.array(s2_all).astype(np.float)\n",
    "s3=np.array(s3_all).astype(np.float) \n",
    "dop=np.array(dop_all).astype(np.float)\n",
    "power=np.array(power_all).astype(np.float)"
   ]
  },
  {
   "cell_type": "code",
   "execution_count": 185,
   "metadata": {},
   "outputs": [],
   "source": [
    "\n",
    "#fig, ax=plt.subplots()\n",
    "#plt.plot(angle[0], power[0]*10**(6), label=\"Measurement\")\n",
    "#ax.set_xlabel(r'$\\Theta$ (deg)')\n",
    "#ax.set_ylabel(r'Intensity ($\\mu W$)')\n",
    "#ax.legend(loc='lower left')\n",
    "#fig.subplots_adjust(left=.19, bottom=.22, right=.99, top=.97)\n",
    "\n",
    "#fig.set_size_inches(width, height)\n",
    "#plt.show()\n",
    "#plt.savefig('datapoints_6.pdf', fmt='pdf')'"
   ]
  },
  {
   "cell_type": "markdown",
   "metadata": {},
   "source": [
    "### Calculate discrete Fourier series coefficients like in paper\n",
    "For an uneven number of data points like in our case with N = 2L = 361 we can calculate the discrete Fourier series coefficients according to\n",
    "$$C_{\\omega, k}=\\frac{2}{N} \\frac{1}{1+\\delta_{k0}} \\sum_{i=1}^N I_{T_{i}} cos \\omega_{k} \\beta_{i}$$\n",
    "$$S_{\\omega, k}=\\frac{2}{N} \\frac{1}{1+\\delta_{k0}} \\sum_{i=1}^N I_{T_{i}} sin \\omega_{k} \\beta_{i}$$\n",
    "with the discrete angular velocities\n",
    "$$\\omega_{k} = \\frac{2\\pi}{N} \\frac{k}{\\Delta \\beta}$$ the angular positions $$\\beta_{i}=(i-1)\\Delta \\beta$$ and $\\Delta \\beta$ being the difference in the angle for two neighboring data points.\n",
    "\n",
    "We need to consider that due to the dependance of the discrete angular velocities on the step size, it can happen that the 2 $\\omega$ and 4$\\omega$ signals, which correspond to circular and linear polarizations, are not exactly included in our calculations. Therefore, we look for the discrete angular frequencies, which are closest to the requirements."
   ]
  },
  {
   "cell_type": "markdown",
   "metadata": {},
   "source": [
    "### Starting Parameters\n",
    "For circular polarized light\n",
    "S1=-0.003\n",
    "S2=-0.067\n",
    "S3=-0.997\n",
    "DOP: 98.3 %\n",
    "Power: -19.87 dBm"
   ]
  },
  {
   "cell_type": "code",
   "execution_count": 186,
   "metadata": {},
   "outputs": [
    {
     "name": "stdout",
     "output_type": "stream",
     "text": [
      "[0.         0.33333333 0.66666667 1.         1.33333333 1.66666667\n",
      " 2.        ]\n",
      "omega_k= [0.    0.375 0.75  1.125 1.5   1.875 2.25  2.625]\n"
     ]
    }
   ],
   "source": [
    "# Calculate discrete Fourier coefficients for an uneven number of data points N=2L+1\n",
    "\n",
    "intensity=power[0]\n",
    "\n",
    "L=len(intensity)/2\n",
    "N=2*L+1\n",
    "index=np.linspace(0,2,len(intensity))\n",
    "\n",
    "print(index)\n",
    "omega_k=[]\n",
    "# Define step size\n",
    "delta_beta=(index[1]-index[0])*2*np.pi\n",
    "# Calculate all omega_k up to k=180, more than that is not required anyways\n",
    "for i in np.arange(N):\n",
    "    omega_k.append(2*np.pi*i/(N*delta_beta))\n",
    "omega_k=np.array(omega_k)\n",
    "# Calculate Fourier series coefficients\n",
    "C_omega_k=[]\n",
    "S_omega_k=[]\n",
    "\n",
    "# Sum in definition of C_omega_k with cos terms\n",
    "\n",
    "def sum_cos(x):\n",
    "    ''' Calculate formula from above with variable x=omega_{k}'''\n",
    "    sum_cos=0\n",
    "    j=0\n",
    "    for i in index:\n",
    "        sum_cos=sum_cos+ intensity[j]*np.cos(x*i*np.pi)\n",
    "        j+=1\n",
    "    return sum_cos\n",
    "a=sum_cos(omega_k)\n",
    "\n",
    "# Sum in definition of S_omega_k with sin terms\n",
    "def sum_sin(x):\n",
    "    '''Same with sin'''\n",
    "    sum_sin=0\n",
    "    j=0\n",
    "    for i in index:\n",
    "        sum_sin+= intensity[j]*np.sin(x*i*np.pi)\n",
    "        j+=1\n",
    "    return sum_sin\n",
    "\n",
    "#print(sum_sin(omega_k))\n",
    "def fourier_coefficients(x):\n",
    "    '''Calculate complete Fourier coefficients'''\n",
    "    C_omega_k=(2/N)* sum_cos(x)\n",
    "    S_omega_k=(2/N)* sum_sin(x)\n",
    "    return C_omega_k, S_omega_k\n",
    "\n",
    "\n",
    "# Loop to get all Fourier coefficients\n",
    "Cs=[]\n",
    "indices=[]\n",
    "Ss=[]\n",
    "# Calculate only first 11 Fourier coefficients\n",
    "\n",
    "# Find indices, where omega_k is closest to desired integer values\n",
    "\n",
    "for i in np.arange(11):\n",
    "    indices.append(np.where(  np.absolute(omega_k-i)==np.amin(np.absolute(omega_k-i)) )[0][0] )\n",
    "\n",
    "for i in np.arange(11):\n",
    "    Cs.append(fourier_coefficients(omega_k)[0][indices[i]])\n",
    "    Ss.append(fourier_coefficients(omega_k)[1][indices[i]])\n",
    "Cs[0]=Cs[0]*0.5\n",
    "#Calculating Fourier coefficients, which correspond to omega_k=2, 4\n",
    "# Same method as above, did it just to check if the method is right\n",
    "# Find index of entry of omega_k, which is closest to omega_k = 0,2 or 4\n",
    "index_0,=np.where( omega_k==np.amin(omega_k) )\n",
    "index_2,=np.where(  np.absolute(omega_k-2)==np.amin(np.absolute(omega_k-2)) )\n",
    "index_4,=np.where(  np.absolute(omega_k-4)==np.amin(np.absolute(omega_k-4)) )\n",
    "\n",
    "\n",
    "print('omega_k=', omega_k)\n",
    "# Calculate Fourier coefficients for omega_k = 2,4\n",
    "# Factor 0.5 for omega_k=0 to account for special case of fourier series coefficient formula\n",
    "C0=fourier_coefficients(omega_k)[0][index_0[0]]*0.5\n",
    "C2=fourier_coefficients(omega_k)[0][index_2[0]]\n",
    "C4=fourier_coefficients(omega_k)[0][index_4[0]]\n",
    "S2=fourier_coefficients(omega_k)[1][index_2[0]]\n",
    "S4=fourier_coefficients(omega_k)[1][index_4[0]]\n"
   ]
  },
  {
   "cell_type": "markdown",
   "metadata": {},
   "source": [
    "We need to regard only the 0 $\\omega$, 2$\\omega$ and 4$\\omega$ signals, as these are the only ones contributing to the resulting intensity. As expected for horizontally polarized light the coefficients C2 and S2, which correspond to circular polarized light, are suppressed"
   ]
  },
  {
   "cell_type": "code",
   "execution_count": 187,
   "metadata": {},
   "outputs": [
    {
     "name": "stdout",
     "output_type": "stream",
     "text": [
      "C0= 5.14954932384625e-06\n",
      "C2= 3.846741518093652e-06\n",
      "C4= 9.620019120666585e-07\n",
      "S2= -3.0663347271002506e-06\n",
      "S4= 9.816696633351132e-07\n"
     ]
    }
   ],
   "source": [
    "print(\"C0=\", Cs[0])\n",
    "print(\"C2=\", Cs[2]) \n",
    "print(\"C4=\", Cs[4])\n",
    "print(\"S2=\", Ss[2])\n",
    "print(\"S4=\", Ss[4])"
   ]
  },
  {
   "cell_type": "markdown",
   "metadata": {},
   "source": [
    "### Calculate the other Stokes parameters\n",
    "\\begin{align}\n",
    "M=\\frac{2}{1-cos\\delta}\\left[C_{4}cos(2\\alpha + 4\\beta_{0}) + S_{4}sin(2\\alpha + 4\\beta_{0})\\right]\\\\\n",
    "|M|=\\frac{2}{1-cos\\delta} \\left( C_{4}^2 + S_{4}^2  \\right)^{\\frac{1}{2}}\\\\\n",
    "C=\\frac{2}{1-cos\\delta}\\left[S_{4}cos(2\\alpha + 4\\beta_{0}) - C_{4}sin(2\\alpha + 4\\beta_{0})\\right]\\\\\n",
    "S=\\frac{C_{2}}{sin\\delta sin(2\\alpha + 4\\beta_{0})}=\\frac{-S_{2}}{sin \\delta cos(2\\alpha + 4\\beta_{0})}\\\\\n",
    "|S|= \\frac{  \\left( C_{2}^2 + S_{2}^2\\right)^{\\frac{1}{2}}}{  sin^2 \\delta}\\\\\n",
    "I=C_{0} - \\frac{1+cos \\delta}{1-cos \\delta} \\left[  C_{4} cos(4 \\alpha+ 4\\beta_{0}) + S_{4} sin(4\\alpha +4\\beta_{0})     \\right]\n",
    "\\end{align} \n",
    "In order to obtain the values of the parameters we need to measure the angles $\\alpha$ and $\\beta_{0}$, where $\\alpha$ can be obtained while setting the system up and $\\beta_{0}$ can be obtained by measuring either strongly circularly polarized light or strongly linearly polarized light and using the relations above.\n",
    "\n",
    "For strongly circularly polarized light we get\n",
    "\\begin{align}\n",
    "tan(4\\beta_{0} + 2\\alpha)=\\frac{-C_{2}}{S_{2}}\n",
    "\\end{align}\n",
    "\n",
    "\n",
    "\n",
    "We also need the retardance of the half-wave-plate. Here the theoretical retardance was used. There is also an estimate of the true retardance from another measurement, which is around $\\delta$=$86-88^\\circ$, but the error on that is yet unknown, so it is not used for now."
   ]
  },
  {
   "cell_type": "code",
   "execution_count": 188,
   "metadata": {},
   "outputs": [
    {
     "name": "stdout",
     "output_type": "stream",
     "text": [
      "bbb\n"
     ]
    }
   ],
   "source": [
    "\n",
    "modulus_S=sqrt( Cs[2]**2 + Ss[2]**2  )/(np.sin(np.pi/2)**2)\n",
    "modulus_M=sqrt( Cs[4]**2 + Ss[4]**2  )*4/(1-cos(np.pi/2))\n",
    "\n",
    "\n",
    "\n",
    "# Calculate Stokes parameters from angles\n",
    "\n",
    "# Define retardance and angles\n",
    "delta=np.pi/2\n",
    "alpha=0\n",
    "# Formula for circularly polarized light\n",
    "if -Cs[2]>0:\n",
    "    print('AAa')\n",
    "    beta_0=(np.arctan2(-Cs[2],Ss[2])-2*alpha)/4\n",
    "else:\n",
    "    print('bbb')\n",
    "    beta_0=(np.arctan2(-Cs[2],Ss[2])+2*np.pi-2*alpha)/4\n",
    "\n",
    "# Calculate Stokes parameters from angles and Fourier coefficients\n",
    "M=(2/(1-np.cos(delta)))*( Cs[4]*np.cos(2*alpha+4*beta_0) + Ss[4]*np.sin(2*alpha+4*beta_0)  )\n",
    "C=(2/(1-np.cos(delta)))*( Ss[4]*np.cos(2*alpha+4*beta_0) - Cs[4]*np.sin(2*alpha+4*beta_0)  )\n",
    "# Calculate S from Cs[2] and Ss[2] each to check on plausibility (see Formula)\n",
    "S_first=Cs[2]/(np.sin(delta)*np.sin(2*alpha+4*beta_0))\n",
    "S_second=-Ss[2]/(np.sin(delta)*np.cos(2*alpha+4*beta_0))\n",
    "I=Cs[0]-((1+np.cos(delta))/(1-np.cos(delta)))*(Cs[4]*np.cos(4*alpha + 4*beta_0)+Ss[4]*np.sin(4*alpha + 4*beta_0))\n",
    "\n",
    "\n",
    "\n",
    "\n",
    "# Modulation ratio\n",
    "# This formula only applicable to horizontal polarization\n",
    "eta=M*(1-np.cos(delta))/(2*I + M*np.cos(2*alpha*(1+np.cos(delta))))"
   ]
  },
  {
   "cell_type": "markdown",
   "metadata": {},
   "source": [
    "For $\\beta_{0}$ from the formula for circular polarized light we get"
   ]
  },
  {
   "cell_type": "code",
   "execution_count": 189,
   "metadata": {},
   "outputs": [
    {
     "data": {
      "text/plain": [
       "'beta_{0}'"
      ]
     },
     "metadata": {},
     "output_type": "display_data"
    },
    {
     "data": {
      "image/png": "[encoded data removed]",
      "text/latex": [
       "$$1.0098508512373197$$"
      ],
      "text/plain": [
       "1.0098508512373197"
      ]
     },
     "metadata": {},
     "output_type": "display_data"
    },
    {
     "name": "stdout",
     "output_type": "stream",
     "text": [
      "57.86019171359196\n",
      "-Cs2/Ss2 1.2545080235683894\n"
     ]
    }
   ],
   "source": [
    "display('beta_{0}', beta_0)\n",
    "print(beta_0*180/np.pi)\n",
    "print('-Cs2/Ss2',-Cs[2]/Ss[2])\n",
    "#print((np.arctan2(-1,1)*180/np.pi) +2*180)"
   ]
  },
  {
   "cell_type": "markdown",
   "metadata": {},
   "source": [
    "### Comparison computed Stokes parameters and measured Stokes parameters\n",
    "\n",
    "$$\\vec{S}_{Meas.}=\\left(\\begin{array}{c} 1 \\\\ -0.003 \\\\ -0.067 \\\\ -0.997 \\end{array}\\right)$$"
   ]
  },
  {
   "cell_type": "code",
   "execution_count": 190,
   "metadata": {},
   "outputs": [
    {
     "name": "stdout",
     "output_type": "stream",
     "text": [
      "I= 6.51681811027543e-06\n",
      "M/I= -0.41961238239051996\n",
      "C/I= 0.04307420633333793\n",
      "S from C_{2}/I= -0.7548671887702385\n",
      "S from -S_{2}/I= -0.754867188770238\n"
     ]
    }
   ],
   "source": [
    "print('I=', I)\n",
    "print('M/I=', (M/I) )\n",
    "print('C/I=', (C/I)   )\n",
    "print('S from C_{2}/I=', S_first/I)\n",
    "print('S from -S_{2}/I=', S_second/I)"
   ]
  },
  {
   "cell_type": "markdown",
   "metadata": {},
   "source": [
    "We see that the relative Stokes parameters correspond to the expectations. The sign of M is wrong, but due to the small value it could be just a fluctuation around zero."
   ]
  },
  {
   "cell_type": "markdown",
   "metadata": {},
   "source": [
    "The magnitude of S can always be computed without knowing the angles $\\alpha$ and $\\beta_{0}$"
   ]
  },
  {
   "cell_type": "code",
   "execution_count": 191,
   "metadata": {},
   "outputs": [
    {
     "name": "stdout",
     "output_type": "stream",
     "text": [
      "|S|= 4.91933216663059e-6\n",
      "Normalized |S| with sign from S_{2}= -0.754867188770238\n",
      "Normalized |S| with sign from C_{2}= -0.754867188770238\n"
     ]
    }
   ],
   "source": [
    "print('|S|=', modulus_S)\n",
    "print('Normalized |S| with sign from S_{2}=', (modulus_S/I)*np.sign(S_second) )\n",
    "print('Normalized |S| with sign from C_{2}=', (modulus_S/I)*np.sign(S_first) )"
   ]
  },
  {
   "cell_type": "markdown",
   "metadata": {},
   "source": [
    "From that we have also a good correspondence.\n",
    "\n",
    "Absolute values for completeness."
   ]
  },
  {
   "cell_type": "code",
   "execution_count": 192,
   "metadata": {},
   "outputs": [
    {
     "name": "stdout",
     "output_type": "stream",
     "text": [
      "M= -2.7345375728583596e-06\n",
      "C= 2.8070676791883726e-07\n",
      "S_first= -4.919332166630592e-06\n",
      "S_second= -4.9193321666305886e-06\n",
      "I= 6.51681811027543e-06\n"
     ]
    }
   ],
   "source": [
    "print('M=', M)\n",
    "print('C=', C)\n",
    "print('S_first=', S_first)\n",
    "print('S_second=', S_second)\n",
    "print('I=', I)"
   ]
  },
  {
   "cell_type": "code",
   "execution_count": 193,
   "metadata": {},
   "outputs": [
    {
     "data": {
      "image/png": "[encoded data removed]",
      "text/plain": [
       "<Figure size 202.248x124.999 with 1 Axes>"
      ]
     },
     "metadata": {
      "needs_background": "light"
     },
     "output_type": "display_data"
    }
   ],
   "source": [
    "### Compare plots\n",
    "\n",
    "#plt.figure()\n",
    "#plt.plot(angle[0], power[0])\n",
    "#plt.ylabel('Intensity')\n",
    "#plt.xlabel('Degree °')\n",
    "#plt.title(r'Measurement for $\\frac{1}{4}$ WP 600-2700 nm')\n",
    "\n",
    "#I_T=np.array([Cs[0]+Cs[2]*cos(2*i) + Cs[4]*cos(4*i)\n",
    "#         + Ss[2]*sin(2*i) + Ss[4]*sin(4*i) for i in delta_beta*angle[0]/(720/(len(intensity)-1))])\n",
    "\n",
    "#print(360/(len(intensity)-1))\n",
    "#print(len(delta_beta*angle[0]))\n",
    "\n",
    "#plt.plot(angle[0], I_T , 'r--') \n",
    "#plt.ylabel('Intensity')\n",
    "#plt.xlabel('Degree °')\n",
    "#plt.title(r'Measurement for $\\frac{1}{4}$ WP 600-2700 nm')\n",
    "\n",
    "fig, ax=plt.subplots()\n",
    "plt.plot(angle[0], power[0]*10**6, label='Measurement')\n",
    "\n",
    "def I_T(x):\n",
    "    return Cs[0]+Cs[2]*np.cos(2*x*np.pi/180)+Cs[4]*np.cos(4*x*np.pi/180)+Ss[2]*np.sin(2*x*np.pi/180)+Ss[4]*np.sin(4*x*np.pi/180)\n",
    "    \n",
    "plt.plot(angle[0], I_T(np.array(angle[0]))*10**(6), '--', label='From discrete FFT' )\n",
    "ax.set_xlabel(r'$\\Theta$ (deg)')\n",
    "ax.set_ylabel(r'Intensity ($\\mu W$)')\n",
    "ax.legend(loc='lower left')\n",
    "fig.subplots_adjust(left=.19, bottom=.22, right=.99, top=.97)\n",
    "\n",
    "fig.set_size_inches(width, height)\n",
    "plt.show()\n",
    "plt.savefig('datapoints_6.pdf', fmt='pdf')\n"
   ]
  },
  {
   "cell_type": "markdown",
   "metadata": {},
   "source": [
    "### Calculation of errors on the Stokes parameters from Fourier coefficients\n",
    "\n",
    "We rearrange the equation\n",
    "\\begin{align} I_{T}(\\beta) = C_{0} + C_{2}sin2\\beta + C_{4}sin4\\beta + S_{2}sin2\\beta + S_{4}sin4\\beta  \\end{align}\n",
    "\n",
    "after the respective Fourier coefficients regarding each point like\n",
    "\\begin{align} C_{0}^{i} = I_{T_{i}} - C_{2}cos2\\beta_{i} - S_{2} sin2\\beta_{i} - C_{4}cos4\\beta_{i} - S4sin4\\beta_{i} \\end{align}\n",
    "From that we can estimate the error according to\n",
    "\\begin{align} \\sigma^{2} = \\frac{1}{N} \\sum_{i=1}^{N} (C_{0}^{i}- C_{0})^2 \\end{align}"
   ]
  },
  {
   "cell_type": "code",
   "execution_count": 194,
   "metadata": {},
   "outputs": [
    {
     "name": "stdout",
     "output_type": "stream",
     "text": [
      "C0 5.14954932384625e-06\n",
      "sigma_C0 1.40276128628055e-06\n",
      "relative_error C0 0.2724046704018777\n",
      "C2 3.846741518093652e-06\n",
      "sigma_C2= 2.6852902124726846e-06\n",
      "relative_error C2 0.6980687940278989\n"
     ]
    }
   ],
   "source": [
    "# Calculate the average deviation of the point-by-point values from the mean values C0, C2, C4, S2, S4\n",
    "\n",
    "def error_C0(ind):\n",
    "    ''' Calculate error according to formula above for C0'''\n",
    "    j=0\n",
    "    C0_i_all=[]\n",
    "    for i in ind:\n",
    "        C0_i_all.append(intensity[j] -C2*cos(2*i) -S2*sin(2*i)-C4*cos(4*i)-S4*sin(4*i))\n",
    "        j+=1\n",
    "    sigma_C0=np.sqrt(np.float(np.sum( ( C0_i_all-C0 )**2 )/N))\n",
    "    return sigma_C0\n",
    "\n",
    "\n",
    "sigma_C0=error_C0(delta_beta*angle[0]/(720/(len(intensity)-1)))\n",
    "\n",
    "\n",
    "print('C0', C0)\n",
    "print('sigma_C0',sigma_C0)\n",
    "print('relative_error C0',sigma_C0/C0)\n",
    "\n",
    "\n",
    "def error_C2(ind):\n",
    "    ''' Calculate error according to formula above for C0. Only first 30 angle positions are considered\n",
    "    , otherwise little errors in the parameters are blown out of proportion due to cos in the denominator'''\n",
    "    j=0\n",
    "    C2_i_all=[]\n",
    "    quarter_range=15\n",
    "    for i in ind:\n",
    "        C2_i_all.append( (intensity[j]-C0 -S2*sin(2*i)-C4*cos(4*i)-S4*sin(4*i))/cos(2*i))\n",
    "        j+=1\n",
    "    sigma_C2=np.sqrt(np.float(np.sum( ( C2_i_all-C2 )**2 )/N))\n",
    "    return sigma_C2\n",
    "sigma_C2=error_C2(delta_beta*angle[0]/(720/(len(intensity)-1)))\n",
    "print('C2', C2)\n",
    "print('sigma_C2=', sigma_C2)\n",
    "print('relative_error C2',sigma_C2/C2)\n",
    "\n"
   ]
  },
  {
   "cell_type": "markdown",
   "metadata": {},
   "source": [
    "### Modulation ratio\n",
    "\n",
    "As an additional test we could look at the modulation ratio, which depends on some of the calculated parameters, to check on the plausibility of the result. This is only applicable, if we have linear polarization. We can only look at $\\eta$ from the intensity \n",
    "\n",
    "\\begin{align} \\eta = \\frac{I_{max} - I_{min}}{I_{max} + I_{min}} = \\frac{M(1-cos\\delta)}{2I + Mcos2\\alpha(1+ cos\\delta)} \\end{align}\n",
    "\n"
   ]
  },
  {
   "cell_type": "code",
   "execution_count": 195,
   "metadata": {},
   "outputs": [
    {
     "name": "stdout",
     "output_type": "stream",
     "text": [
      "eta from intensity 0.7474392329889509\n",
      "eta from parameters(not applicable here) -0.26551231970877653\n"
     ]
    }
   ],
   "source": [
    "eta_intensity=(np.amax(intensity)-np.amin(intensity))/(np.amax(intensity)+np.amin(intensity))\n",
    "\n",
    "print('eta from intensity', eta_intensity)\n",
    "print('eta from parameters(not applicable here)', eta)"
   ]
  },
  {
   "cell_type": "markdown",
   "metadata": {},
   "source": [
    "### Plotting the coefficients\n",
    "\n",
    "We expect strong 0 and 2 $\\omega $ signals for circularly polarized light, which is fulfilled in this case."
   ]
  },
  {
   "cell_type": "code",
   "execution_count": 196,
   "metadata": {},
   "outputs": [
    {
     "data": {
      "text/plain": [
       "Text(0.5, 0.98, 'Fourier series coefficients')"
      ]
     },
     "execution_count": 196,
     "metadata": {},
     "output_type": "execute_result"
    },
    {
     "data": {
      "image/png": "[encoded data removed]",
      "text/plain": [
       "<Figure size 432x288 with 2 Axes>"
      ]
     },
     "metadata": {
      "needs_background": "light"
     },
     "output_type": "display_data"
    }
   ],
   "source": [
    "# Produce plots like in paper\n",
    "#%%\n",
    "t = np.arange(11)\n",
    "\n",
    "\n",
    "fig, axs = plt.subplots(1, 2, sharey=True)\n",
    "# Remove horizontal space between axes\n",
    "\n",
    "fig.subplots_adjust(wspace=0.2)\n",
    "\n",
    "# Plot each graph, and manually set the y tick values\n",
    "axs[0].stem(t, Ss)\n",
    "#axs[0].set_yscale('log')\n",
    "axs[0].text(0.8,-0.1, 'Angular Frequency', fontsize=12, transform=axs[0].transAxes)\n",
    "axs[0].text(0.6,0.7, '(Sine coeff.)', fontsize=10, transform=axs[0].transAxes)\n",
    "\n",
    "axs[0].set_ylabel('Amplitude', fontsize=12)\n",
    "axs[0].set_xticks(ticks=np.arange(0,11,2))\n",
    "axs[0].set_xticks(ticks=np.arange(0,11,2))\n",
    "axs[0].spines['right'].set_visible(False)\n",
    "\n",
    "axs[1].stem(t, Cs)\n",
    "axs[1].text(0.4,0.7, '(Cosine coeff.)', fontsize=10, transform=axs[1].transAxes)\n",
    "#axs[1].set_yticks([])\n",
    "axs[1].set_xticks(ticks=np.arange(0,11,2))\n",
    "axs[1].spines['left'].set_visible(False)\n",
    "plt.suptitle('Fourier series coefficients')"
   ]
  },
  {
   "cell_type": "markdown",
   "metadata": {},
   "source": [
    "### Calculate Stokes Parameter using FFT on intensity\n",
    "\n",
    "Do a FFT on the intensity to see if the sought-after frequencies are present"
   ]
  },
  {
   "cell_type": "code",
   "execution_count": 197,
   "metadata": {},
   "outputs": [
    {
     "ename": "ValueError",
     "evalue": "x and y must have same first dimension, but have shapes (8,) and (7,)",
     "output_type": "error",
     "traceback": [
      "\u001b[1;31m---------------------------------------------------------------------------\u001b[0m",
      "\u001b[1;31mValueError\u001b[0m                                Traceback (most recent call last)",
      "\u001b[1;32m<ipython-input-197-6a8b381a7590>\u001b[0m in \u001b[0;36m<module>\u001b[1;34m\u001b[0m\n\u001b[0;32m     13\u001b[0m \u001b[0mplt\u001b[0m\u001b[1;33m.\u001b[0m\u001b[0mtitle\u001b[0m\u001b[1;33m(\u001b[0m\u001b[1;34m'FFT from intensity'\u001b[0m\u001b[1;33m)\u001b[0m\u001b[1;33m\u001b[0m\u001b[1;33m\u001b[0m\u001b[0m\n\u001b[0;32m     14\u001b[0m \u001b[1;31m# Plot first 10 omegas\u001b[0m\u001b[1;33m\u001b[0m\u001b[1;33m\u001b[0m\u001b[1;33m\u001b[0m\u001b[0m\n\u001b[1;32m---> 15\u001b[1;33m \u001b[0mplt\u001b[0m\u001b[1;33m.\u001b[0m\u001b[0mplot\u001b[0m\u001b[1;33m(\u001b[0m\u001b[0momega_k\u001b[0m\u001b[1;33m[\u001b[0m\u001b[1;36m0\u001b[0m\u001b[1;33m:\u001b[0m\u001b[1;36m10\u001b[0m\u001b[1;33m]\u001b[0m\u001b[1;33m,\u001b[0m \u001b[0mnp\u001b[0m\u001b[1;33m.\u001b[0m\u001b[0mabs\u001b[0m\u001b[1;33m(\u001b[0m\u001b[0mA\u001b[0m\u001b[1;33m)\u001b[0m\u001b[1;33m[\u001b[0m\u001b[1;36m0\u001b[0m\u001b[1;33m:\u001b[0m\u001b[1;36m10\u001b[0m\u001b[1;33m]\u001b[0m\u001b[1;33m,\u001b[0m \u001b[1;34m'o'\u001b[0m\u001b[1;33m)\u001b[0m\u001b[1;33m\u001b[0m\u001b[1;33m\u001b[0m\u001b[0m\n\u001b[0m\u001b[0;32m     16\u001b[0m \u001b[0mplt\u001b[0m\u001b[1;33m.\u001b[0m\u001b[0mxlabel\u001b[0m\u001b[1;33m(\u001b[0m\u001b[1;34mr'Angular Frequency [$\\omega$]'\u001b[0m\u001b[1;33m)\u001b[0m\u001b[1;33m\u001b[0m\u001b[1;33m\u001b[0m\u001b[0m\n\u001b[0;32m     17\u001b[0m \u001b[0mplt\u001b[0m\u001b[1;33m.\u001b[0m\u001b[0mylabel\u001b[0m\u001b[1;33m(\u001b[0m\u001b[1;34m'Amplitude'\u001b[0m\u001b[1;33m)\u001b[0m\u001b[1;33m\u001b[0m\u001b[1;33m\u001b[0m\u001b[0m\n",
      "\u001b[1;32m~\\Anaconda3\\lib\\site-packages\\matplotlib\\pyplot.py\u001b[0m in \u001b[0;36mplot\u001b[1;34m(scalex, scaley, data, *args, **kwargs)\u001b[0m\n\u001b[0;32m   2811\u001b[0m     return gca().plot(\n\u001b[0;32m   2812\u001b[0m         *args, scalex=scalex, scaley=scaley, **({\"data\": data} if data\n\u001b[1;32m-> 2813\u001b[1;33m         is not None else {}), **kwargs)\n\u001b[0m\u001b[0;32m   2814\u001b[0m \u001b[1;33m\u001b[0m\u001b[0m\n\u001b[0;32m   2815\u001b[0m \u001b[1;33m\u001b[0m\u001b[0m\n",
      "\u001b[1;32m~\\Anaconda3\\lib\\site-packages\\matplotlib\\__init__.py\u001b[0m in \u001b[0;36minner\u001b[1;34m(ax, data, *args, **kwargs)\u001b[0m\n\u001b[0;32m   1808\u001b[0m                         \u001b[1;34m\"the Matplotlib list!)\"\u001b[0m \u001b[1;33m%\u001b[0m \u001b[1;33m(\u001b[0m\u001b[0mlabel_namer\u001b[0m\u001b[1;33m,\u001b[0m \u001b[0mfunc\u001b[0m\u001b[1;33m.\u001b[0m\u001b[0m__name__\u001b[0m\u001b[1;33m)\u001b[0m\u001b[1;33m,\u001b[0m\u001b[1;33m\u001b[0m\u001b[1;33m\u001b[0m\u001b[0m\n\u001b[0;32m   1809\u001b[0m                         RuntimeWarning, stacklevel=2)\n\u001b[1;32m-> 1810\u001b[1;33m             \u001b[1;32mreturn\u001b[0m \u001b[0mfunc\u001b[0m\u001b[1;33m(\u001b[0m\u001b[0max\u001b[0m\u001b[1;33m,\u001b[0m \u001b[1;33m*\u001b[0m\u001b[0margs\u001b[0m\u001b[1;33m,\u001b[0m \u001b[1;33m**\u001b[0m\u001b[0mkwargs\u001b[0m\u001b[1;33m)\u001b[0m\u001b[1;33m\u001b[0m\u001b[1;33m\u001b[0m\u001b[0m\n\u001b[0m\u001b[0;32m   1811\u001b[0m \u001b[1;33m\u001b[0m\u001b[0m\n\u001b[0;32m   1812\u001b[0m         inner.__doc__ = _add_data_doc(inner.__doc__,\n",
      "\u001b[1;32m~\\Anaconda3\\lib\\site-packages\\matplotlib\\axes\\_axes.py\u001b[0m in \u001b[0;36mplot\u001b[1;34m(self, scalex, scaley, *args, **kwargs)\u001b[0m\n\u001b[0;32m   1609\u001b[0m         \u001b[0mkwargs\u001b[0m \u001b[1;33m=\u001b[0m \u001b[0mcbook\u001b[0m\u001b[1;33m.\u001b[0m\u001b[0mnormalize_kwargs\u001b[0m\u001b[1;33m(\u001b[0m\u001b[0mkwargs\u001b[0m\u001b[1;33m,\u001b[0m \u001b[0mmlines\u001b[0m\u001b[1;33m.\u001b[0m\u001b[0mLine2D\u001b[0m\u001b[1;33m.\u001b[0m\u001b[0m_alias_map\u001b[0m\u001b[1;33m)\u001b[0m\u001b[1;33m\u001b[0m\u001b[1;33m\u001b[0m\u001b[0m\n\u001b[0;32m   1610\u001b[0m \u001b[1;33m\u001b[0m\u001b[0m\n\u001b[1;32m-> 1611\u001b[1;33m         \u001b[1;32mfor\u001b[0m \u001b[0mline\u001b[0m \u001b[1;32min\u001b[0m \u001b[0mself\u001b[0m\u001b[1;33m.\u001b[0m\u001b[0m_get_lines\u001b[0m\u001b[1;33m(\u001b[0m\u001b[1;33m*\u001b[0m\u001b[0margs\u001b[0m\u001b[1;33m,\u001b[0m \u001b[1;33m**\u001b[0m\u001b[0mkwargs\u001b[0m\u001b[1;33m)\u001b[0m\u001b[1;33m:\u001b[0m\u001b[1;33m\u001b[0m\u001b[1;33m\u001b[0m\u001b[0m\n\u001b[0m\u001b[0;32m   1612\u001b[0m             \u001b[0mself\u001b[0m\u001b[1;33m.\u001b[0m\u001b[0madd_line\u001b[0m\u001b[1;33m(\u001b[0m\u001b[0mline\u001b[0m\u001b[1;33m)\u001b[0m\u001b[1;33m\u001b[0m\u001b[1;33m\u001b[0m\u001b[0m\n\u001b[0;32m   1613\u001b[0m             \u001b[0mlines\u001b[0m\u001b[1;33m.\u001b[0m\u001b[0mappend\u001b[0m\u001b[1;33m(\u001b[0m\u001b[0mline\u001b[0m\u001b[1;33m)\u001b[0m\u001b[1;33m\u001b[0m\u001b[1;33m\u001b[0m\u001b[0m\n",
      "\u001b[1;32m~\\Anaconda3\\lib\\site-packages\\matplotlib\\axes\\_base.py\u001b[0m in \u001b[0;36m_grab_next_args\u001b[1;34m(self, *args, **kwargs)\u001b[0m\n\u001b[0;32m    391\u001b[0m                 \u001b[0mthis\u001b[0m \u001b[1;33m+=\u001b[0m \u001b[0margs\u001b[0m\u001b[1;33m[\u001b[0m\u001b[1;36m0\u001b[0m\u001b[1;33m]\u001b[0m\u001b[1;33m,\u001b[0m\u001b[1;33m\u001b[0m\u001b[1;33m\u001b[0m\u001b[0m\n\u001b[0;32m    392\u001b[0m                 \u001b[0margs\u001b[0m \u001b[1;33m=\u001b[0m \u001b[0margs\u001b[0m\u001b[1;33m[\u001b[0m\u001b[1;36m1\u001b[0m\u001b[1;33m:\u001b[0m\u001b[1;33m]\u001b[0m\u001b[1;33m\u001b[0m\u001b[1;33m\u001b[0m\u001b[0m\n\u001b[1;32m--> 393\u001b[1;33m             \u001b[1;32myield\u001b[0m \u001b[1;32mfrom\u001b[0m \u001b[0mself\u001b[0m\u001b[1;33m.\u001b[0m\u001b[0m_plot_args\u001b[0m\u001b[1;33m(\u001b[0m\u001b[0mthis\u001b[0m\u001b[1;33m,\u001b[0m \u001b[0mkwargs\u001b[0m\u001b[1;33m)\u001b[0m\u001b[1;33m\u001b[0m\u001b[1;33m\u001b[0m\u001b[0m\n\u001b[0m\u001b[0;32m    394\u001b[0m \u001b[1;33m\u001b[0m\u001b[0m\n\u001b[0;32m    395\u001b[0m \u001b[1;33m\u001b[0m\u001b[0m\n",
      "\u001b[1;32m~\\Anaconda3\\lib\\site-packages\\matplotlib\\axes\\_base.py\u001b[0m in \u001b[0;36m_plot_args\u001b[1;34m(self, tup, kwargs)\u001b[0m\n\u001b[0;32m    368\u001b[0m             \u001b[0mx\u001b[0m\u001b[1;33m,\u001b[0m \u001b[0my\u001b[0m \u001b[1;33m=\u001b[0m \u001b[0mindex_of\u001b[0m\u001b[1;33m(\u001b[0m\u001b[0mtup\u001b[0m\u001b[1;33m[\u001b[0m\u001b[1;33m-\u001b[0m\u001b[1;36m1\u001b[0m\u001b[1;33m]\u001b[0m\u001b[1;33m)\u001b[0m\u001b[1;33m\u001b[0m\u001b[1;33m\u001b[0m\u001b[0m\n\u001b[0;32m    369\u001b[0m \u001b[1;33m\u001b[0m\u001b[0m\n\u001b[1;32m--> 370\u001b[1;33m         \u001b[0mx\u001b[0m\u001b[1;33m,\u001b[0m \u001b[0my\u001b[0m \u001b[1;33m=\u001b[0m \u001b[0mself\u001b[0m\u001b[1;33m.\u001b[0m\u001b[0m_xy_from_xy\u001b[0m\u001b[1;33m(\u001b[0m\u001b[0mx\u001b[0m\u001b[1;33m,\u001b[0m \u001b[0my\u001b[0m\u001b[1;33m)\u001b[0m\u001b[1;33m\u001b[0m\u001b[1;33m\u001b[0m\u001b[0m\n\u001b[0m\u001b[0;32m    371\u001b[0m \u001b[1;33m\u001b[0m\u001b[0m\n\u001b[0;32m    372\u001b[0m         \u001b[1;32mif\u001b[0m \u001b[0mself\u001b[0m\u001b[1;33m.\u001b[0m\u001b[0mcommand\u001b[0m \u001b[1;33m==\u001b[0m \u001b[1;34m'plot'\u001b[0m\u001b[1;33m:\u001b[0m\u001b[1;33m\u001b[0m\u001b[1;33m\u001b[0m\u001b[0m\n",
      "\u001b[1;32m~\\Anaconda3\\lib\\site-packages\\matplotlib\\axes\\_base.py\u001b[0m in \u001b[0;36m_xy_from_xy\u001b[1;34m(self, x, y)\u001b[0m\n\u001b[0;32m    229\u001b[0m         \u001b[1;32mif\u001b[0m \u001b[0mx\u001b[0m\u001b[1;33m.\u001b[0m\u001b[0mshape\u001b[0m\u001b[1;33m[\u001b[0m\u001b[1;36m0\u001b[0m\u001b[1;33m]\u001b[0m \u001b[1;33m!=\u001b[0m \u001b[0my\u001b[0m\u001b[1;33m.\u001b[0m\u001b[0mshape\u001b[0m\u001b[1;33m[\u001b[0m\u001b[1;36m0\u001b[0m\u001b[1;33m]\u001b[0m\u001b[1;33m:\u001b[0m\u001b[1;33m\u001b[0m\u001b[1;33m\u001b[0m\u001b[0m\n\u001b[0;32m    230\u001b[0m             raise ValueError(\"x and y must have same first dimension, but \"\n\u001b[1;32m--> 231\u001b[1;33m                              \"have shapes {} and {}\".format(x.shape, y.shape))\n\u001b[0m\u001b[0;32m    232\u001b[0m         \u001b[1;32mif\u001b[0m \u001b[0mx\u001b[0m\u001b[1;33m.\u001b[0m\u001b[0mndim\u001b[0m \u001b[1;33m>\u001b[0m \u001b[1;36m2\u001b[0m \u001b[1;32mor\u001b[0m \u001b[0my\u001b[0m\u001b[1;33m.\u001b[0m\u001b[0mndim\u001b[0m \u001b[1;33m>\u001b[0m \u001b[1;36m2\u001b[0m\u001b[1;33m:\u001b[0m\u001b[1;33m\u001b[0m\u001b[1;33m\u001b[0m\u001b[0m\n\u001b[0;32m    233\u001b[0m             raise ValueError(\"x and y can be no greater than 2-D, but have \"\n",
      "\u001b[1;31mValueError\u001b[0m: x and y must have same first dimension, but have shapes (8,) and (7,)"
     ]
    },
    {
     "data": {
      "image/png": "[encoded data removed]",
      "text/plain": [
       "<Figure size 864x432 with 1 Axes>"
      ]
     },
     "metadata": {
      "needs_background": "light"
     },
     "output_type": "display_data"
    }
   ],
   "source": [
    "'''\n",
    "\n",
    "\n",
    "# Number of sample points N from above\n",
    "# Sample spacing i times omega\n",
    "\n",
    "A=fftpack.rfft(intensity)\n",
    "\n",
    "\n",
    "\n",
    "\n",
    "plt.figure(figsize = (12,6))\n",
    "plt.title('FFT from intensity')\n",
    "# Plot first 10 omegas\n",
    "plt.plot(omega_k[0:10], np.abs(A)[0:10], 'o')\n",
    "plt.xlabel(r'Angular Frequency [$\\omega$]')\n",
    "plt.ylabel('Amplitude')\n",
    "plt.axvline(x=2  )\n",
    "plt.axvline(x= 4  )\n",
    "\n",
    "# Use the same formulas again\n",
    "\n",
    "'''"
   ]
  },
  {
   "cell_type": "code",
   "execution_count": null,
   "metadata": {},
   "outputs": [],
   "source": []
  },
  {
   "cell_type": "code",
   "execution_count": null,
   "metadata": {},
   "outputs": [],
   "source": []
  }
 ],
 "metadata": {
  "kernelspec": {
   "display_name": "Python 3",
   "language": "python",
   "name": "python3"
  },
  "language_info": {
   "codemirror_mode": {
    "name": "ipython",
    "version": 3
   },
   "file_extension": ".py",
   "mimetype": "text/x-python",
   "name": "python",
   "nbconvert_exporter": "python",
   "pygments_lexer": "ipython3",
   "version": "3.7.1"
  }
 },
 "nbformat": 4,
 "nbformat_minor": 2
}
