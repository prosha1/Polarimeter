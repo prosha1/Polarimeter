{
 "cells": [
  {
   "cell_type": "markdown",
   "metadata": {},
   "source": [
    "### Fitting Matrix entries\n",
    "In this Notebook the matrix entries for both quarter-wave plates were fitted using least squares fits from scipy. In this version only some entries are non-zero like in the matrix below. Additionally they are bounded between -1 and 1. The matrix used for the fits looks like $$\\begin{bmatrix}\n",
    " a_{11} & 0 & 0 & 0\\\\\n",
    "0 & a_{22} & 0 & 0\\\\\n",
    " 0 & 0 & a_{33}& a_{34} \\\\\n",
    "  0 & 0 & a_{43} & a_{44}\n",
    "\\end{bmatrix}$$ and a $\\in$ [-1,1]\n",
    "\n",
    "The matrix for an ideal retarder with arbitrary retardance and $\\alpha$=0 looks like\n",
    "$$\\begin{bmatrix}\n",
    " 1 & 0 & 0 & 0\\\\\n",
    "0 & D^2 + G^2 & 0 & 0\\\\\n",
    " 0 & 0 & -D^2 + G^2 & 2DG \\\\\n",
    "  0 & 0 & -2DG & 2 G^2 -1\n",
    "\\end{bmatrix}$$"
   ]
  },
  {
   "cell_type": "code",
   "execution_count": 21,
   "metadata": {},
   "outputs": [],
   "source": [
    "import numpy as np\n",
    "import matplotlib.pyplot as plt\n",
    "\n",
    "from sympy import Symbol, cos, sin, pi, sqrt, symbols, acos, asin\n",
    "from sympy.matrices import *\n",
    "from sympy.utilities.lambdify import lambdify\n",
    "from sympy.interactive.printing import init_printing\n",
    "from sympy.interactive import printing\n",
    "printing.init_printing(use_latex=True)\n",
    "\n",
    "from scipy.optimize import curve_fit, minimize\n",
    "\n",
    "import os\n",
    "from os.path import join, getsize\n",
    "\n",
    "def multiple_formatter(denominator=2, number=np.pi, latex='\\pi'):\n",
    "    def gcd(a, b):\n",
    "        while b:\n",
    "            a, b = b, a%b\n",
    "        return a\n",
    "    def _multiple_formatter(x, pos):\n",
    "        den = denominator\n",
    "        num = np.int(np.rint(den*x/number))\n",
    "        com = gcd(num,den)\n",
    "        (num,den) = (int(num/com),int(den/com))\n",
    "        if den==1:\n",
    "            if num==0:\n",
    "                return r'$0$'\n",
    "            if num==1:\n",
    "                return r'$%s$'%latex\n",
    "            elif num==-1:\n",
    "                return r'$-%s$'%latex\n",
    "            else:\n",
    "                return r'$%s%s$'%(num,latex)\n",
    "        else:\n",
    "            if num==1:\n",
    "                return r'$\\frac{%s}{%s}$'%(latex,den)\n",
    "            elif num==-1:\n",
    "                return r'$\\frac{-%s}{%s}$'%(latex,den)\n",
    "            else:\n",
    "                return r'$\\frac{%s%s}{%s}$'%(num,latex,den)\n",
    "    return _multiple_formatter\n",
    "\n",
    "class Multiple:\n",
    "    def __init__(self, denominator=2, number=np.pi, latex='\\pi'):\n",
    "        self.denominator = denominator\n",
    "        self.number = number\n",
    "        self.latex = latex\n",
    "\n",
    "    def locator(self):\n",
    "        return plt.MultipleLocator(self.number / self.denominator)\n",
    "\n",
    "    def formatter(self):\n",
    "        return plt.FuncFormatter(multiple_formatter(self.denominator, self.number, self.latex))\n",
    "\n",
    "\n",
    "# define symbols\n",
    "theta = Symbol('theta') # angle for rotation matrix\n",
    "theta_0 = Symbol('theta_0')\n",
    "a11 = Symbol('a_11')\n",
    "a12 = Symbol('a_12')\n",
    "a13 = Symbol('a_13')\n",
    "a14 = Symbol('a_14')\n",
    "a21 = Symbol('a_21')\n",
    "a22 = Symbol('a_22')\n",
    "a23 = Symbol('a_23')\n",
    "a24 = Symbol('a_24')\n",
    "a31 = Symbol('a_31')\n",
    "a32 = Symbol('a_32')\n",
    "a33 = Symbol('a_33')\n",
    "a34 = Symbol('a_34')\n",
    "a41 = Symbol('a_41')\n",
    "a42 = Symbol('a_42')\n",
    "a43 = Symbol('a_43')\n",
    "a44 = Symbol('a_44')"
   ]
  },
  {
   "cell_type": "markdown",
   "metadata": {},
   "source": [
    "Define rotation and Müller matrices. Replace some entries of the general Müller matrix with values from the theoretical prediction for a better fit. In the rotation matrix an additional parameter $\\Theta_{0}$ was introduced to account for the unknown main axis of the wave-plate."
   ]
  },
  {
   "cell_type": "code",
   "execution_count": 22,
   "metadata": {},
   "outputs": [],
   "source": [
    "# matrix for a rotation\n",
    "R = Matrix([\n",
    "    [1.0, 0.0, 0.0, 0.0],\n",
    "    [0.0, cos(2*(theta+theta_0)), sin(2*(theta+theta_0)), 0.0],\n",
    "    [0.0, -sin(2*(theta+theta_0)), cos(2*(theta+theta_0)), 0.0],\n",
    "    [0.0, 0.0, 0.0, 1.0]\n",
    "])\n",
    "\n",
    "# random mueller matrix\n",
    "M = Matrix([\n",
    "    [a11, a12, a13, a14],\n",
    "    [a21, a22, a23, a24],\n",
    "    [a31, a32, a33, a34],\n",
    "    [a41, a42, a43, a44]\n",
    "])\n",
    "#M = M.subs({a21: a12, a31: a13, a32: a23, a41: a14, a42: a24, a43: a34})\n",
    "# Had to put very small values in instead of zeros, otherwise error in lambdify function, which says:\n",
    "# error: setting an array element with a sequence. Not clear what that means\n",
    "M = M.subs({a12:0, a21:0, a32:0,\n",
    "            a23:0, a41:0, a14:0, a24:0, a31:0, a13:0.00000000001,a42:0})"
   ]
  },
  {
   "cell_type": "markdown",
   "metadata": {},
   "source": [
    "### Read in data for all wave-plates and do the fit\n",
    "Data for 4 different wave-plates is read in, but we regard only the quarter-wave plates\n"
   ]
  },
  {
   "cell_type": "code",
   "execution_count": 23,
   "metadata": {},
   "outputs": [
    {
     "name": "stderr",
     "output_type": "stream",
     "text": [
      "C:\\Users\\P\\Anaconda3\\lib\\site-packages\\matplotlib\\pyplot.py:514: RuntimeWarning: More than 20 figures have been opened. Figures created through the pyplot interface (`matplotlib.pyplot.figure`) are retained until explicitly closed and may consume too much memory. (To control this warning, see the rcParam `figure.max_open_warning`).\n",
      "  max_open_warning, RuntimeWarning)\n"
     ]
    },
    {
     "name": "stdout",
     "output_type": "stream",
     "text": [
      "res_S0 0.0005463849472737506\n",
      "res_S1 697665.0511271228\n",
      "res_S2 31177096.734750226\n",
      "res_S3 28673.102696544876\n",
      "res_DOP 0.13116007669282279\n",
      "chi_2_S1_DOF 1937.958475353119\n",
      "chi_2_S2_DOF 86603.04648541729\n",
      "chi_2_S3_DOF 79.64750749040243\n",
      "res_S0 0.0001114593945418688\n",
      "res_S1 237908.96280542304\n",
      "res_S2 11222.770557945356\n",
      "res_S3 6345.287599287723\n",
      "res_DOP 0.08294455978962378\n",
      "chi_2_S1_DOF 660.858230015064\n",
      "chi_2_S2_DOF 31.17436266095932\n",
      "chi_2_S3_DOF 17.625798886910342\n"
     ]
    }
   ],
   "source": [
    "# rotate the mueller matrix\n",
    "M = R.T*M*R\n",
    "\n",
    "directories=[]\n",
    "# Read-in day 1\n",
    "for root, dirs, files in os.walk('20190418/'):\n",
    "    if files != []:\n",
    "        a=str(root)+str('/')+str(files[0])\n",
    "        directories.append(a)\n",
    "# First four directories in 20190418 are the measurements for the waveplates, with following names\n",
    "names=['1/2 600-2700', '14_600-2700','QWP01', '1/2 # 40']\n",
    "# Select only half-wave plates\n",
    "directories=directories[0:4]\n",
    "\n",
    "\n",
    "\n",
    "matrices=[]\n",
    "\n",
    "for i in np.arange(len(directories)):\n",
    "    # load data of experiment\n",
    "    data = np.loadtxt(directories[i])\n",
    "    \n",
    "    # convert angles into radian\n",
    "    data[:,1] = data[:,1] / 180. * np.pi\n",
    "    \n",
    "    #get absolute stokes vectors\n",
    "    data[:,2] *= data[:,6]\n",
    "    data[:,3] *= data[:,6]\n",
    "    data[:,4] *= data[:,6]\n",
    "    \n",
    "    # initial stokes vector (withot the optical component) for every read-in measurement\n",
    "    names=['1/2 600-2700', '1/4 600-2700','QWP01', '1/2 # 40']\n",
    "    S_i = [ 0.0000191866874*Matrix([\n",
    "        np.sqrt(0.489**2.+0.637**2.+0.594**2.), \n",
    "        -0.489, 0.637, 0.594]),\n",
    "                    0.00001380384264*Matrix([\n",
    "        np.sqrt(0.534**2.+0.616**2.+0.577**2.), \n",
    "        -0.534, 0.616, 0.577]),\n",
    "                    0.0000193642196*Matrix([\n",
    "        np.sqrt(0.481**2.+0.718**2.+0.502**2.), \n",
    "        0.481, 0.718, 0.502]),\n",
    "                    0.0000198152702*Matrix([\n",
    "        np.sqrt(0.447**2.+0.734**2.+0.510**2.), \n",
    "        0.447, 0.734, -0.510])  ]\n",
    "    # Same stokes vector, but normalized\n",
    "    S_i_normalized= [Matrix([\n",
    "        np.sqrt(0.489**2.+0.637**2.+0.594**2.), \n",
    "        -0.489, 0.637, 0.594]),\n",
    "                    Matrix([\n",
    "        np.sqrt(0.534**2.+0.616**2.+0.577**2.), \n",
    "        -0.534, 0.616, 0.577]),\n",
    "                    Matrix([\n",
    "        np.sqrt(0.481**2.+0.718**2.+0.502**2.), \n",
    "        0.481, 0.718, 0.502]),\n",
    "                    Matrix([\n",
    "        np.sqrt(0.447**2.+0.734**2.+0.510**2.), \n",
    "        0.447, 0.734, -0.510])]\n",
    "    S_i_normalized_DOP= [ Matrix([\n",
    "        np.sqrt(0.489**2.+0.637**2.+0.594**2.), \n",
    "        -0.489*99.3/100, 0.637*99.3/100, 0.594*99.3/100]),\n",
    "                          Matrix([\n",
    "        np.sqrt(0.534**2.+0.616**2.+0.577**2.), \n",
    "        -0.534*99.2/100, 0.616*99.2/100, 0.577*99.2/100]),\n",
    "                          Matrix([\n",
    "        np.sqrt(0.481**2.+0.718**2.+0.502**2.), \n",
    "        0.481*100.15/100, 0.718*100.15/100, 0.502*100.15/100]),\n",
    "                          Matrix([\n",
    "        np.sqrt(0.447**2.+0.734**2.+0.510**2.), \n",
    "        0.447*100.3/100, 0.734*100.3/100, -0.510*100.3/100])  ]\n",
    "    # simulate and fit experiment\n",
    "    \n",
    "    # take incoming stokes vector\n",
    "    # multiply incoming stokes vector by matrix M\n",
    "    S_f = M*S_i_normalized_DOP[i]\n",
    "    \n",
    "    # back function to later rotate the matrix back in case it is rotated by 45 degrees, a bit redundant \n",
    "    # but ok for now\n",
    "    \n",
    "    back= R.T*M*R\n",
    "    # Define function, which takes incoming beam and matrix parameters\n",
    "    # and returns the matrix multiplied by stokes vector\n",
    "    S_f_function = lambdify([\n",
    "        theta,theta_0,\n",
    "        a11, a22, a33, a34,a43, a44],\n",
    "        S_f, 'numpy')\n",
    "    \n",
    "    back_rotation = lambdify([\n",
    "        theta,theta_0,\n",
    "        a11, a22, a33, a34,\n",
    "        a43, a44],\n",
    "        back, 'numpy')\n",
    "    \n",
    "    def back_function(theta,theta_0,\n",
    "                       a11, a22,\n",
    "                     a33, a34,\n",
    "                        a43, a44):\n",
    "        # Give incoming matrix parameters and it returns outgoing stokes vector\n",
    "        S = back_rotation(theta, theta_0, \n",
    "                         a11, a22, a33, a34, a43, a44)\n",
    "        return S\n",
    "    \n",
    "    def fit_function_S(theta,theta_0,\n",
    "                       a11, a22, a33, a34, a43, a44):\n",
    "        # Give incoming matrix parameters and it returns outgoing stokes vector\n",
    "        S = S_f_function(theta, theta_0, \n",
    "                         a11, a22, a33, a34, a43, a44)\n",
    "        #return S[1][0]\n",
    "        #return np.concatenate((len(theta)*[S[0][0]], S[1][0], S[2][0], S[3][0]))\n",
    "        return np.concatenate((S[0][0], S[1][0], S[2][0], S[3][0]))\n",
    "    \n",
    "    #print('fit function',fit_function_S(0,1, 1, 1, 0, 1, -1, 0))\n",
    "    # Four entries in array\n",
    "    \n",
    "    S_conc = np.concatenate((data[:,6]/data[:,6], (data[:,2]*data[:,5]/100)/data[:,6],\n",
    "                             (data[:,3]*data[:,5]/100)/data[:,6], (data[:,4]*data[:,5]/100)/data[:,6]) )\n",
    "    #print(data[:,6]/np.sqrt(data[:,2]**2 + data[:,3]**2 +data[:,4]**2 ))\n",
    "    S_conc_err=np.concatenate( (data[:,6]/10, data[:,2]/10, data[:,3]/10, data[:,4]/10) )\n",
    "    # We feed fit function with angles and recorded data. It returns entries of\n",
    "    # matrix\n",
    "    \n",
    "\n",
    "    # Define bounds for the non-zero parameters\n",
    "    popt_S, pcov_S = curve_fit(fit_function_S, data[:,1], S_conc, bounds=(([-7,-1,-1,-1,-1, -1, -1],\n",
    "                                                                           [7,1,1,1,1,1,1])))\n",
    "    perr_S = np.sqrt(np.absolute(np.diag(pcov_S)))\n",
    "    \n",
    "    M_fit = Matrix([\n",
    "        [popt_S[1], 0,0,0 ],\n",
    "        [0, popt_S[2],0,0 ],\n",
    "        [0,0, popt_S[3], popt_S[4]],\n",
    "        [0,0, popt_S[5], popt_S[6]]\n",
    "    ])\n",
    "    \n",
    "    matrices.append(M_fit)\n",
    "    \n",
    "    # Some errors are also calculated put not put in use yet\n",
    "    \n",
    "    S0_fit = fit_function_S(data[:,1], *popt_S)[:data.shape[0]]\n",
    "    S0_fit_err = fit_function_S(data[:,1], *perr_S)[:data.shape[0]]\n",
    "    S1_fit = fit_function_S(data[:,1], *popt_S)[data.shape[0]:2*data.shape[0]]\n",
    "    S1_fit_err = fit_function_S(data[:,1], *perr_S)[data.shape[0]:2*data.shape[0]]\n",
    "    S2_fit = fit_function_S(data[:,1], *popt_S)[2*data.shape[0]:3*data.shape[0]]\n",
    "    S2_fit_err = fit_function_S(data[:,1], *perr_S)[2*data.shape[0]:3*data.shape[0]]\n",
    "    S3_fit = fit_function_S(data[:,1], *popt_S)[3*data.shape[0]:4*data.shape[0]]\n",
    "    S3_fit_err = fit_function_S(data[:,1], *perr_S)[3*data.shape[0]:4*data.shape[0]]\n",
    "    DOP_fit = np.sqrt(S1_fit**2.+S2_fit**2.+S3_fit**2.)/S0_fit\n",
    "    #print(S0_fit)\n",
    "    # From Gaussian error propagation\n",
    "    DOP_fit_err = np.sqrt( (S1_fit*S1_fit_err/(np.sqrt(S1_fit**2.+S2_fit**2.+S3_fit**2.)*S0_fit))**2 \n",
    "    + (S2_fit*S2_fit_err/(np.sqrt(S1_fit**2.+S2_fit**2.+S3_fit**2.)*S0_fit))**2 \n",
    "    + (S3_fit*S3_fit_err/(np.sqrt(S1_fit**2.+S2_fit**2.+S3_fit**2.)*S0_fit))**2 \n",
    "    + (S0_fit_err*np.sqrt(S1_fit**2.+S2_fit**2.+S3_fit**2.)/S0_fit**2)**2 )\n",
    "    \n",
    "    import matplotlib as mpl\n",
    "    mpl.use('pdf')\n",
    "\n",
    "    #Direct input \n",
    "    plt.rcParams['text.latex.preamble']=[r\"\\usepackage{lmodern}\"]\n",
    "    #Option\n",
    "\n",
    "    plt.rc('text', usetex=True)\n",
    "    plt.rc('xtick', labelsize=5.2)\n",
    "    plt.rc('ytick', labelsize=5.2)\n",
    "    plt.rc('axes', labelsize=5.2)\n",
    "\n",
    "    # width as measured in inkscape\n",
    "    width = 3.487\n",
    "    height = width / 1.618\n",
    "\n",
    "\n",
    "    # Select only quarter-wave plates\n",
    "    if i==1 or i==2:\n",
    "        fig, ax = plt.subplots(1, 1, sharex=True, figsize=(9.5,3.5))\n",
    "        fig.subplots_adjust(left=.19, bottom=.22, right=.99, top=.97)\n",
    "        fig.set_size_inches(width, height)\n",
    "        fig1, ax1 = plt.subplots(1, 1, sharex=True, figsize=(9.5,3.5))\n",
    "        fig2, ax2 = plt.subplots(1, 1, sharex=True, figsize=(9.5,3.5))\n",
    "        fig3, ax3 = plt.subplots(1, 1, sharex=True, figsize=(9.5,3.5))\n",
    "        \n",
    "        ax.xaxis.set_major_locator(plt.MultipleLocator(np.pi/2))\n",
    "        ax.xaxis.set_minor_locator(plt.MultipleLocator(np.pi/8))\n",
    "        ax.xaxis.set_major_formatter(plt.FuncFormatter(multiple_formatter()))\n",
    "        \n",
    "        ax.set_title(str(names[i])+ ' in W')\n",
    "        ax.plot(data[:,1], data[:,6], label='S0')\n",
    "        ax.plot(data[:,1], S0_fit*data[:,6], c='C0', linestyle='--')\n",
    "        #ax.errorbar(data[:,1], ((data[:,2]*data[:,5]/100)/data[:,6]-S1_fit), c='C0')\n",
    "        ax.plot(data[:,1], data[:,2], label='S1')\n",
    "        ax.plot(data[:,1], S1_fit*data[:,6], c='C1', linestyle='--')\n",
    "        ax1.set_title('Residuals with errorbars for S1')\n",
    "        ax1.set_xlabel('angle')\n",
    "        ax1.set_ylabel('Res S1')\n",
    "        ax1.errorbar(data[:,1], ((data[:,2]*data[:,5]/100)/data[:,6]-S1_fit),\n",
    "                     yerr=(((data[:,2]*data[:,5]/100)/data[:,6])*0.0206574007757285 +0.005) ,c='C1')\n",
    "        ax.plot(data[:,1], data[:,3], label='S2')\n",
    "        ax.plot(data[:,1], S2_fit*data[:,6], c='C2', linestyle='--')\n",
    "        ax2.set_title('Residuals with errorbars for S2')\n",
    "        ax2.set_xlabel('angle')\n",
    "        ax2.set_ylabel('Res S2')\n",
    "        ax2.errorbar(data[:,1], ((data[:,3]*data[:,5]/100)/data[:,6]-S2_fit),\n",
    "                     yerr=(((data[:,3]*data[:,5]/100)/data[:,6])*0.007608529727302959 +0.005) ,c='C2')\n",
    "        #ax.errorbar(data[:,1], ((data[:,3]*data[:,5]/100)/data[:,6]-S2_fit), c='C2')\n",
    "        ax.plot(data[:,1], data[:,4], label='S3')\n",
    "        ax.plot(data[:,1], S3_fit*data[:,6], c='C3', linestyle='--')\n",
    "        ax3.set_title('Residuals with errorbars for S3')\n",
    "        ax3.set_xlabel('angle')\n",
    "        ax3.set_ylabel('Res S3')\n",
    "        ax3.errorbar(data[:,1], ((data[:,4]*data[:,5]/100)/data[:,6]-S3_fit),\n",
    "                     yerr=(((data[:,4]*data[:,5]/100)/data[:,6])*0.0004296509074752014 +0.005) ,c='C3')\n",
    "        #ax.errorbar(data[:,1], ((data[:,4]*data[:,5]/100)/data[:,6]-S3_fit), c='C3')\n",
    "        ax.set_xlabel('angle')\n",
    "        ax.set_ylabel('stokes parameter [W]')\n",
    "        ax.legend();\n",
    "\n",
    "        fig, ax = plt.subplots(1, 1, sharex=True, figsize=(9.5,3.5))\n",
    "        \n",
    "        fig.subplots_adjust(left=.15, bottom=.16, right=.99, top=.97)\n",
    "        fig.set_size_inches(width, height)\n",
    "        \n",
    "        #ax.set_title(str(names[i])+ ' DOP')\n",
    "        ax.plot(data[:,1], 1e-2*data[:,5], label='DOP', linewidth=0.6)\n",
    "        ax.plot(data[:,1], DOP_fit, c='C0', linestyle='--', linewidth=0.6)\n",
    "        ax.plot(data[:,1], data[:,2]/data[:,6], label='M', linewidth=0.6)\n",
    "        ax.plot(data[:,1], S1_fit/S0_fit, c='C1', linestyle='--', linewidth=0.6)\n",
    "        ax.plot(data[:,1], data[:,3]/data[:,6], label='C', linewidth=0.6)\n",
    "        ax.plot(data[:,1], S2_fit/S0_fit, c='C2', linestyle='--', linewidth=0.6)\n",
    "        ax.plot(data[:,1], data[:,4]/data[:,6], label='S', linewidth=0.6)\n",
    "        ax.plot(data[:,1], S3_fit/S0_fit, c='C3', linestyle='--', linewidth=0.6)\n",
    "        ax.set_xlabel('$\\Theta\\ (deg)$')\n",
    "        ax.set_ylabel('Normalized Stokes parameter / DOP')\n",
    "        ax.legend();\n",
    "        ax.xaxis.set_major_locator(plt.MultipleLocator(np.pi/2))\n",
    "        ax.xaxis.set_minor_locator(plt.MultipleLocator(np.pi/8))\n",
    "        ax.xaxis.set_major_formatter(plt.FuncFormatter(multiple_formatter()))\n",
    "        fig.savefig(str(i)+'_fit.pdf',fmt='pdf')\n",
    "        plt.show()\n",
    "        # Added 0.005 error from polarimeter manual\n",
    "        res_S0=np.sum( (data[:,6]/data[:,6]-S0_fit)**2 )\n",
    "        res_S1=np.sum( ( ((data[:,2]*data[:,5]/100)/data[:,6]-S1_fit) /\n",
    "                        (((data[:,2]*data[:,5]/100)/data[:,6])*0.0206574007757285 +0.005))**2 ) \n",
    "        res_S2=np.sum( ( ((data[:,3]*data[:,5]/100)/data[:,6]-S2_fit) /\n",
    "                        (((data[:,3]*data[:,5]/100)/data[:,6])*0.007608529727302959 +0.005))**2 )\n",
    "        res_S3=np.sum( ( ((data[:,4]*data[:,5]/100)/data[:,6]-S3_fit) /\n",
    "                        (((data[:,4]*data[:,5]/100)/data[:,6])*0.0004296509074752014 +0.005))**2 ) \n",
    "        res_DOP=np.sum( (1e-2*data[:,5]-DOP_fit)**2 )\n",
    "    \n",
    "        chi_2_S1= res_S1/360\n",
    "        chi_2_S2= res_S2/360\n",
    "        chi_2_S3= res_S3/360\n",
    "        \n",
    "        print('res_S0', res_S0)\n",
    "        print('res_S1', res_S1)\n",
    "        print('res_S2', res_S2)\n",
    "        print('res_S3', res_S3)\n",
    "        print('res_DOP', res_DOP)\n",
    "        \n",
    "        print('chi_2_S1_DOF', chi_2_S1)\n",
    "        print('chi_2_S2_DOF', chi_2_S2)\n",
    "        print('chi_2_S3_DOF', chi_2_S3)\n",
    "    \n",
    "R_90 = Matrix([\n",
    "    [1.0, 0.0, 0.0, 0.0],\n",
    "    [0.0, cos(2*(np.pi/2)), sin(2*(np.pi/2)), 0.0],\n",
    "    [0.0, -sin(2*(np.pi/2)), cos(2*(np.pi/2)), 0.0],\n",
    "    [0.0, 0.0, 0.0, 1.0]\n",
    "])\n",
    "\n",
    "#matrices=[matrices[i]/matrices[i][0][0] for i in np.arange(len(matrices))]\n",
    "\n",
    "# Rotate the matrices by 90 degrees to get the signs right.\n",
    "\n",
    "matrices[1]=R_90.T*matrices[1]*R_90\n",
    "\n",
    "matrices[2]=R_90.T*matrices[2]*R_90"
   ]
  },
  {
   "cell_type": "markdown",
   "metadata": {},
   "source": [
    "### Test Matrices on theoretical polarizations"
   ]
  },
  {
   "cell_type": "code",
   "execution_count": 24,
   "metadata": {},
   "outputs": [
    {
     "data": {
      "text/plain": [
       "'1/4 600-2700'"
      ]
     },
     "metadata": {},
     "output_type": "display_data"
    },
    {
     "data": {
      "image/png": "[encoded data removed]",
      "text/latex": [
       "$$\\left[\\begin{matrix}1.0 & 0 & 0 & 0\\\\0 & 0.990831149096535 & -1.18775091034039 \\cdot 10^{-16} & 1.22464679914735 \\cdot 10^{-16}\\\\0 & -1.18775091034039 \\cdot 10^{-16} & 0.0209589286593019 & 1.0\\\\0 & -1.19519488509456 \\cdot 10^{-16} & -0.975950687109702 & 0.0452511986287987\\end{matrix}\\right]$$"
      ],
      "text/plain": [
       "⎡1.0            0                      0                     0          ⎤\n",
       "⎢                                                                       ⎥\n",
       "⎢ 0     0.990831149096535    -1.18775091034039e-16  1.22464679914735e-16⎥\n",
       "⎢                                                                       ⎥\n",
       "⎢ 0   -1.18775091034039e-16   0.0209589286593019            1.0         ⎥\n",
       "⎢                                                                       ⎥\n",
       "⎣ 0   -1.19519488509456e-16   -0.975950687109702     0.0452511986287987 ⎦"
      ]
     },
     "metadata": {},
     "output_type": "display_data"
    },
    {
     "data": {
      "text/plain": [
       "'QWP01'"
      ]
     },
     "metadata": {},
     "output_type": "display_data"
    },
    {
     "data": {
      "image/png": "[encoded data removed]",
      "text/latex": [
       "$$\\left[\\begin{matrix}1.0 & 0 & 0 & 0\\\\0 & 1.0 & -1.1099668717003 \\cdot 10^{-16} & 1.16344003910032 \\cdot 10^{-16}\\\\0 & -1.1099668717003 \\cdot 10^{-16} & 0.0936432672072418 & 0.950020887581918\\\\0 & -1.21080171080334 \\cdot 10^{-16} & -0.988694627419388 & 0.117275921388311\\end{matrix}\\right]$$"
      ],
      "text/plain": [
       "⎡1.0            0                     0                     0          ⎤\n",
       "⎢                                                                      ⎥\n",
       "⎢ 0            1.0           -1.1099668717003e-16  1.16344003910032e-16⎥\n",
       "⎢                                                                      ⎥\n",
       "⎢ 0   -1.1099668717003e-16    0.0936432672072418    0.950020887581918  ⎥\n",
       "⎢                                                                      ⎥\n",
       "⎣ 0   -1.21080171080334e-16   -0.988694627419388    0.117275921388311  ⎦"
      ]
     },
     "metadata": {},
     "output_type": "display_data"
    }
   ],
   "source": [
    "# Check retardance\n",
    "display(str(names[1]),matrices[1])\n",
    "display(str(names[2]),matrices[2])"
   ]
  },
  {
   "cell_type": "markdown",
   "metadata": {},
   "source": [
    "We see that these matrices come close to the desired Müller matrices for a quarter-wave plate, which looks like\n",
    "\n",
    "$$\\begin{bmatrix}\n",
    " 1 & 0 & 0 & 0\\\\\n",
    "0 & 1 & 0 & 0\\\\\n",
    " 0 & 0 & 0& 1 \\\\\n",
    "  0 & 0 & -1 & 0\n",
    "\\end{bmatrix}$$ \n",
    "There is some intensity absorption, which is about 10 % for the first plate and about 30 % percent for the second one. This is a bit high for the second plate, but still reasonable. \n",
    "There are non-zero entries for the lower part of the diagonal, which are not expected, but still in the tolerable range. \n",
    "A problem is that for both matrices there are entries, which are higher than $a_{11}$, which leads to outgoing Stokes vectors with values higher than 1. The reason for that is yet unknown, probably because of the oscillating DOP or inappropriate fit routine"
   ]
  },
  {
   "cell_type": "markdown",
   "metadata": {},
   "source": [
    "### Compare with theoretical expectations\n",
    "\n",
    "We compute the effects of ideal quarter-wave plates on Stokes vectors for different polarizations to compare with our results from the fits."
   ]
  },
  {
   "cell_type": "code",
   "execution_count": 25,
   "metadata": {},
   "outputs": [
    {
     "name": "stdout",
     "output_type": "stream",
     "text": [
      "87.2884998393510\n",
      "88.1136964206628\n"
     ]
    }
   ],
   "source": [
    "S_H=Matrix([1,1,0,0])\n",
    "S_D=Matrix([1,0,1,0])\n",
    "S_R=Matrix([1,0,0,1])\n",
    "matrix_ideal=Matrix([[1,0,0,0],[0,1,0,0],[0,0,0,1],[0,0,-1,0]])\n",
    "S_H_prime_0=matrices[1] *S_H\n",
    "S_H_prime_1=matrices[2]*S_H\n",
    "\n",
    "S_D_prime_0=matrices[1]*S_D\n",
    "S_D_prime_1=matrices[2]*S_D\n",
    "\n",
    "S_R_prime_0=matrices[1]*S_R\n",
    "S_R_prime_1=matrices[2]*S_R\n",
    "\n",
    "S_H_ideal=matrix_ideal*S_H\n",
    "S_D_ideal=matrix_ideal*S_D\n",
    "S_R_ideal=matrix_ideal*S_R\n",
    "\n",
    "delta_H_0 = (S_H[1]-S_H_prime_0[1])\n",
    "delta_H_1 = (S_H[1]-S_H_prime_1[1])\n",
    "\n",
    "delta_D_0 = (S_D[2]-S_D_prime_0[2])\n",
    "delta_D_1 = (S_D[2]-S_D_prime_0[2])\n",
    "\n",
    "retardance_0= (delta_D_0-delta_H_0)*180/2\n",
    "retardance_1= (delta_D_1-delta_H_1)*180/2\n",
    "\n",
    "print(retardance_0)\n",
    "print(retardance_1)"
   ]
  },
  {
   "cell_type": "markdown",
   "metadata": {},
   "source": [
    "If the quarter-wave plate acts upon horizontal polarization under the angle $\\alpha$=0 there is only intensity absorption, as expected."
   ]
  },
  {
   "cell_type": "code",
   "execution_count": 26,
   "metadata": {},
   "outputs": [
    {
     "data": {
      "text/plain": [
       "'Horizontal polarization on 1/4 600-2700'"
      ]
     },
     "metadata": {},
     "output_type": "display_data"
    },
    {
     "data": {
      "image/png": "[encoded data removed]",
      "text/latex": [
       "$$\\left[\\begin{matrix}1.0\\\\0.990831149096535\\\\-1.18775091034039 \\cdot 10^{-16}\\\\-1.19519488509456 \\cdot 10^{-16}\\end{matrix}\\right]$$"
      ],
      "text/plain": [
       "⎡         1.0         ⎤\n",
       "⎢                     ⎥\n",
       "⎢  0.990831149096535  ⎥\n",
       "⎢                     ⎥\n",
       "⎢-1.18775091034039e-16⎥\n",
       "⎢                     ⎥\n",
       "⎣-1.19519488509456e-16⎦"
      ]
     },
     "metadata": {},
     "output_type": "display_data"
    },
    {
     "data": {
      "text/plain": [
       "'Horizontal polarization on QWP01'"
      ]
     },
     "metadata": {},
     "output_type": "display_data"
    },
    {
     "data": {
      "image/png": "[encoded data removed]",
      "text/latex": [
       "$$\\left[\\begin{matrix}1.0\\\\1.0\\\\-1.1099668717003 \\cdot 10^{-16}\\\\-1.21080171080334 \\cdot 10^{-16}\\end{matrix}\\right]$$"
      ],
      "text/plain": [
       "⎡         1.0         ⎤\n",
       "⎢                     ⎥\n",
       "⎢         1.0         ⎥\n",
       "⎢                     ⎥\n",
       "⎢-1.1099668717003e-16 ⎥\n",
       "⎢                     ⎥\n",
       "⎣-1.21080171080334e-16⎦"
      ]
     },
     "metadata": {},
     "output_type": "display_data"
    }
   ],
   "source": [
    "display('Horizontal polarization on '+str(names[1]), S_H_prime_0)   \n",
    "display('Horizontal polarization on '+str(names[2]), S_H_prime_1)  "
   ]
  },
  {
   "cell_type": "markdown",
   "metadata": {},
   "source": [
    "If the quarter-wave plate acts upon diagonal polarization under the angle $\\alpha$=0, we get left-handed polarization, as expected."
   ]
  },
  {
   "cell_type": "code",
   "execution_count": 27,
   "metadata": {},
   "outputs": [
    {
     "data": {
      "text/plain": [
       "'Diagonal polarization on 1/4 600-2700'"
      ]
     },
     "metadata": {},
     "output_type": "display_data"
    },
    {
     "data": {
      "image/png": "[encoded data removed]",
      "text/latex": [
       "$$\\left[\\begin{matrix}1.0\\\\-1.18775091034039 \\cdot 10^{-16}\\\\0.0209589286593019\\\\-0.975950687109702\\end{matrix}\\right]$$"
      ],
      "text/plain": [
       "⎡         1.0         ⎤\n",
       "⎢                     ⎥\n",
       "⎢-1.18775091034039e-16⎥\n",
       "⎢                     ⎥\n",
       "⎢ 0.0209589286593019  ⎥\n",
       "⎢                     ⎥\n",
       "⎣ -0.975950687109702  ⎦"
      ]
     },
     "metadata": {},
     "output_type": "display_data"
    },
    {
     "data": {
      "text/plain": [
       "'Diagonal polarization on QWP01'"
      ]
     },
     "metadata": {},
     "output_type": "display_data"
    },
    {
     "data": {
      "image/png": "[encoded data removed]",
      "text/latex": [
       "$$\\left[\\begin{matrix}1.0\\\\-1.1099668717003 \\cdot 10^{-16}\\\\0.0936432672072418\\\\-0.988694627419388\\end{matrix}\\right]$$"
      ],
      "text/plain": [
       "⎡        1.0         ⎤\n",
       "⎢                    ⎥\n",
       "⎢-1.1099668717003e-16⎥\n",
       "⎢                    ⎥\n",
       "⎢ 0.0936432672072418 ⎥\n",
       "⎢                    ⎥\n",
       "⎣ -0.988694627419388 ⎦"
      ]
     },
     "metadata": {},
     "output_type": "display_data"
    }
   ],
   "source": [
    "display('Diagonal polarization on '+str(names[1]), S_D_prime_0)   \n",
    "display('Diagonal polarization on '+str(names[2]), S_D_prime_1)"
   ]
  },
  {
   "cell_type": "markdown",
   "metadata": {},
   "source": [
    "If the quarter-wave plate acts upon right-handed polarization under the angle $\\alpha$=0, we get diagonal polarization, as expected."
   ]
  },
  {
   "cell_type": "code",
   "execution_count": 28,
   "metadata": {},
   "outputs": [
    {
     "data": {
      "text/plain": [
       "'Right-handed polarization on 1/4 600-2700'"
      ]
     },
     "metadata": {},
     "output_type": "display_data"
    },
    {
     "data": {
      "image/png": "[encoded data removed]",
      "text/latex": [
       "$$\\left[\\begin{matrix}1.0\\\\1.22464679914735 \\cdot 10^{-16}\\\\1.0\\\\0.0452511986287987\\end{matrix}\\right]$$"
      ],
      "text/plain": [
       "⎡        1.0         ⎤\n",
       "⎢                    ⎥\n",
       "⎢1.22464679914735e-16⎥\n",
       "⎢                    ⎥\n",
       "⎢        1.0         ⎥\n",
       "⎢                    ⎥\n",
       "⎣ 0.0452511986287987 ⎦"
      ]
     },
     "metadata": {},
     "output_type": "display_data"
    },
    {
     "data": {
      "text/plain": [
       "'Right-handed polarization on QWP01'"
      ]
     },
     "metadata": {},
     "output_type": "display_data"
    },
    {
     "data": {
      "image/png": "[encoded data removed]",
      "text/latex": [
       "$$\\left[\\begin{matrix}1.0\\\\1.16344003910032 \\cdot 10^{-16}\\\\0.950020887581918\\\\0.117275921388311\\end{matrix}\\right]$$"
      ],
      "text/plain": [
       "⎡        1.0         ⎤\n",
       "⎢                    ⎥\n",
       "⎢1.16344003910032e-16⎥\n",
       "⎢                    ⎥\n",
       "⎢ 0.950020887581918  ⎥\n",
       "⎢                    ⎥\n",
       "⎣ 0.117275921388311  ⎦"
      ]
     },
     "metadata": {},
     "output_type": "display_data"
    },
    {
     "name": "stdout",
     "output_type": "stream",
     "text": [
      "S_H ideal Matrix([[1], [1], [0], [0]])\n",
      "S_D ideal Matrix([[1], [0], [0], [-1]])\n",
      "S_R ideal Matrix([[1], [0], [1], [0]])\n"
     ]
    }
   ],
   "source": [
    "display('Right-handed polarization on '+str(names[1]), S_R_prime_0)   \n",
    "display('Right-handed polarization on '+str(names[2]), S_R_prime_1)\n",
    "\n",
    "\n",
    "print('S_H ideal', S_H_ideal)\n",
    "print('S_D ideal', S_D_ideal)\n",
    "print('S_R ideal', S_R_ideal)"
   ]
  },
  {
   "cell_type": "markdown",
   "metadata": {},
   "source": [
    "The results are acceptable, except that some entries are higher than the intensity"
   ]
  },
  {
   "cell_type": "markdown",
   "metadata": {},
   "source": [
    "### Calculating retardance from matrix entries\n",
    "\n",
    "This section is just for testing purposes and not relevant for the determination of the retardance\n",
    "\n",
    "The Müller matrix for any retardance $\\delta$ and $\\alpha$=0 is\n",
    "$$\\begin{bmatrix}\n",
    " 1 & 0 & 0 & 0\\\\\n",
    "0 & D^2 + G^2 & 0 & 0\\\\\n",
    " 0 & 0 & -D^2 + G^2 & 2DG \\\\\n",
    "  0 & 0 & -2DG & 2 G^2 -1\n",
    "\\end{bmatrix}$$ with D=$M sin(\\frac{1}{2} \\delta)$ and G=$cos \\frac{1}{2} \\delta$\n",
    "\n",
    "We normalize the intensity to 1 for the computed matrices. To compute the retardance we use some of the entries.\n",
    "For the quarter-wave plate 600-2700 nm we get"
   ]
  },
  {
   "cell_type": "code",
   "execution_count": 29,
   "metadata": {},
   "outputs": [
    {
     "data": {
      "text/plain": [
       "'1/4 600-2700'"
      ]
     },
     "metadata": {},
     "output_type": "display_data"
    },
    {
     "data": {
      "image/png": "[encoded data removed]",
      "text/latex": [
       "$$\\left[\\begin{matrix}1.0 & 0 & 0 & 0\\\\0 & 0.990831149096535 & -1.18775091034039 \\cdot 10^{-16} & 1.22464679914735 \\cdot 10^{-16}\\\\0 & -1.18775091034039 \\cdot 10^{-16} & 0.0209589286593019 & 1.0\\\\0 & -1.19519488509456 \\cdot 10^{-16} & -0.975950687109703 & 0.0452511986287987\\end{matrix}\\right]$$"
      ],
      "text/plain": [
       "⎡1.0            0                      0                     0          ⎤\n",
       "⎢                                                                       ⎥\n",
       "⎢ 0     0.990831149096535    -1.18775091034039e-16  1.22464679914735e-16⎥\n",
       "⎢                                                                       ⎥\n",
       "⎢ 0   -1.18775091034039e-16   0.0209589286593019            1.0         ⎥\n",
       "⎢                                                                       ⎥\n",
       "⎣ 0   -1.19519488509456e-16   -0.975950687109703     0.0452511986287987 ⎦"
      ]
     },
     "metadata": {},
     "output_type": "display_data"
    },
    {
     "data": {
      "text/plain": [
       "'QWP01'"
      ]
     },
     "metadata": {},
     "output_type": "display_data"
    },
    {
     "data": {
      "image/png": "[encoded data removed]",
      "text/latex": [
       "$$\\left[\\begin{matrix}1.0 & 0 & 0 & 0\\\\0 & 1.0 & -1.1099668717003 \\cdot 10^{-16} & 1.16344003910032 \\cdot 10^{-16}\\\\0 & -1.1099668717003 \\cdot 10^{-16} & 0.0936432672072418 & 0.950020887581918\\\\0 & -1.21080171080334 \\cdot 10^{-16} & -0.988694627419388 & 0.117275921388311\\end{matrix}\\right]$$"
      ],
      "text/plain": [
       "⎡1.0            0                     0                     0          ⎤\n",
       "⎢                                                                      ⎥\n",
       "⎢ 0            1.0           -1.1099668717003e-16  1.16344003910032e-16⎥\n",
       "⎢                                                                      ⎥\n",
       "⎢ 0   -1.1099668717003e-16    0.0936432672072418    0.950020887581918  ⎥\n",
       "⎢                                                                      ⎥\n",
       "⎣ 0   -1.21080171080334e-16   -0.988694627419388    0.117275921388311  ⎦"
      ]
     },
     "metadata": {},
     "output_type": "display_data"
    },
    {
     "name": "stdout",
     "output_type": "stream",
     "text": [
      "delta from a_44= 1.52552967065749\n",
      "delta from a_44 in degree= 87.4064116506564\n",
      "delta from a_43  -1.5707963267949 + 1.21116571856647*I\n",
      "delta from a_34  1.5707963267949 - 1.2401012719321*I\n"
     ]
    }
   ],
   "source": [
    "display(str(names[1]),matrices[1]/matrices[1][0])\n",
    "display(str(names[2]),matrices[2]/matrices[2][0])\n",
    "\n",
    "M0=S_i_normalized[1]\n",
    "#print(-matrices[1][11]/matrices[1][0])\n",
    "\n",
    "# Compute the retardance from the entries\n",
    "a=acos(sqrt(((matrices[1][15]/matrices[1][0] +1)/2)))*2\n",
    "b1=asin((-matrices[1][14]/matrices[1][0])/M0[1])\n",
    "b2=asin((-matrices[1][11]/matrices[1][0])/M0[1])\n",
    "print('delta from a_44=',a)\n",
    "print('delta from a_44 in degree=',a/np.pi *180)\n",
    "print('delta from a_43 ', b1)\n",
    "print('delta from a_34 ', b2)"
   ]
  },
  {
   "cell_type": "markdown",
   "metadata": {},
   "source": [
    "We see that the values from the side entries are not really usable, but for the result from $a_{44}$ we get an accurate description of the retardance. \n",
    "For the other quarter-wave plate we get"
   ]
  },
  {
   "cell_type": "code",
   "execution_count": 30,
   "metadata": {},
   "outputs": [
    {
     "name": "stdout",
     "output_type": "stream",
     "text": [
      "-0.950020887581918\n",
      "delta from a_44= 1.45324989933852\n",
      "delta from a_44 in degree= 83.2650858099092\n",
      "delta from a_43  1.5707963267949 - 1.34842294488882*I\n",
      "delta from a_34  -1.5707963267949 + 1.30245834517586*I\n"
     ]
    }
   ],
   "source": [
    "M0=S_i_normalized[2]\n",
    "print(-matrices[2][11]/matrices[2][0])\n",
    "a=acos(sqrt(((matrices[2][15]/matrices[2][0] +1)/2)))*2\n",
    "b1=asin((-matrices[2][14]/matrices[2][0])/M0[1])\n",
    "b2=asin((-matrices[2][11]/matrices[2][0])/M0[1])\n",
    "print('delta from a_44=',a)\n",
    "print('delta from a_44 in degree=',a/np.pi *180)\n",
    "print('delta from a_43 ', b1)\n",
    "print('delta from a_34 ', b2)"
   ]
  },
  {
   "cell_type": "code",
   "execution_count": null,
   "metadata": {},
   "outputs": [],
   "source": []
  },
  {
   "cell_type": "code",
   "execution_count": null,
   "metadata": {},
   "outputs": [],
   "source": []
  },
  {
   "cell_type": "code",
   "execution_count": null,
   "metadata": {},
   "outputs": [],
   "source": []
  }
 ],
 "metadata": {
  "kernelspec": {
   "display_name": "Python 3",
   "language": "python",
   "name": "python3"
  },
  "language_info": {
   "codemirror_mode": {
    "name": "ipython",
    "version": 3
   },
   "file_extension": ".py",
   "mimetype": "text/x-python",
   "name": "python",
   "nbconvert_exporter": "python",
   "pygments_lexer": "ipython3",
   "version": "3.7.1"
  }
 },
 "nbformat": 4,
 "nbformat_minor": 2
}
