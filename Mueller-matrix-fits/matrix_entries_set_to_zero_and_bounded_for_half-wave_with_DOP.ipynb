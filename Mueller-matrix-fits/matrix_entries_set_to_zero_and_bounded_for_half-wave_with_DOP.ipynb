{
 "cells": [
  {
   "cell_type": "markdown",
   "metadata": {},
   "source": [
    "### Fitting Matrix entries\n",
    "In this Notebook the matrix entries for both half-wave plates were fitted using least squares fits. In this version only the diagonal entries are non-zero. Additionally they are bounded between -1 and 1. The matrix used for the fits looks like $$\\begin{bmatrix}\n",
    " a_{11} & 0 & 0 & 0\\\\\n",
    "0 & a_{22} & 0 & 0\\\\\n",
    " 0 & 0 & a_{33}& 0 \\\\\n",
    "  0 & 0 & 0 & a_{44}\n",
    "\\end{bmatrix}$$ and a $\\in$ [-1,1]"
   ]
  },
  {
   "cell_type": "code",
   "execution_count": 1,
   "metadata": {},
   "outputs": [],
   "source": [
    "import numpy as np\n",
    "import matplotlib.pyplot as plt\n",
    "\n",
    "from sympy import Symbol, cos, sin, pi, sqrt, symbols, acos, asin\n",
    "from sympy.matrices import *\n",
    "from sympy.utilities.lambdify import lambdify\n",
    "from sympy.interactive.printing import init_printing\n",
    "from sympy.interactive import printing\n",
    "printing.init_printing(use_latex=True)\n",
    "\n",
    "from scipy.optimize import curve_fit, minimize\n",
    "\n",
    "import os\n",
    "from os.path import join, getsize\n",
    "\n",
    "\n",
    "# The function and class below are just for formatting of the plots\n",
    "def multiple_formatter(denominator=2, number=np.pi, latex='\\pi'):\n",
    "    def gcd(a, b):\n",
    "        while b:\n",
    "            a, b = b, a%b\n",
    "        return a\n",
    "    def _multiple_formatter(x, pos):\n",
    "        den = denominator\n",
    "        num = np.int(np.rint(den*x/number))\n",
    "        com = gcd(num,den)\n",
    "        (num,den) = (int(num/com),int(den/com))\n",
    "        if den==1:\n",
    "            if num==0:\n",
    "                return r'$0$'\n",
    "            if num==1:\n",
    "                return r'$%s$'%latex\n",
    "            elif num==-1:\n",
    "                return r'$-%s$'%latex\n",
    "            else:\n",
    "                return r'$%s%s$'%(num,latex)\n",
    "        else:\n",
    "            if num==1:\n",
    "                return r'$\\frac{%s}{%s}$'%(latex,den)\n",
    "            elif num==-1:\n",
    "                return r'$\\frac{-%s}{%s}$'%(latex,den)\n",
    "            else:\n",
    "                return r'$\\frac{%s%s}{%s}$'%(num,latex,den)\n",
    "    return _multiple_formatter\n",
    "\n",
    "class Multiple:\n",
    "    def __init__(self, denominator=2, number=np.pi, latex='\\pi'):\n",
    "        self.denominator = denominator\n",
    "        self.number = number\n",
    "        self.latex = latex\n",
    "\n",
    "    def locator(self):\n",
    "        return plt.MultipleLocator(self.number / self.denominator)\n",
    "\n",
    "    def formatter(self):\n",
    "        return plt.FuncFormatter(multiple_formatter(self.denominator, self.number, self.latex))\n",
    "\n",
    "# define symbols\n",
    "theta = Symbol('theta') # angle for rotation matrix\n",
    "theta_0 = Symbol('theta_0') # angle for unknown main axis of the waveplate\n",
    "a11 = Symbol('a_11')\n",
    "a12 = Symbol('a_12')\n",
    "a13 = Symbol('a_13')\n",
    "a14 = Symbol('a_14')\n",
    "a21 = Symbol('a_21')\n",
    "a22 = Symbol('a_22')\n",
    "a23 = Symbol('a_23')\n",
    "a24 = Symbol('a_24')\n",
    "a31 = Symbol('a_31')\n",
    "a32 = Symbol('a_32')\n",
    "a33 = Symbol('a_33')\n",
    "a34 = Symbol('a_34')\n",
    "a41 = Symbol('a_41')\n",
    "a42 = Symbol('a_42')\n",
    "a43 = Symbol('a_43')\n",
    "a44 = Symbol('a_44')"
   ]
  },
  {
   "cell_type": "markdown",
   "metadata": {},
   "source": [
    "Define rotation and Müller matrices. Replace some entries of the general Müller matrix with values from the theoretical prediction for a better fit. In the rotation matrix an additional parameter $\\Theta_{0}$\n",
    "was introduced to account for the unknown main axis of the wave-plate."
   ]
  },
  {
   "cell_type": "code",
   "execution_count": 2,
   "metadata": {},
   "outputs": [],
   "source": [
    "# matrix for a rotation\n",
    "R = Matrix([\n",
    "    [1.0, 0.0, 0.0, 0.0],\n",
    "    [0.0, cos(2*(theta+theta_0)), sin(2*(theta+theta_0)), 0.0],\n",
    "    [0.0, -sin(2*(theta+theta_0)), cos(2*(theta+theta_0)), 0.0],\n",
    "    [0.0, 0.0, 0.0, 1.0]\n",
    "])\n",
    "\n",
    "# random mueller matrix\n",
    "M = Matrix([\n",
    "    [a11, a12, a13, a14],\n",
    "    [a21, a22, a23, a24],\n",
    "    [a31, a32, a33, a34],\n",
    "    [a41, a42, a43, a44]\n",
    "])\n",
    "\n",
    "# Matrix entries are set to the form of the desired matrix in the introductory paragraph\n",
    "# Had to put very small values in instead of zeros, otherwise error in lambdify function, which says:\n",
    "# error: setting an array element with a sequence. Not clear what that means\n",
    "M = M.subs({a43:0, a34:0, a12:0, a21:0, a32:0,\n",
    "            a23:0, a41:0, a14:0, a24:0, a31:0, a13:0.0000000000000000000001,a42:0.0000000000000000000001})"
   ]
  },
  {
   "cell_type": "markdown",
   "metadata": {},
   "source": [
    "### Read in data for all wave-plates and do the fit\n",
    "Data for 4 different wave-plates is read in, but we regard only the half-wave plates"
   ]
  },
  {
   "cell_type": "code",
   "execution_count": 3,
   "metadata": {},
   "outputs": [
    {
     "name": "stdout",
     "output_type": "stream",
     "text": [
      "res_S0 0.00046722099048311866\n",
      "res_S1 1449359.5716622614\n",
      "res_S2 2554474.9453252605\n",
      "res_S3 11508.368367781826\n",
      "res_DOP 0.2765464325532424\n",
      "chi_2_S1_DOF 4025.998810172948\n",
      "chi_2_S2_DOF 7095.763737014612\n",
      "chi_2_S3_DOF 31.967689910505072\n",
      "res_S0 0.00016095740399034913\n",
      "res_S1 73137.42811670808\n",
      "res_S2 1464938.241561115\n",
      "res_S3 21506.78657181012\n",
      "res_DOP 0.24112076304445446\n",
      "chi_2_S1_DOF 203.15952254641132\n",
      "chi_2_S2_DOF 4069.2728932253194\n",
      "chi_2_S3_DOF 59.741073810583664\n"
     ]
    }
   ],
   "source": [
    "# rotate the mueller matrix\n",
    "M = R.T*M*R\n",
    "\n",
    "directories=[]\n",
    "# Read-in day 1\n",
    "for root, dirs, files in os.walk('20190418/'):\n",
    "    if files != []:\n",
    "        a=str(root)+str('/')+str(files[0])\n",
    "        directories.append(a)\n",
    "# First four directories in 20190418 are the measurements for the waveplates, with following names\n",
    "names=['1/2 600-2700', '1/4 600-2700','QWP01', '1/2 # 40']\n",
    "# Select only half-wave plates\n",
    "directories=directories[0:4]\n",
    "\n",
    "\n",
    "matrices=[]\n",
    "\n",
    "for i in np.arange(len(directories)):\n",
    "    # load data of experiment\n",
    "    data = np.loadtxt(directories[i])\n",
    "    \n",
    "    # convert angles into radian\n",
    "    data[:,1] = data[:,1] / 180. * np.pi\n",
    "    \n",
    "    #get absolute stokes vectors\n",
    "    data[:,2] *= data[:,6]\n",
    "    data[:,3] *= data[:,6]\n",
    "    data[:,4] *= data[:,6]\n",
    "    \n",
    "    # initial stokes vector for all 4 wave-plates (without the optical component, measured from TXP polarimeter)\n",
    "    \n",
    "    S_i = [ 0.0000191866874*Matrix([\n",
    "        np.sqrt(0.489**2.+0.637**2.+0.594**2.), \n",
    "        -0.489, 0.637, 0.594]),\n",
    "                    0.00001380384264*Matrix([\n",
    "        np.sqrt(0.534**2.+0.616**2.+0.577**2.), \n",
    "        -0.534, 0.616, 0.577]),\n",
    "                    0.0000193642196*Matrix([\n",
    "        np.sqrt(0.481**2.+0.718**2.+0.502**2.), \n",
    "        0.481, 0.718, 0.502]),\n",
    "                    0.0000198152702*Matrix([\n",
    "        np.sqrt(0.447**2.+0.734**2.+0.510**2.), \n",
    "        0.447, 0.734, -0.510])  ]\n",
    "    \n",
    "    # normalized initial Stokes vector for all 4 wave-plates\n",
    "    \n",
    "    S_i_normalized= [Matrix([\n",
    "        np.sqrt(0.489**2.+0.637**2.+0.594**2.), \n",
    "        -0.489, 0.637, 0.594]),\n",
    "                    Matrix([\n",
    "        np.sqrt(0.534**2.+0.616**2.+0.577**2.), \n",
    "        -0.534, 0.616, 0.577]),\n",
    "                    Matrix([\n",
    "        np.sqrt(0.481**2.+0.718**2.+0.502**2.), \n",
    "        0.481, 0.718, 0.502]),\n",
    "                    Matrix([\n",
    "        np.sqrt(0.447**2.+0.734**2.+0.510**2.), \n",
    "        0.447, 0.734, -0.510])]\n",
    "    \n",
    "    \n",
    "    # normalized ininital Stokes vector which is also normalized with the measured DOP\n",
    "    S_i_normalized_DOP= [ Matrix([\n",
    "        np.sqrt(0.489**2.+0.637**2.+0.594**2.), \n",
    "        -0.489*99.3/100, 0.637*99.3/100, 0.594*99.3/100]),\n",
    "                          Matrix([\n",
    "        np.sqrt(0.534**2.+0.616**2.+0.577**2.), \n",
    "        -0.534*99.2/100, 0.616*99.2/100, 0.577*99.2/100]),\n",
    "                          Matrix([\n",
    "        np.sqrt(0.481**2.+0.718**2.+0.502**2.), \n",
    "        0.481*100.15/100, 0.718*100.15/100, 0.502*100.15/100]),\n",
    "                          Matrix([\n",
    "        np.sqrt(0.447**2.+0.734**2.+0.510**2.), \n",
    "        0.447*100.3/100, 0.734*100.3/100, -0.510*100.3/100])  ]\n",
    "    # simulate and fit experiment\n",
    "    \n",
    "    # take incoming stokes vector\n",
    "    # multiply incoming stokes vector by matrix M\n",
    "    S_f = M*S_i_normalized_DOP[i]\n",
    "    \n",
    "    # back function to later rotate the matrix back in case it is rotated by 45 degrees, a bit redundant \n",
    "    # but ok for now\n",
    "    \n",
    "    back= R.T*M*R\n",
    "    # Define function, which takes incoming beam and matrix parameters\n",
    "    # and returns the matrix multiplied by Stokes vector\n",
    "    S_f_function = lambdify([\n",
    "        theta,theta_0,\n",
    "        a11, a22, a33, a44],\n",
    "        S_f, 'numpy')\n",
    "    \n",
    "    back_rotation = lambdify([\n",
    "        theta,theta_0,\n",
    "        a11, a22, a33, a44],\n",
    "        back, 'numpy')\n",
    "    \n",
    "    def back_function(theta,theta_0,\n",
    "                       a11, a22, a33, a44):\n",
    "        # Give incoming matrix parameters and it returns outgoing stokes vector\n",
    "        S = back_rotation(theta, theta_0, \n",
    "                         a11, a22, a33, a44)\n",
    "        return S\n",
    "    \n",
    "    def fit_function_S(theta,theta_0,\n",
    "                       a11, a22, a33, a44):\n",
    "        # Give incoming matrix parameters and it returns outgoing stokes vector\n",
    "        S = S_f_function(theta, theta_0, \n",
    "                         a11, a22, a33, a44)\n",
    "        return np.concatenate((S[0][0], S[1][0], S[2][0], S[3][0]))\n",
    "    \n",
    "    # Four entries in array\n",
    "    \n",
    "    S_conc = np.concatenate((data[:,6]/data[:,6], (data[:,2]*data[:,5]/100)/data[:,6],\n",
    "                             (data[:,3]*data[:,5]/100)/data[:,6], (data[:,4]*data[:,5]/100)/data[:,6]) )\n",
    "    S_conc_err=np.concatenate((data[:,6]/data[:,6]*0.000000000000000000001,\n",
    "                               ((data[:,2]*data[:,5]/100)/data[:,6])*0.0206574007757285,\n",
    "                             ((data[:,3]*data[:,5]/100)/data[:,6])*0.007608529727302959,\n",
    "                               ((data[:,4]*data[:,5]/100)/data[:,6])*0.0004296509074752014) )\n",
    "    # We feed fit function with angles and recorded data. It returns entries of matrix\n",
    "    \n",
    "    # Set the boundaries first entry is for angle theta_0, which can be between 0 and 2 pi, rest is for\n",
    "    # matrix entries\n",
    "    popt_S, pcov_S = curve_fit(fit_function_S, data[:,1], S_conc, bounds=(([-7,-1,-1,-1,-1],[7,1,1,1,1])))\n",
    "    #\n",
    "    perr_S = np.sqrt(np.absolute(np.diag(pcov_S)))\n",
    "    #print(popt_S)\n",
    "    #print(perr_S)\n",
    "    M_fit = Matrix([\n",
    "        [popt_S[1], 0, 0, 0],\n",
    "        [0, popt_S[2], 0, 0],\n",
    "        [0, 0, popt_S[3], 0],\n",
    "        [0, 0, 0, popt_S[4]],\n",
    "    ])\n",
    "    \n",
    "    #print(popt_S[0])\n",
    "    \n",
    "    \n",
    "    matrices.append(M_fit)\n",
    "    #print( (back_function(0, *popt_S)))\n",
    "    \n",
    "    # Calculate errors but wrong for now because of perr_S\n",
    "    S0_fit = fit_function_S(data[:,1], *popt_S)[:data.shape[0]]\n",
    "    S0_fit_err = fit_function_S(data[:,1], *perr_S)[:data.shape[0]]\n",
    "    S1_fit = fit_function_S(data[:,1], *popt_S)[data.shape[0]:2*data.shape[0]]\n",
    "    S1_fit_err = fit_function_S(data[:,1], *perr_S)[data.shape[0]:2*data.shape[0]]\n",
    "    S2_fit = fit_function_S(data[:,1], *popt_S)[2*data.shape[0]:3*data.shape[0]]\n",
    "    S2_fit_err = fit_function_S(data[:,1], *perr_S)[2*data.shape[0]:3*data.shape[0]]\n",
    "    S3_fit = fit_function_S(data[:,1], *popt_S)[3*data.shape[0]:4*data.shape[0]]\n",
    "    S3_fit_err = fit_function_S(data[:,1], *perr_S)[3*data.shape[0]:4*data.shape[0]]\n",
    "    DOP_fit = np.sqrt(S1_fit**2.+S2_fit**2.+S3_fit**2.)/S0_fit\n",
    "    \n",
    "    # from Gaussian error propagation\n",
    "    \n",
    "    DOP_fit_err = np.sqrt( (S1_fit*S1_fit_err/(np.sqrt(S1_fit**2.+S2_fit**2.+S3_fit**2.)*S0_fit))**2 \n",
    "    + (S2_fit*S2_fit_err/(np.sqrt(S1_fit**2.+S2_fit**2.+S3_fit**2.)*S0_fit))**2 \n",
    "    + (S3_fit*S3_fit_err/(np.sqrt(S1_fit**2.+S2_fit**2.+S3_fit**2.)*S0_fit))**2 \n",
    "    + (S0_fit_err*np.sqrt(S1_fit**2.+S2_fit**2.+S3_fit**2.)/S0_fit**2)**2 )\n",
    "    \n",
    "    import matplotlib as mpl\n",
    "    mpl.use('pdf')\n",
    "\n",
    "    #Direct input \n",
    "    plt.rcParams['text.latex.preamble']=[r\"\\usepackage{lmodern}\"]\n",
    "    #Option\n",
    "\n",
    "    plt.rc('text', usetex=True)\n",
    "    plt.rc('xtick', labelsize=5.2)\n",
    "    plt.rc('ytick', labelsize=5.2)\n",
    "    plt.rc('axes', labelsize=5.2)\n",
    "\n",
    "    # width as measured in inkscape\n",
    "    width = 3.487\n",
    "    height = width / 1.618\n",
    "    \n",
    "    # Select only half-wave plates\n",
    "    if i==0 or i==3:\n",
    "        fig, ax = plt.subplots(1, 1, sharex=True, figsize=(9.5,3.5))\n",
    "        fig1, ax1 = plt.subplots(1, 1, sharex=True, figsize=(9.5,3.5))\n",
    "        fig2, ax2 = plt.subplots(1, 1, sharex=True, figsize=(9.5,3.5))\n",
    "        fig3, ax3 = plt.subplots(1, 1, sharex=True, figsize=(9.5,3.5))\n",
    "        \n",
    "        \n",
    "        ax.set_title(str(names[i])+ ' in W')\n",
    "        ax.plot(data[:,1], data[:,6], label='S0')\n",
    "        ax.plot(data[:,1], S0_fit*data[:,6], c='C0', linestyle='--')\n",
    "        #ax.errorbar(data[:,1], ((data[:,2]*data[:,5]/100)/data[:,6]-S1_fit), c='C0')\n",
    "        ax.plot(data[:,1], data[:,2], label='S1')\n",
    "        ax.plot(data[:,1], S1_fit*data[:,6], c='C1', linestyle='--')\n",
    "        ax1.set_title('Residuals with errorbars for S1')\n",
    "        ax1.set_xlabel('angle')\n",
    "        ax1.set_ylabel('Res S1')\n",
    "        ax1.errorbar(data[:,1], ((data[:,2]*data[:,5]/100)/data[:,6]-S1_fit),\n",
    "                     yerr=(((data[:,2]*data[:,5]/100)/data[:,6])*0.0206574007757285 +0.005) ,c='C1')\n",
    "        ax.plot(data[:,1], data[:,3], label='S2')\n",
    "        ax.plot(data[:,1], S2_fit*data[:,6], c='C2', linestyle='--')\n",
    "        ax2.set_title('Residuals with errorbars for S2')\n",
    "        ax2.set_xlabel('angle')\n",
    "        ax2.set_ylabel('Res S2')\n",
    "        ax2.errorbar(data[:,1], ((data[:,3]*data[:,5]/100)/data[:,6]-S2_fit),\n",
    "                     yerr=(((data[:,3]*data[:,5]/100)/data[:,6])*0.007608529727302959 +0.005) ,c='C2')\n",
    "        #ax.errorbar(data[:,1], ((data[:,3]*data[:,5]/100)/data[:,6]-S2_fit), c='C2')\n",
    "        ax.plot(data[:,1], data[:,4], label='S3')\n",
    "        ax.plot(data[:,1], S3_fit*data[:,6], c='C3', linestyle='--')\n",
    "        ax3.set_title('Residuals with errorbars for S3')\n",
    "        ax3.set_xlabel('angle')\n",
    "        ax3.set_ylabel('Res S3')\n",
    "        ax3.errorbar(data[:,1], ((data[:,4]*data[:,5]/100)/data[:,6]-S3_fit),\n",
    "                     yerr=(((data[:,4]*data[:,5]/100)/data[:,6])*0.0004296509074752014 +0.005) ,c='C3')\n",
    "        #ax.errorbar(data[:,1], ((data[:,4]*data[:,5]/100)/data[:,6]-S3_fit), c='C3')\n",
    "        ax.set_xlabel('angle')\n",
    "        ax.set_ylabel('stokes parameter [W]')\n",
    "        ax.legend();\n",
    "        fig, ax = plt.subplots(1, 1, sharex=True, figsize=(9.5,3.5))\n",
    "        fig.subplots_adjust(left=.19, bottom=.22, right=.99, top=.97)\n",
    "        fig.set_size_inches(width, height)\n",
    "        \n",
    "        #ax.set_title(str(names[i])+ ' DOP')\n",
    "        ax.plot(data[:,1], 1e-2*data[:,5], label='DOP', linewidth=0.7)\n",
    "        ax.plot(data[:,1], DOP_fit, c='C0', linestyle='--', linewidth=0.7)\n",
    "        ax.plot(data[:,1], data[:,2]/data[:,6], label='S1', linewidth=0.7)\n",
    "        ax.plot(data[:,1], S1_fit/S0_fit, c='C1', linestyle='--', linewidth=0.7)\n",
    "        ax.plot(data[:,1], data[:,3]/data[:,6], label='S2', linewidth=0.7)\n",
    "        ax.plot(data[:,1], S2_fit/S0_fit, c='C2', linestyle='--', linewidth=0.7)\n",
    "        ax.plot(data[:,1], data[:,4]/data[:,6], label='S3', linewidth=0.7)\n",
    "        ax.plot(data[:,1], S3_fit/S0_fit, c='C3', linestyle='--', linewidth=0.7)\n",
    "        ax.set_xlabel('$\\Theta\\ (rad)$')\n",
    "        ax.set_ylabel('Normalized Stokes parameters / DOP')\n",
    "        ax.xaxis.set_major_locator(plt.MultipleLocator(np.pi/2))\n",
    "        ax.xaxis.set_minor_locator(plt.MultipleLocator(np.pi/8))\n",
    "        ax.xaxis.set_major_formatter(plt.FuncFormatter(multiple_formatter()))\n",
    "        ax.legend();\n",
    "        fig.savefig('halfwave_'+str(i)+'_fit_bounded.pdf',fmt='pdf')\n",
    "        \n",
    "        # Added 0.005 error from polarimeter manual\n",
    "        res_S0=np.sum( (data[:,6]/data[:,6]-S0_fit)**2 )\n",
    "        res_S1=np.sum( ( ((data[:,2]*data[:,5]/100)/data[:,6]-S1_fit) /\n",
    "                        (((data[:,2]*data[:,5]/100)/data[:,6])*0.0206574007757285 +0.005))**2 ) \n",
    "        res_S2=np.sum( ( ((data[:,3]*data[:,5]/100)/data[:,6]-S2_fit) /\n",
    "                        (((data[:,3]*data[:,5]/100)/data[:,6])*0.007608529727302959 +0.005))**2 )\n",
    "        res_S3=np.sum( ( ((data[:,4]*data[:,5]/100)/data[:,6]-S3_fit) /\n",
    "                        (((data[:,4]*data[:,5]/100)/data[:,6])*0.0004296509074752014 +0.005))**2 ) \n",
    "        res_DOP=np.sum( (1e-2*data[:,5]-DOP_fit)**2 )\n",
    "    \n",
    "        chi_2_S1= res_S1/360\n",
    "        chi_2_S2= res_S2/360\n",
    "        chi_2_S3= res_S3/360\n",
    "        \n",
    "        print('res_S0', res_S0)\n",
    "        print('res_S1', res_S1)\n",
    "        print('res_S2', res_S2)\n",
    "        print('res_S3', res_S3)\n",
    "        print('res_DOP', res_DOP)\n",
    "        \n",
    "        print('chi_2_S1_DOF', chi_2_S1)\n",
    "        print('chi_2_S2_DOF', chi_2_S2)\n",
    "        print('chi_2_S3_DOF', chi_2_S3)\n",
    "        \n",
    "R_45 = Matrix([\n",
    "    [1.0, 0.0, 0.0, 0.0],\n",
    "    [0.0, cos(2*(np.pi/4)), sin(2*(np.pi/4)), 0.0],\n",
    "    [0.0, -sin(2*(np.pi/4)), cos(2*(np.pi/4)), 0.0],\n",
    "    [0.0, 0.0, 0.0, 1.0]\n",
    "])\n",
    "\n",
    "#matrices=[matrices[i]/matrices[i][0][0] for i in np.arange(len(matrices))]\n",
    "\n",
    "#matrices[0]=R_45.T*matrices[0]*R_45"
   ]
  },
  {
   "cell_type": "markdown",
   "metadata": {},
   "source": [
    "### Test Matrices on theoretical polarizations\n",
    "\n",
    "For the first matrix of the half-wave plate 600-2700 nm we see that 1/3 of the intensity was absorbed. The diagonal element have the correct signs, but the second diagonal entry is too high, while the last diagonal entry is too low\n",
    "\n",
    "For the second matrix of the half-wave plate # 40 a lot less intensity was absorbed, otherwise it shows similar behaviour to the first matrix, except that the values of the last diagonal entry is too high"
   ]
  },
  {
   "cell_type": "code",
   "execution_count": 4,
   "metadata": {},
   "outputs": [
    {
     "data": {
      "text/plain": [
       "'1/2 600-2700'"
      ]
     },
     "metadata": {},
     "output_type": "display_data"
    },
    {
     "data": {
      "image/png": "[encoded data removed]",
      "text/latex": [
       "$$\\left[\\begin{matrix}0.999999999999947 & 0 & 0 & 0\\\\0 & 1.0 & 0 & 0\\\\0 & 0 & -1.0 & 0\\\\0 & 0 & 0 & -0.985564381579408\\end{matrix}\\right]$$"
      ],
      "text/plain": [
       "⎡0.999999999999947   0    0            0         ⎤\n",
       "⎢                                                ⎥\n",
       "⎢        0          1.0   0            0         ⎥\n",
       "⎢                                                ⎥\n",
       "⎢        0           0   -1.0          0         ⎥\n",
       "⎢                                                ⎥\n",
       "⎣        0           0    0    -0.985564381579408⎦"
      ]
     },
     "metadata": {},
     "output_type": "display_data"
    },
    {
     "data": {
      "text/plain": [
       "'1/2 # 40'"
      ]
     },
     "metadata": {},
     "output_type": "display_data"
    },
    {
     "data": {
      "image/png": "[encoded data removed]",
      "text/latex": [
       "$$\\left[\\begin{matrix}0.999999991399554 & 0 & 0 & 0\\\\0 & 0.96988582453002 & 0 & 0\\\\0 & 0 & -1.0 & 0\\\\0 & 0 & 0 & -1.0\\end{matrix}\\right]$$"
      ],
      "text/plain": [
       "⎡0.999999991399554         0           0     0  ⎤\n",
       "⎢                                               ⎥\n",
       "⎢        0          0.96988582453002   0     0  ⎥\n",
       "⎢                                               ⎥\n",
       "⎢        0                 0          -1.0   0  ⎥\n",
       "⎢                                               ⎥\n",
       "⎣        0                 0           0    -1.0⎦"
      ]
     },
     "metadata": {},
     "output_type": "display_data"
    }
   ],
   "source": [
    "# Check retardance\n",
    "display(str(names[0]),matrices[0])\n",
    "display(str(names[3]),matrices[3])"
   ]
  },
  {
   "cell_type": "markdown",
   "metadata": {},
   "source": [
    "### Compare with theoretical expectations\n",
    "\n",
    "We compute the effects of ideal half-wave paltes on Stokes vectors for different polarizations to compare with our results from the fits."
   ]
  },
  {
   "cell_type": "code",
   "execution_count": 5,
   "metadata": {},
   "outputs": [
    {
     "name": "stdout",
     "output_type": "stream",
     "text": [
      "180.000000000000\n",
      "177.289724207702\n"
     ]
    }
   ],
   "source": [
    "S_H=Matrix([1,1,0,0])\n",
    "S_D=Matrix([1,0,1,0])\n",
    "S_R=Matrix([1,0,0,1])\n",
    "matrix_ideal=Matrix([[1,0,0,0],[0,1,0,0],[0,0,-1,0],[0,0,0,-1]])\n",
    "S_H_prime_0=matrices[0] *S_H\n",
    "S_H_prime_1=matrices[3]*S_H\n",
    "\n",
    "S_D_prime_0=matrices[0]*S_D\n",
    "S_D_prime_1=matrices[3]*S_D\n",
    "\n",
    "S_R_prime_0=matrices[0]*S_R\n",
    "S_R_prime_1=matrices[3]*S_R\n",
    "\n",
    "S_H_ideal=matrix_ideal*S_H\n",
    "S_D_ideal=matrix_ideal*S_D\n",
    "\n",
    "delta_H_0 = (S_H[1]-S_H_prime_0[1])\n",
    "delta_H_1 = (S_H[1]-S_H_prime_1[1])\n",
    "\n",
    "delta_D_0 = (S_D[2]-S_D_prime_0[2])\n",
    "delta_D_1 = (S_D[2]-S_D_prime_0[2])\n",
    "\n",
    "retardance_0= (delta_D_0-delta_H_0)*180/2\n",
    "retardance_1= (delta_D_1-delta_H_1)*180/2\n",
    "\n",
    "print(retardance_0)\n",
    "print(retardance_1)"
   ]
  },
  {
   "cell_type": "markdown",
   "metadata": {},
   "source": [
    "If the half-wave plate acts upon horizontal polarization under the angle $\\alpha$=0 there is not much change, which is good"
   ]
  },
  {
   "cell_type": "code",
   "execution_count": 6,
   "metadata": {},
   "outputs": [
    {
     "data": {
      "text/plain": [
       "'Horizontal polarization on 1/2 600-2700'"
      ]
     },
     "metadata": {},
     "output_type": "display_data"
    },
    {
     "data": {
      "image/png": "[encoded data removed]",
      "text/latex": [
       "$$\\left[\\begin{matrix}0.999999999999947\\\\1.0\\\\0\\\\0\\end{matrix}\\right]$$"
      ],
      "text/plain": [
       "⎡0.999999999999947⎤\n",
       "⎢                 ⎥\n",
       "⎢       1.0       ⎥\n",
       "⎢                 ⎥\n",
       "⎢        0        ⎥\n",
       "⎢                 ⎥\n",
       "⎣        0        ⎦"
      ]
     },
     "metadata": {},
     "output_type": "display_data"
    },
    {
     "data": {
      "text/plain": [
       "'Horizontal polarization on 1/2 # 40'"
      ]
     },
     "metadata": {},
     "output_type": "display_data"
    },
    {
     "data": {
      "image/png": "[encoded data removed]",
      "text/latex": [
       "$$\\left[\\begin{matrix}0.999999991399554\\\\0.96988582453002\\\\0\\\\0\\end{matrix}\\right]$$"
      ],
      "text/plain": [
       "⎡0.999999991399554⎤\n",
       "⎢                 ⎥\n",
       "⎢0.96988582453002 ⎥\n",
       "⎢                 ⎥\n",
       "⎢        0        ⎥\n",
       "⎢                 ⎥\n",
       "⎣        0        ⎦"
      ]
     },
     "metadata": {},
     "output_type": "display_data"
    }
   ],
   "source": [
    "display('Horizontal polarization on '+str(names[0]), S_H_prime_0)   \n",
    "display('Horizontal polarization on '+str(names[3]), S_H_prime_1)  "
   ]
  },
  {
   "cell_type": "markdown",
   "metadata": {},
   "source": [
    "If the half-wave plate acts upon diagonal polarization under the angle $\\alpha$\n",
    "=0, the diagonal polarization is flipped"
   ]
  },
  {
   "cell_type": "code",
   "execution_count": 7,
   "metadata": {},
   "outputs": [
    {
     "data": {
      "text/plain": [
       "'Diagonal polarization on 1/2 600-2700'"
      ]
     },
     "metadata": {},
     "output_type": "display_data"
    },
    {
     "data": {
      "image/png": "[encoded data removed]",
      "text/latex": [
       "$$\\left[\\begin{matrix}0.999999999999947\\\\0\\\\-1.0\\\\0\\end{matrix}\\right]$$"
      ],
      "text/plain": [
       "⎡0.999999999999947⎤\n",
       "⎢                 ⎥\n",
       "⎢        0        ⎥\n",
       "⎢                 ⎥\n",
       "⎢      -1.0       ⎥\n",
       "⎢                 ⎥\n",
       "⎣        0        ⎦"
      ]
     },
     "metadata": {},
     "output_type": "display_data"
    },
    {
     "data": {
      "text/plain": [
       "'Diagonal polarization on 1/2 # 40'"
      ]
     },
     "metadata": {},
     "output_type": "display_data"
    },
    {
     "data": {
      "image/png": "[encoded data removed]",
      "text/latex": [
       "$$\\left[\\begin{matrix}0.999999991399554\\\\0\\\\-1.0\\\\0\\end{matrix}\\right]$$"
      ],
      "text/plain": [
       "⎡0.999999991399554⎤\n",
       "⎢                 ⎥\n",
       "⎢        0        ⎥\n",
       "⎢                 ⎥\n",
       "⎢      -1.0       ⎥\n",
       "⎢                 ⎥\n",
       "⎣        0        ⎦"
      ]
     },
     "metadata": {},
     "output_type": "display_data"
    }
   ],
   "source": [
    "display('Diagonal polarization on '+str(names[0]), S_D_prime_0)   \n",
    "display('Diagonal polarization on '+str(names[3]), S_D_prime_1)"
   ]
  },
  {
   "cell_type": "markdown",
   "metadata": {},
   "source": [
    "If the half-wave plate acts upon right-handed polarization under the angle 𝛼 =0, the diagonal polarization is flipped"
   ]
  },
  {
   "cell_type": "code",
   "execution_count": 8,
   "metadata": {},
   "outputs": [
    {
     "data": {
      "text/plain": [
       "'Right-handed polarization on 1/2 600-2700'"
      ]
     },
     "metadata": {},
     "output_type": "display_data"
    },
    {
     "data": {
      "image/png": "[encoded data removed]",
      "text/latex": [
       "$$\\left[\\begin{matrix}0.999999999999947\\\\0\\\\0\\\\-0.985564381579408\\end{matrix}\\right]$$"
      ],
      "text/plain": [
       "⎡0.999999999999947 ⎤\n",
       "⎢                  ⎥\n",
       "⎢        0         ⎥\n",
       "⎢                  ⎥\n",
       "⎢        0         ⎥\n",
       "⎢                  ⎥\n",
       "⎣-0.985564381579408⎦"
      ]
     },
     "metadata": {},
     "output_type": "display_data"
    },
    {
     "data": {
      "text/plain": [
       "'Right-handed polarization on 1/2 # 40'"
      ]
     },
     "metadata": {},
     "output_type": "display_data"
    },
    {
     "data": {
      "image/png": "[encoded data removed]",
      "text/latex": [
       "$$\\left[\\begin{matrix}0.999999991399554\\\\0\\\\0\\\\-1.0\\end{matrix}\\right]$$"
      ],
      "text/plain": [
       "⎡0.999999991399554⎤\n",
       "⎢                 ⎥\n",
       "⎢        0        ⎥\n",
       "⎢                 ⎥\n",
       "⎢        0        ⎥\n",
       "⎢                 ⎥\n",
       "⎣      -1.0       ⎦"
      ]
     },
     "metadata": {},
     "output_type": "display_data"
    }
   ],
   "source": [
    "display('Right-handed polarization on '+str(names[0]), S_R_prime_0)   \n",
    "display('Right-handed polarization on '+str(names[3]), S_R_prime_1)\n",
    "\n",
    "#print('S_H strich 0',S_H_prime_0/S_H_prime_0[0])\n",
    "#print('S_D strich 0',S_D_prime_0/S_D_prime_0[0])\n",
    "#print('S_H strich 1',S_H_prime_1/S_H_prime_1[0])\n",
    "#print('S_D strich 1',S_D_prime_1/S_D_prime_1[0])\n",
    "#print('S_H ideal', S_H_ideal)\n",
    "#print('S_D ideal', S_D_ideal)\n",
    "\n",
    "# Für erste Matrix"
   ]
  },
  {
   "cell_type": "markdown",
   "metadata": {},
   "source": [
    "### Calculating retardance from matrix entries\n",
    "The Müller matrix for any retardance $\\delta$ and $\\alpha$=0 is\n",
    "$$\\begin{bmatrix}\n",
    " 1 & 0 & 0 & 0\\\\\n",
    "0 & D^2 + G^2 & 0 & 0\\\\\n",
    " 0 & 0 & -D^2 + G^2 & 2DG \\\\\n",
    "  0 & 0 & -2DG & 2 G^2 -1\n",
    "\\end{bmatrix}$$ with D=$M sin(\\frac{1}{2} \\delta)$ and G=$cos \\frac{1}{2} \\delta$\n",
    "\n",
    "We normalize the intensity to 1 for the computed matrices. To compute the retardance we use some of the entries.\n",
    "For the half-wave plate 600-2700 nm we get"
   ]
  },
  {
   "cell_type": "code",
   "execution_count": 9,
   "metadata": {},
   "outputs": [
    {
     "data": {
      "text/plain": [
       "'1/2 600-2700'"
      ]
     },
     "metadata": {},
     "output_type": "display_data"
    },
    {
     "data": {
      "image/png": "[encoded data removed]",
      "text/latex": [
       "$$\\left[\\begin{matrix}1.0 & 0 & 0 & 0\\\\0 & 1.00000000000005 & 0 & 0\\\\0 & 0 & -1.00000000000005 & 0\\\\0 & 0 & 0 & -0.98556438157946\\end{matrix}\\right]$$"
      ],
      "text/plain": [
       "⎡1.0         0                  0                  0        ⎤\n",
       "⎢                                                           ⎥\n",
       "⎢ 0   1.00000000000005          0                  0        ⎥\n",
       "⎢                                                           ⎥\n",
       "⎢ 0          0          -1.00000000000005          0        ⎥\n",
       "⎢                                                           ⎥\n",
       "⎣ 0          0                  0          -0.98556438157946⎦"
      ]
     },
     "metadata": {},
     "output_type": "display_data"
    },
    {
     "data": {
      "text/plain": [
       "'1/2 # 40'"
      ]
     },
     "metadata": {},
     "output_type": "display_data"
    },
    {
     "data": {
      "image/png": "[encoded data removed]",
      "text/latex": [
       "$$\\left[\\begin{matrix}1.0 & 0 & 0 & 0\\\\0 & 0.969885832871471 & 0 & 0\\\\0 & 0 & -1.00000000860045 & 0\\\\0 & 0 & 0 & -1.00000000860045\\end{matrix}\\right]$$"
      ],
      "text/plain": [
       "⎡1.0          0                  0                  0        ⎤\n",
       "⎢                                                            ⎥\n",
       "⎢ 0   0.969885832871471          0                  0        ⎥\n",
       "⎢                                                            ⎥\n",
       "⎢ 0           0          -1.00000000860045          0        ⎥\n",
       "⎢                                                            ⎥\n",
       "⎣ 0           0                  0          -1.00000000860045⎦"
      ]
     },
     "metadata": {},
     "output_type": "display_data"
    },
    {
     "name": "stdout",
     "output_type": "stream",
     "text": [
      "delta from last entry= 2.97147220260531\n",
      "delta from last entry in degree= 170.252816149727\n",
      "delta from side entries  0\n",
      "delta from side entries  0\n"
     ]
    }
   ],
   "source": [
    "display(str(names[0]),matrices[0]/matrices[0][0])\n",
    "display(str(names[3]),matrices[3]/matrices[3][0])\n",
    "\n",
    "M0=S_i_normalized[0]\n",
    "#print(-matrices[1][11]/matrices[1][0])\n",
    "\n",
    "# Compute the retardance from the entries\n",
    "a=acos(sqrt(((matrices[0][15]/matrices[0][0] +1)/2)))*2\n",
    "b1=asin((-matrices[0][14]/matrices[0][0])/M0[0])\n",
    "b2=asin((-matrices[0][11]/matrices[0][0])/M0[0])\n",
    "print('delta from last entry=',a)\n",
    "print('delta from last entry in degree=',a/np.pi *180)\n",
    "print('delta from side entries ', b1)\n",
    "print('delta from side entries ', b2)"
   ]
  },
  {
   "cell_type": "markdown",
   "metadata": {},
   "source": [
    "For the other half-wave plate"
   ]
  },
  {
   "cell_type": "code",
   "execution_count": 10,
   "metadata": {},
   "outputs": [
    {
     "name": "stdout",
     "output_type": "stream",
     "text": [
      "delta from last entry= 2*acos(6.55760852407342e-5*I)\n",
      "delta from last entry in degree= 114.591559026165*acos(6.55760852407342e-5*I)\n",
      "delta from side entries  0\n",
      "delta from side entries  0\n"
     ]
    }
   ],
   "source": [
    "M0=S_i_normalized[3]\n",
    "#print(-matrices[1][11]/matrices[1][0])\n",
    "\n",
    "# Compute the retardance from the entries\n",
    "a=acos(sqrt(((matrices[3][15]/matrices[3][0] +1)/2)))*2\n",
    "b1=asin((-matrices[3][14]/matrices[3][0])/M0[3])\n",
    "b2=asin((-matrices[3][11]/matrices[3][0])/M0[3])\n",
    "print('delta from last entry=',a)\n",
    "print('delta from last entry in degree=',a/np.pi *180)\n",
    "print('delta from side entries ', b1)\n",
    "print('delta from side entries ', b2)"
   ]
  },
  {
   "cell_type": "code",
   "execution_count": null,
   "metadata": {},
   "outputs": [],
   "source": []
  },
  {
   "cell_type": "code",
   "execution_count": null,
   "metadata": {},
   "outputs": [],
   "source": []
  },
  {
   "cell_type": "code",
   "execution_count": null,
   "metadata": {},
   "outputs": [],
   "source": []
  }
 ],
 "metadata": {
  "kernelspec": {
   "display_name": "Python 3",
   "language": "python",
   "name": "python3"
  },
  "language_info": {
   "codemirror_mode": {
    "name": "ipython",
    "version": 3
   },
   "file_extension": ".py",
   "mimetype": "text/x-python",
   "name": "python",
   "nbconvert_exporter": "python",
   "pygments_lexer": "ipython3",
   "version": "3.7.1"
  }
 },
 "nbformat": 4,
 "nbformat_minor": 2
}
